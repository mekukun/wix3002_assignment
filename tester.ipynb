{
 "cells": [
  {
   "cell_type": "code",
   "execution_count": 1,
   "metadata": {},
   "outputs": [
    {
     "name": "stderr",
     "output_type": "stream",
     "text": [
      "/Users/waizwafiq/Documents/FSKTM/Semester 6/WIX3002 Social Informatics/wix3002_assignment/wix3002_assignment/lib/python3.9/site-packages/urllib3/__init__.py:34: NotOpenSSLWarning: urllib3 v2.0 only supports OpenSSL 1.1.1+, currently the 'ssl' module is compiled with 'LibreSSL 2.8.3'. See: https://github.com/urllib3/urllib3/issues/3020\n",
      "  warnings.warn(\n"
     ]
    },
    {
     "name": "stdout",
     "output_type": "stream",
     "text": [
      "Rendering Login Page (1) |===================>|\n",
      "Rendering Login Page (2) |===================>|\n",
      "Rendering Login Page (3) |===================>|\n",
      "Rendering Home Page |==================>.|\n"
     ]
    }
   ],
   "source": [
    "from scraper import Scraper\n",
    "\n",
    "scraper = Scraper()"
   ]
  },
  {
   "attachments": {},
   "cell_type": "markdown",
   "metadata": {},
   "source": [
    "# @DrZahidHamidi"
   ]
  },
  {
   "cell_type": "code",
   "execution_count": 13,
   "metadata": {},
   "outputs": [
    {
     "name": "stdout",
     "output_type": "stream",
     "text": [
      "User Existence Check |===================>|\n",
      "Loading Following List |===================>|\n",
      "Loading More Followings |===================>|\n",
      "Loading More Followings |===================>|\n",
      "Loading More Followings |===================>|\n",
      "Loading More Followings |===================>|\n",
      "Loading More Followings |===================>|\n",
      "Loading More Followings |===================>|\n",
      "Loading More Followings |===================>|\n",
      "Loading More Followings |===================>|\n",
      "Loading More Followings |===================>|\n",
      "Loading More Followings |===================>|\n",
      "Loading More Followings |===================>|\n",
      "Loading More Followings |===================>|\n",
      "Loading More Followings |===================>|\n",
      "Loading More Followings |===================>|\n",
      "Loading More Followings |===================>|\n",
      "Loading More Followings |===================>|\n",
      "Loading More Followings |===================>|\n",
      "Loading More Followings |===================>|\n",
      "Loading More Followings |===================>|\n",
      "Loading More Followings |===================>|\n",
      "Loading More Followings |===================>|\n",
      "Loading More Followings |===================>|\n",
      "Loading More Followings |===================>|\n",
      "Loading More Followings |===================>|\n",
      "Loading More Followings |===================>|\n",
      "Loading More Followings |===================>|\n",
      "Loading More Followings |===================>|\n",
      "Loading More Followings |===================>|\n",
      "Loading More Followings |===================>|\n",
      "Loading More Followings |===================>|\n",
      "Loading More Followings |===================>|\n",
      "Loading More Followings |===================>|\n",
      "Loading More Followings |===================>|\n",
      "Loading More Followings |===================>|\n",
      "Loading More Followings |===================>|\n",
      "Loading More Followings |===================>|\n",
      "Loading More Followings |===================>|\n",
      "Loading More Followings |===================>|\n",
      "Loading More Followings |===================>|\n",
      "Loading More Followings |===================>|\n",
      "Loading More Followings |===================>|\n",
      "Loading More Followings |===================>|\n",
      "Loading More Followings |===================>|\n",
      "Loading More Followings |===================>|\n",
      "Loading More Followings |===================>|\n",
      "Loading More Followings |===================>|\n",
      "Loading More Followings |===================>|\n",
      "Loading More Followings |===================>|\n",
      "Loading More Followings |===================>|\n",
      "Loading More Followings |===================>|\n",
      "Loading More Followings |===================>|\n",
      "Loading More Followings |===================>|\n",
      "Loading More Followings |===================>|\n",
      "Loading More Followings |===================>|\n",
      "Loading More Followings |===================>|\n",
      "Loading More Followings |===================>|\n",
      "Loading More Followings |===================>|\n",
      "Loading More Followings |===================>|\n",
      "Loading More Followings |===================>|\n",
      "Loading More Followings |===================>|\n",
      "Loading More Followings |===================>|\n",
      "Loading More Followings |===================>|\n",
      "Loading More Followings |===================>|\n",
      "Loading More Followings |===================>|\n",
      "Loading More Followings |===================>|\n",
      "Loading More Followings |===================>|\n",
      "Loading More Followings |===================>|\n",
      "Followings fetched: 2027\n",
      "Searching for redundancies and filtering to at most 2000 followings...\n",
      "Completed!\n",
      "User Existence Check |===================>|\n",
      "Loading Followers List |===================>|\n",
      "Loading More Followers |===================>|\n",
      "Followers fetched: 0\n",
      "Searching for redundancies and filtering to at most 2000 followers...\n",
      "Completed!\n"
     ]
    }
   ],
   "source": [
    "zahidhamidi_followings = scraper.fetch_followings(\"DrZahidHamidi\", limit=2000)"
   ]
  },
  {
   "cell_type": "code",
   "execution_count": 24,
   "metadata": {},
   "outputs": [
    {
     "name": "stdout",
     "output_type": "stream",
     "text": [
      "1000\n"
     ]
    }
   ],
   "source": [
    "import pandas as pd\n",
    "df = pd.DataFrame(zahidhamidi_followings[:1000])\n",
    "print(len(df))"
   ]
  },
  {
   "cell_type": "code",
   "execution_count": 25,
   "metadata": {},
   "outputs": [],
   "source": [
    "df.to_csv('DrZahidHamidi_followings.csv', index=False)"
   ]
  },
  {
   "cell_type": "code",
   "execution_count": 19,
   "metadata": {},
   "outputs": [
    {
     "name": "stdout",
     "output_type": "stream",
     "text": [
      "User Existence Check |===================>|\n",
      "Loading Followers List |===================>|\n",
      "Loading More Followers |===================>|\n",
      "Loading More Followers |===================>|\n",
      "Loading More Followers |===================>|\n",
      "Loading More Followers |===================>|\n",
      "Loading More Followers |===================>|\n",
      "Loading More Followers |===================>|\n",
      "Loading More Followers |===================>|\n",
      "Loading More Followers |===================>|\n",
      "Loading More Followers |===================>|\n",
      "Loading More Followers |===================>|\n",
      "Loading More Followers |===================>|\n",
      "Loading More Followers |===================>|\n",
      "Loading More Followers |===================>|\n",
      "Loading More Followers |===================>|\n",
      "Loading More Followers |===================>|\n",
      "Loading More Followers |===================>|\n",
      "Loading More Followers |===================>|\n",
      "Loading More Followers |===================>|\n",
      "Loading More Followers |===================>|\n",
      "Loading More Followers |===================>|\n",
      "Loading More Followers |===================>|\n",
      "Loading More Followers |===================>|\n",
      "Loading More Followers |===================>|\n",
      "Loading More Followers |===================>|\n",
      "Loading More Followers |===================>|\n",
      "Loading More Followers |===================>|\n",
      "Loading More Followers |===================>|\n",
      "Loading More Followers |===================>|\n",
      "Loading More Followers |===================>|\n",
      "Loading More Followers |===================>|\n",
      "Loading More Followers |===================>|\n",
      "Loading More Followers |===================>|\n",
      "Loading More Followers |===================>|\n",
      "Loading More Followers |===================>|\n",
      "Loading More Followers |===================>|\n",
      "Loading More Followers |===================>|\n",
      "Loading More Followers |===================>|\n",
      "Loading More Followers |===================>|\n",
      "Loading More Followers |===================>|\n",
      "Loading More Followers |===================>|\n",
      "Loading More Followers |===================>|\n",
      "Loading More Followers |===================>|\n",
      "Loading More Followers |===================>|\n",
      "Loading More Followers |===================>|\n",
      "Loading More Followers |===================>|\n",
      "Loading More Followers |===================>|\n",
      "Loading More Followers |===================>|\n",
      "Loading More Followers |===================>|\n",
      "Loading More Followers |===================>|\n",
      "Loading More Followers |===================>|\n",
      "Followers fetched: 1683\n",
      "Searching for redundancies and filtering to at most 2000 followers...\n",
      "Completed!\n"
     ]
    }
   ],
   "source": [
    "zahidhamidi_followers = scraper.fetch_followers(\"DrZahidHamidi\", limit=2000)"
   ]
  },
  {
   "cell_type": "code",
   "execution_count": 28,
   "metadata": {},
   "outputs": [
    {
     "name": "stdout",
     "output_type": "stream",
     "text": [
      "1000\n"
     ]
    }
   ],
   "source": [
    "import pandas as pd\n",
    "df = pd.DataFrame(zahidhamidi_followers[:1000])\n",
    "print(len(df))"
   ]
  },
  {
   "cell_type": "code",
   "execution_count": 29,
   "metadata": {},
   "outputs": [],
   "source": [
    "df.to_csv('DrZahidHamidi_followers.csv', index=False)"
   ]
  },
  {
   "attachments": {},
   "cell_type": "markdown",
   "metadata": {},
   "source": [
    "# @AbgJohariOpeng"
   ]
  },
  {
   "cell_type": "code",
   "execution_count": 30,
   "metadata": {},
   "outputs": [
    {
     "name": "stdout",
     "output_type": "stream",
     "text": [
      "User Existence Check |===================>|\n",
      "Loading Following List |===================>|\n",
      "Loading More Followings |===================>|\n",
      "Followings fetched: 3\n",
      "Searching for redundancies and filtering to at most 1200 followings...\n",
      "Completed!\n"
     ]
    }
   ],
   "source": [
    "abgjohari_followings = scraper.fetch_followings(\"AbgJohariOpeng\", limit=1200)"
   ]
  },
  {
   "cell_type": "code",
   "execution_count": 33,
   "metadata": {},
   "outputs": [
    {
     "name": "stdout",
     "output_type": "stream",
     "text": [
      "3\n"
     ]
    }
   ],
   "source": [
    "import pandas as pd\n",
    "df = pd.DataFrame(abgjohari_followings[:1000])\n",
    "print(len(df))"
   ]
  },
  {
   "cell_type": "code",
   "execution_count": 34,
   "metadata": {},
   "outputs": [],
   "source": [
    "df.to_csv('AbgJohariOpeng_followings.csv', index=False)"
   ]
  },
  {
   "cell_type": "code",
   "execution_count": 35,
   "metadata": {},
   "outputs": [
    {
     "name": "stdout",
     "output_type": "stream",
     "text": [
      "User Existence Check |===================>|\n",
      "Loading Followers List |===================>|\n",
      "Loading More Followers |===================>|\n",
      "Followers fetched: 0\n",
      "Searching for redundancies and filtering to at most 1200 followers...\n",
      "Completed!\n"
     ]
    }
   ],
   "source": [
    "abgjohari_followers = scraper.fetch_followers(\"AbgJohariOpeng\", limit=1200)"
   ]
  },
  {
   "cell_type": "code",
   "execution_count": 36,
   "metadata": {},
   "outputs": [
    {
     "name": "stdout",
     "output_type": "stream",
     "text": [
      "0\n"
     ]
    }
   ],
   "source": [
    "import pandas as pd\n",
    "df = pd.DataFrame(abgjohari_followers[:1000])\n",
    "print(len(df))"
   ]
  },
  {
   "cell_type": "code",
   "execution_count": 37,
   "metadata": {},
   "outputs": [],
   "source": [
    "df.to_csv('AbgJohariOpeng_followers.csv', index=False)"
   ]
  },
  {
   "attachments": {},
   "cell_type": "markdown",
   "metadata": {},
   "source": [
    "# @IsmailSabri60"
   ]
  },
  {
   "cell_type": "code",
   "execution_count": 41,
   "metadata": {},
   "outputs": [
    {
     "name": "stdout",
     "output_type": "stream",
     "text": [
      "User Existence Check |===================>|\n",
      "Loading Following List |===================>|\n",
      "Loading More Followings |===================>|\n",
      "Loading More Followings |===================>|\n",
      "Loading More Followings |===================>|\n",
      "Loading More Followings |===================>|\n",
      "Loading More Followings |===================>|\n",
      "Loading More Followings |===================>|\n",
      "Loading More Followings |===================>|\n",
      "Loading More Followings |===================>|\n",
      "Loading More Followings |===================>|\n",
      "Loading More Followings |===================>|\n",
      "Loading More Followings |===================>|\n",
      "Loading More Followings |===================>|\n",
      "Loading More Followings |===================>|\n",
      "Loading More Followings |===================>|\n",
      "Loading More Followings |===================>|\n",
      "Loading More Followings |===================>|\n",
      "Loading More Followings |===================>|\n",
      "Loading More Followings |===================>|\n",
      "Loading More Followings |===================>|\n",
      "Loading More Followings |===================>|\n",
      "Followings fetched: 525\n",
      "Searching for redundancies and filtering to at most 1200 followings...\n",
      "Completed!\n"
     ]
    }
   ],
   "source": [
    "ismailsabri_followings = scraper.fetch_followings(\"IsmailSabri60\", limit=1200)"
   ]
  },
  {
   "cell_type": "code",
   "execution_count": 42,
   "metadata": {},
   "outputs": [
    {
     "name": "stdout",
     "output_type": "stream",
     "text": [
      "377\n"
     ]
    }
   ],
   "source": [
    "import pandas as pd\n",
    "df = pd.DataFrame(ismailsabri_followings[:1000])\n",
    "print(len(df))"
   ]
  },
  {
   "cell_type": "code",
   "execution_count": 43,
   "metadata": {},
   "outputs": [],
   "source": [
    "df.to_csv('IsmailSabri60_followings.csv', index=False)"
   ]
  },
  {
   "cell_type": "code",
   "execution_count": 44,
   "metadata": {},
   "outputs": [
    {
     "name": "stdout",
     "output_type": "stream",
     "text": [
      "User Existence Check |===================>|\n",
      "Loading Followers List |===================>|\n",
      "Loading More Followers |===================>|\n",
      "Followers fetched: 0\n",
      "Searching for redundancies and filtering to at most 1200 followers...\n",
      "Completed!\n"
     ]
    }
   ],
   "source": [
    "ismailsabri_followers = scraper.fetch_followers(\"IsmailSabri60\", limit=1200)"
   ]
  },
  {
   "cell_type": "code",
   "execution_count": null,
   "metadata": {},
   "outputs": [],
   "source": [
    "import pandas as pd\n",
    "df = pd.DataFrame(ismailsabri_followers[:1000])\n",
    "print(len(df))"
   ]
  },
  {
   "cell_type": "code",
   "execution_count": null,
   "metadata": {},
   "outputs": [],
   "source": [
    "df.to_csv('IsmailSabri60_followers.csv', index=False)"
   ]
  },
  {
   "attachments": {},
   "cell_type": "markdown",
   "metadata": {},
   "source": [
    "# Event: #KerajaanGagal"
   ]
  },
  {
   "cell_type": "code",
   "execution_count": 11,
   "metadata": {},
   "outputs": [
    {
     "name": "stdout",
     "output_type": "stream",
     "text": [
      "(#KerajaanGagal) OR (#BenderaHitam AND Muhyiddin) OR (#LAWAN AND Muhyiddin) OR #MuhyiddinLetakJawatan OR (#NotMyPM AND Muhyiddin) lang:en -filter:links\n",
      "Rendering Explore Page |===================>|\n",
      "Rendering Latest Posts |===================>|\n",
      "Searching for redundancies and filtering to at most 5000 posts...\n",
      "Completed!\n"
     ]
    }
   ],
   "source": [
    "# posts = scraper.get_posts(query='#KerajaanGagal OR (\"bendera hitam\" AND Malaysia) OR \"kerajaan gagal\"', filters=\"since:2020-03-01 until:2021-08-16 -filter:nativeretweets\", limit=500)\n",
    "posts = scraper.get_posts(query='(#KerajaanGagal) OR (#BenderaHitam AND Muhyiddin) OR (#LAWAN AND Muhyiddin) OR #MuhyiddinLetakJawatan OR (#NotMyPM AND Muhyiddin)', filters='lang:en -filter:links', limit=5000)"
   ]
  },
  {
   "cell_type": "code",
   "execution_count": 21,
   "metadata": {},
   "outputs": [
    {
     "data": {
      "text/html": [
       "<div>\n",
       "<style scoped>\n",
       "    .dataframe tbody tr th:only-of-type {\n",
       "        vertical-align: middle;\n",
       "    }\n",
       "\n",
       "    .dataframe tbody tr th {\n",
       "        vertical-align: top;\n",
       "    }\n",
       "\n",
       "    .dataframe thead th {\n",
       "        text-align: right;\n",
       "    }\n",
       "</style>\n",
       "<table border=\"1\" class=\"dataframe\">\n",
       "  <thead>\n",
       "    <tr style=\"text-align: right;\">\n",
       "      <th></th>\n",
       "      <th>Twitter Username</th>\n",
       "      <th>Post</th>\n",
       "      <th>Date Posted</th>\n",
       "    </tr>\n",
       "  </thead>\n",
       "  <tbody>\n",
       "    <tr>\n",
       "      <th>0</th>\n",
       "      <td>@07ysh_</td>\n",
       "      <td>#NotMyPM Muhyiddin should not be my PM.\\nMy PM...</td>\n",
       "      <td>Nov 20, 2022</td>\n",
       "    </tr>\n",
       "    <tr>\n",
       "      <th>1</th>\n",
       "      <td>@0yenNatun</td>\n",
       "      <td>#KerajaanGagal is trending again huh</td>\n",
       "      <td>Nov 9, 2022</td>\n",
       "    </tr>\n",
       "    <tr>\n",
       "      <th>2</th>\n",
       "      <td>@1004MKL</td>\n",
       "      <td>i know the flood we’ve been hit with is a natu...</td>\n",
       "      <td>Dec 19, 2021</td>\n",
       "    </tr>\n",
       "    <tr>\n",
       "      <th>3</th>\n",
       "      <td>@1154christopher</td>\n",
       "      <td>It’s flooding everywhere but our government is...</td>\n",
       "      <td>Oct 10, 2022</td>\n",
       "    </tr>\n",
       "    <tr>\n",
       "      <th>4</th>\n",
       "      <td>@1GiantLeapKL</td>\n",
       "      <td>Only in Malaysia you get a convicted criminal ...</td>\n",
       "      <td>Dec 28, 2021</td>\n",
       "    </tr>\n",
       "    <tr>\n",
       "      <th>...</th>\n",
       "      <td>...</td>\n",
       "      <td>...</td>\n",
       "      <td>...</td>\n",
       "    </tr>\n",
       "    <tr>\n",
       "      <th>3228</th>\n",
       "      <td>@zizihan</td>\n",
       "      <td>Hoping those that are at home, just try to sta...</td>\n",
       "      <td>Dec 19, 2021</td>\n",
       "    </tr>\n",
       "    <tr>\n",
       "      <th>3229</th>\n",
       "      <td>@zmrazmri</td>\n",
       "      <td>oh here we go again #KerajaanGagal 2.0</td>\n",
       "      <td>Aug 20, 2021</td>\n",
       "    </tr>\n",
       "    <tr>\n",
       "      <th>3230</th>\n",
       "      <td>@zuhairi21_azman</td>\n",
       "      <td>This shows that this goverment had failed to m...</td>\n",
       "      <td>Dec 19, 2021</td>\n",
       "    </tr>\n",
       "    <tr>\n",
       "      <th>3231</th>\n",
       "      <td>@zulhas2909</td>\n",
       "      <td>Aduss! #KerajaanRecycle #KerajaanGagal</td>\n",
       "      <td>Sep 4, 2021</td>\n",
       "    </tr>\n",
       "    <tr>\n",
       "      <th>3232</th>\n",
       "      <td>@zulzjd</td>\n",
       "      <td>thats why i still keep black flag at my name. ...</td>\n",
       "      <td>Dec 21, 2021</td>\n",
       "    </tr>\n",
       "  </tbody>\n",
       "</table>\n",
       "<p>3233 rows × 3 columns</p>\n",
       "</div>"
      ],
      "text/plain": [
       "      Twitter Username                                               Post  \\\n",
       "0              @07ysh_  #NotMyPM Muhyiddin should not be my PM.\\nMy PM...   \n",
       "1           @0yenNatun               #KerajaanGagal is trending again huh   \n",
       "2             @1004MKL  i know the flood we’ve been hit with is a natu...   \n",
       "3     @1154christopher  It’s flooding everywhere but our government is...   \n",
       "4        @1GiantLeapKL  Only in Malaysia you get a convicted criminal ...   \n",
       "...                ...                                                ...   \n",
       "3228          @zizihan  Hoping those that are at home, just try to sta...   \n",
       "3229         @zmrazmri             oh here we go again #KerajaanGagal 2.0   \n",
       "3230  @zuhairi21_azman  This shows that this goverment had failed to m...   \n",
       "3231       @zulhas2909             Aduss! #KerajaanRecycle #KerajaanGagal   \n",
       "3232           @zulzjd  thats why i still keep black flag at my name. ...   \n",
       "\n",
       "       Date Posted  \n",
       "0     Nov 20, 2022  \n",
       "1      Nov 9, 2022  \n",
       "2     Dec 19, 2021  \n",
       "3     Oct 10, 2022  \n",
       "4     Dec 28, 2021  \n",
       "...            ...  \n",
       "3228  Dec 19, 2021  \n",
       "3229  Aug 20, 2021  \n",
       "3230  Dec 19, 2021  \n",
       "3231   Sep 4, 2021  \n",
       "3232  Dec 21, 2021  \n",
       "\n",
       "[3233 rows x 3 columns]"
      ]
     },
     "execution_count": 21,
     "metadata": {},
     "output_type": "execute_result"
    }
   ],
   "source": [
    "posts"
   ]
  },
  {
   "cell_type": "code",
   "execution_count": 19,
   "metadata": {},
   "outputs": [
    {
     "data": {
      "text/html": [
       "<div>\n",
       "<style scoped>\n",
       "    .dataframe tbody tr th:only-of-type {\n",
       "        vertical-align: middle;\n",
       "    }\n",
       "\n",
       "    .dataframe tbody tr th {\n",
       "        vertical-align: top;\n",
       "    }\n",
       "\n",
       "    .dataframe thead th {\n",
       "        text-align: right;\n",
       "    }\n",
       "</style>\n",
       "<table border=\"1\" class=\"dataframe\">\n",
       "  <thead>\n",
       "    <tr style=\"text-align: right;\">\n",
       "      <th></th>\n",
       "      <th>Twitter Username</th>\n",
       "      <th>Post</th>\n",
       "      <th>Date Posted</th>\n",
       "    </tr>\n",
       "  </thead>\n",
       "  <tbody>\n",
       "    <tr>\n",
       "      <th>0</th>\n",
       "      <td>@07ysh_</td>\n",
       "      <td>#NotMyPM Muhyiddin should not be my PM.\\nMy PM...</td>\n",
       "      <td>Nov 20, 2022</td>\n",
       "    </tr>\n",
       "    <tr>\n",
       "      <th>1</th>\n",
       "      <td>@0yenNatun</td>\n",
       "      <td>#KerajaanGagal is trending again huh</td>\n",
       "      <td>Nov 9, 2022</td>\n",
       "    </tr>\n",
       "    <tr>\n",
       "      <th>2</th>\n",
       "      <td>@1004MKL</td>\n",
       "      <td>i know the flood we’ve been hit with is a natu...</td>\n",
       "      <td>Dec 19, 2021</td>\n",
       "    </tr>\n",
       "    <tr>\n",
       "      <th>3</th>\n",
       "      <td>@1154christopher</td>\n",
       "      <td>It’s flooding everywhere but our government is...</td>\n",
       "      <td>Oct 10, 2022</td>\n",
       "    </tr>\n",
       "    <tr>\n",
       "      <th>4</th>\n",
       "      <td>@1GiantLeapKL</td>\n",
       "      <td>Only in Malaysia you get a convicted criminal ...</td>\n",
       "      <td>Dec 28, 2021</td>\n",
       "    </tr>\n",
       "    <tr>\n",
       "      <th>...</th>\n",
       "      <td>...</td>\n",
       "      <td>...</td>\n",
       "      <td>...</td>\n",
       "    </tr>\n",
       "    <tr>\n",
       "      <th>3228</th>\n",
       "      <td>@zizihan</td>\n",
       "      <td>Hoping those that are at home, just try to sta...</td>\n",
       "      <td>Dec 19, 2021</td>\n",
       "    </tr>\n",
       "    <tr>\n",
       "      <th>3229</th>\n",
       "      <td>@zmrazmri</td>\n",
       "      <td>oh here we go again #KerajaanGagal 2.0</td>\n",
       "      <td>Aug 20, 2021</td>\n",
       "    </tr>\n",
       "    <tr>\n",
       "      <th>3230</th>\n",
       "      <td>@zuhairi21_azman</td>\n",
       "      <td>This shows that this goverment had failed to m...</td>\n",
       "      <td>Dec 19, 2021</td>\n",
       "    </tr>\n",
       "    <tr>\n",
       "      <th>3231</th>\n",
       "      <td>@zulhas2909</td>\n",
       "      <td>Aduss! #KerajaanRecycle #KerajaanGagal</td>\n",
       "      <td>Sep 4, 2021</td>\n",
       "    </tr>\n",
       "    <tr>\n",
       "      <th>3232</th>\n",
       "      <td>@zulzjd</td>\n",
       "      <td>thats why i still keep black flag at my name. ...</td>\n",
       "      <td>Dec 21, 2021</td>\n",
       "    </tr>\n",
       "  </tbody>\n",
       "</table>\n",
       "<p>3233 rows × 3 columns</p>\n",
       "</div>"
      ],
      "text/plain": [
       "      Twitter Username                                               Post  \\\n",
       "0              @07ysh_  #NotMyPM Muhyiddin should not be my PM.\\nMy PM...   \n",
       "1           @0yenNatun               #KerajaanGagal is trending again huh   \n",
       "2             @1004MKL  i know the flood we’ve been hit with is a natu...   \n",
       "3     @1154christopher  It’s flooding everywhere but our government is...   \n",
       "4        @1GiantLeapKL  Only in Malaysia you get a convicted criminal ...   \n",
       "...                ...                                                ...   \n",
       "3228          @zizihan  Hoping those that are at home, just try to sta...   \n",
       "3229         @zmrazmri             oh here we go again #KerajaanGagal 2.0   \n",
       "3230  @zuhairi21_azman  This shows that this goverment had failed to m...   \n",
       "3231       @zulhas2909             Aduss! #KerajaanRecycle #KerajaanGagal   \n",
       "3232           @zulzjd  thats why i still keep black flag at my name. ...   \n",
       "\n",
       "       Date Posted  \n",
       "0     Nov 20, 2022  \n",
       "1      Nov 9, 2022  \n",
       "2     Dec 19, 2021  \n",
       "3     Oct 10, 2022  \n",
       "4     Dec 28, 2021  \n",
       "...            ...  \n",
       "3228  Dec 19, 2021  \n",
       "3229  Aug 20, 2021  \n",
       "3230  Dec 19, 2021  \n",
       "3231   Sep 4, 2021  \n",
       "3232  Dec 21, 2021  \n",
       "\n",
       "[3233 rows x 3 columns]"
      ]
     },
     "execution_count": 19,
     "metadata": {},
     "output_type": "execute_result"
    }
   ],
   "source": [
    "posts.sort_values(by=\"Twitter Username\")"
   ]
  },
  {
   "cell_type": "code",
   "execution_count": 20,
   "metadata": {},
   "outputs": [],
   "source": [
    "posts.to_csv(\"KerajaanGagal_event.csv\", index=False)"
   ]
  },
  {
   "attachments": {},
   "cell_type": "markdown",
   "metadata": {},
   "source": [
    "# ??"
   ]
  },
  {
   "cell_type": "code",
   "execution_count": 3,
   "metadata": {},
   "outputs": [
    {
     "name": "stdout",
     "output_type": "stream",
     "text": [
      "User Existence Check |===================>|\n",
      "Loading Following List |===================>|\n",
      "Loading More Followings |===================>|\n",
      "Followings fetched: 14\n",
      "Searching for redundancies and filtering to at most 10 followings...\n",
      "Completed!\n"
     ]
    }
   ],
   "source": [
    "arr = scraper.fetch_followings(\"anwaribrahim\", limit=10)"
   ]
  },
  {
   "cell_type": "code",
   "execution_count": 5,
   "metadata": {},
   "outputs": [
    {
     "name": "stdout",
     "output_type": "stream",
     "text": [
      "User Existence Check |===================>|\n"
     ]
    },
    {
     "data": {
      "text/plain": [
       "{'name': 'Anwar Ibrahim',\n",
       " '@': '@anwaribrahim',\n",
       " 'bio': 'Perdana Menteri Malaysia ',\n",
       " 'userLocation': 'Malaysia',\n",
       " 'joinDate': 'Joined March 2007',\n",
       " 'verified': True,\n",
       " 'followers': '12.6K',\n",
       " 'followings': '1.8M'}"
      ]
     },
     "execution_count": 5,
     "metadata": {},
     "output_type": "execute_result"
    }
   ],
   "source": [
    "userinfo = scraper.fetch_userinfo(\"anwaribrahim\")\n",
    "userinfo"
   ]
  },
  {
   "cell_type": "code",
   "execution_count": 4,
   "metadata": {},
   "outputs": [
    {
     "name": "stdout",
     "output_type": "stream",
     "text": [
      "#LangkahSheraton OR sheraton OR #SheratonMove OR \"langkah sheraton\" -filter:links since:2020-01-09 lang:en -filter:nativeretweets\n",
      "Rendering Explore Page |===================>|\n",
      "Searching for redundancies and filtering to at most 500 posts...\n",
      "Completed!\n"
     ]
    }
   ],
   "source": [
    "posts = scraper.get_posts(query=\"#LangkahSheraton OR sheraton OR #SheratonMove OR \\\"langkah sheraton\\\"\", filters=\"-filter:links since:2020-01-09 lang:en -filter:nativeretweets\", limit=500)"
   ]
  },
  {
   "cell_type": "code",
   "execution_count": 5,
   "metadata": {},
   "outputs": [
    {
     "data": {
      "text/html": [
       "<div>\n",
       "<style scoped>\n",
       "    .dataframe tbody tr th:only-of-type {\n",
       "        vertical-align: middle;\n",
       "    }\n",
       "\n",
       "    .dataframe tbody tr th {\n",
       "        vertical-align: top;\n",
       "    }\n",
       "\n",
       "    .dataframe thead th {\n",
       "        text-align: right;\n",
       "    }\n",
       "</style>\n",
       "<table border=\"1\" class=\"dataframe\">\n",
       "  <thead>\n",
       "    <tr style=\"text-align: right;\">\n",
       "      <th></th>\n",
       "      <th>Twitter Username</th>\n",
       "      <th>Post</th>\n",
       "      <th>Date Posted</th>\n",
       "    </tr>\n",
       "  </thead>\n",
       "  <tbody>\n",
       "    <tr>\n",
       "      <th>0</th>\n",
       "      <td>@2nakanski</td>\n",
       "      <td>Sheraton? Ermmm I hardly know her</td>\n",
       "      <td>Jun 11</td>\n",
       "    </tr>\n",
       "    <tr>\n",
       "      <th>1</th>\n",
       "      <td>@777eilwek1</td>\n",
       "      <td>Sheraton?</td>\n",
       "      <td>Jun 7</td>\n",
       "    </tr>\n",
       "    <tr>\n",
       "      <th>2</th>\n",
       "      <td>@AAAEDelivers</td>\n",
       "      <td>Kick-start your first day at the Annual AAAE C...</td>\n",
       "      <td>Jun 4</td>\n",
       "    </tr>\n",
       "    <tr>\n",
       "      <th>3</th>\n",
       "      <td>@AGYounger</td>\n",
       "      <td>The Marriott chain (which is delta and Sherato...</td>\n",
       "      <td>Jun 4</td>\n",
       "    </tr>\n",
       "    <tr>\n",
       "      <th>4</th>\n",
       "      <td>@AGiannas</td>\n",
       "      <td>It is in Ethiopia . Sheraton here shows prices...</td>\n",
       "      <td>Jun 7</td>\n",
       "    </tr>\n",
       "    <tr>\n",
       "      <th>...</th>\n",
       "      <td>...</td>\n",
       "      <td>...</td>\n",
       "      <td>...</td>\n",
       "    </tr>\n",
       "    <tr>\n",
       "      <th>340</th>\n",
       "      <td>@vict_xox</td>\n",
       "      <td>sheraton mattresses are elite, i need one in m...</td>\n",
       "      <td>Jun 7</td>\n",
       "    </tr>\n",
       "    <tr>\n",
       "      <th>341</th>\n",
       "      <td>@vishnusaiv</td>\n",
       "      <td>If you’re referring to Velachery then it’s not...</td>\n",
       "      <td>Jun 7</td>\n",
       "    </tr>\n",
       "    <tr>\n",
       "      <th>342</th>\n",
       "      <td>@wfthomas55</td>\n",
       "      <td>I definitely want to be at the Infinity pool a...</td>\n",
       "      <td>Jun 5</td>\n",
       "    </tr>\n",
       "    <tr>\n",
       "      <th>343</th>\n",
       "      <td>@wmejia1987</td>\n",
       "      <td>I was legit watching this shoot happening from...</td>\n",
       "      <td>6h</td>\n",
       "    </tr>\n",
       "    <tr>\n",
       "      <th>344</th>\n",
       "      <td>@you0420ka</td>\n",
       "      <td>Four Points by Sheraton Seoul, Gangnam\\n¥19,659円〜</td>\n",
       "      <td>Jun 8</td>\n",
       "    </tr>\n",
       "  </tbody>\n",
       "</table>\n",
       "<p>345 rows × 3 columns</p>\n",
       "</div>"
      ],
      "text/plain": [
       "    Twitter Username                                               Post  \\\n",
       "0         @2nakanski                  Sheraton? Ermmm I hardly know her   \n",
       "1        @777eilwek1                                         Sheraton?    \n",
       "2      @AAAEDelivers  Kick-start your first day at the Annual AAAE C...   \n",
       "3         @AGYounger  The Marriott chain (which is delta and Sherato...   \n",
       "4          @AGiannas  It is in Ethiopia . Sheraton here shows prices...   \n",
       "..               ...                                                ...   \n",
       "340        @vict_xox  sheraton mattresses are elite, i need one in m...   \n",
       "341      @vishnusaiv  If you’re referring to Velachery then it’s not...   \n",
       "342      @wfthomas55  I definitely want to be at the Infinity pool a...   \n",
       "343      @wmejia1987  I was legit watching this shoot happening from...   \n",
       "344       @you0420ka  Four Points by Sheraton Seoul, Gangnam\\n¥19,659円〜   \n",
       "\n",
       "    Date Posted  \n",
       "0        Jun 11  \n",
       "1         Jun 7  \n",
       "2         Jun 4  \n",
       "3         Jun 4  \n",
       "4         Jun 7  \n",
       "..          ...  \n",
       "340       Jun 7  \n",
       "341       Jun 7  \n",
       "342       Jun 5  \n",
       "343          6h  \n",
       "344       Jun 8  \n",
       "\n",
       "[345 rows x 3 columns]"
      ]
     },
     "execution_count": 5,
     "metadata": {},
     "output_type": "execute_result"
    }
   ],
   "source": [
    "posts"
   ]
  },
  {
   "cell_type": "code",
   "execution_count": 19,
   "metadata": {},
   "outputs": [],
   "source": [
    "posts.to_csv(\"haruehauhesfuf.csv\", index=False)"
   ]
  },
  {
   "cell_type": "code",
   "execution_count": 8,
   "metadata": {},
   "outputs": [
    {
     "name": "stdout",
     "output_type": "stream",
     "text": [
      "cibai\n",
      "Rendering Explore Page |===================>|\n",
      "Searching for redundancies and filtering to at most 10 posts...\n",
      "Completed!\n"
     ]
    },
    {
     "data": {
      "text/html": [
       "<div>\n",
       "<style scoped>\n",
       "    .dataframe tbody tr th:only-of-type {\n",
       "        vertical-align: middle;\n",
       "    }\n",
       "\n",
       "    .dataframe tbody tr th {\n",
       "        vertical-align: top;\n",
       "    }\n",
       "\n",
       "    .dataframe thead th {\n",
       "        text-align: right;\n",
       "    }\n",
       "</style>\n",
       "<table border=\"1\" class=\"dataframe\">\n",
       "  <thead>\n",
       "    <tr style=\"text-align: right;\">\n",
       "      <th></th>\n",
       "      <th>Twitter Username</th>\n",
       "      <th>Post</th>\n",
       "      <th>Date Posted</th>\n",
       "    </tr>\n",
       "  </thead>\n",
       "  <tbody>\n",
       "    <tr>\n",
       "      <th>0</th>\n",
       "      <td>@Anarchymetal666</td>\n",
       "      <td>Puncanya sebab suami yg tak layan isteri denga...</td>\n",
       "      <td>Jun 10</td>\n",
       "    </tr>\n",
       "    <tr>\n",
       "      <th>1</th>\n",
       "      <td>@JE0NGJINR4K</td>\n",
       "      <td>HELLO ??? ANYBODY KNOW WHY ?? MY FRIEND (najh)...</td>\n",
       "      <td>Jun 10</td>\n",
       "    </tr>\n",
       "    <tr>\n",
       "      <th>2</th>\n",
       "      <td>@SUNGH4NBIN</td>\n",
       "      <td>cant stop myself, i just can say cibai for all...</td>\n",
       "      <td>45m</td>\n",
       "    </tr>\n",
       "    <tr>\n",
       "      <th>3</th>\n",
       "      <td>@andydengerousj</td>\n",
       "      <td>LMAO what a joke reff decision. Then the cam l...</td>\n",
       "      <td>Jun 3</td>\n",
       "    </tr>\n",
       "    <tr>\n",
       "      <th>4</th>\n",
       "      <td>@ashliu_0929</td>\n",
       "      <td>Most Malaysians can understand at least 3 lang...</td>\n",
       "      <td>Jun 10</td>\n",
       "    </tr>\n",
       "    <tr>\n",
       "      <th>5</th>\n",
       "      <td>@cutiePootooti</td>\n",
       "      <td>Kadang2 aku rase mcm org gune kan aku,like I’m...</td>\n",
       "      <td>Jun 8</td>\n",
       "    </tr>\n",
       "    <tr>\n",
       "      <th>6</th>\n",
       "      <td>@euphofya_</td>\n",
       "      <td>CIBAI LA KNETZ</td>\n",
       "      <td>2h</td>\n",
       "    </tr>\n",
       "    <tr>\n",
       "      <th>7</th>\n",
       "      <td>@faqihsyakiran</td>\n",
       "      <td>aku baru cuci la cibai punai sapa pancut sepah...</td>\n",
       "      <td>Jun 5</td>\n",
       "    </tr>\n",
       "    <tr>\n",
       "      <th>8</th>\n",
       "      <td>@honkshumimi</td>\n",
       "      <td>english is so weak and im so unfazed with thei...</td>\n",
       "      <td>Jun 11</td>\n",
       "    </tr>\n",
       "    <tr>\n",
       "      <th>9</th>\n",
       "      <td>@itjustempty</td>\n",
       "      <td>Camni tak kena banned lak aku ni baru nak berc...</td>\n",
       "      <td>Jun 3</td>\n",
       "    </tr>\n",
       "  </tbody>\n",
       "</table>\n",
       "</div>"
      ],
      "text/plain": [
       "   Twitter Username                                               Post  \\\n",
       "0  @Anarchymetal666  Puncanya sebab suami yg tak layan isteri denga...   \n",
       "1      @JE0NGJINR4K  HELLO ??? ANYBODY KNOW WHY ?? MY FRIEND (najh)...   \n",
       "2       @SUNGH4NBIN  cant stop myself, i just can say cibai for all...   \n",
       "3   @andydengerousj  LMAO what a joke reff decision. Then the cam l...   \n",
       "4      @ashliu_0929  Most Malaysians can understand at least 3 lang...   \n",
       "5    @cutiePootooti  Kadang2 aku rase mcm org gune kan aku,like I’m...   \n",
       "6        @euphofya_                                     CIBAI LA KNETZ   \n",
       "7    @faqihsyakiran  aku baru cuci la cibai punai sapa pancut sepah...   \n",
       "8      @honkshumimi  english is so weak and im so unfazed with thei...   \n",
       "9      @itjustempty  Camni tak kena banned lak aku ni baru nak berc...   \n",
       "\n",
       "  Date Posted  \n",
       "0      Jun 10  \n",
       "1      Jun 10  \n",
       "2         45m  \n",
       "3       Jun 3  \n",
       "4      Jun 10  \n",
       "5       Jun 8  \n",
       "6          2h  \n",
       "7       Jun 5  \n",
       "8      Jun 11  \n",
       "9       Jun 3  "
      ]
     },
     "execution_count": 8,
     "metadata": {},
     "output_type": "execute_result"
    }
   ],
   "source": [
    "scraper.get_posts(query=\"cibai\")"
   ]
  },
  {
   "cell_type": "code",
   "execution_count": 15,
   "metadata": {},
   "outputs": [
    {
     "data": {
      "text/html": [
       "<div>\n",
       "<style scoped>\n",
       "    .dataframe tbody tr th:only-of-type {\n",
       "        vertical-align: middle;\n",
       "    }\n",
       "\n",
       "    .dataframe tbody tr th {\n",
       "        vertical-align: top;\n",
       "    }\n",
       "\n",
       "    .dataframe thead th {\n",
       "        text-align: right;\n",
       "    }\n",
       "</style>\n",
       "<table border=\"1\" class=\"dataframe\">\n",
       "  <thead>\n",
       "    <tr style=\"text-align: right;\">\n",
       "      <th></th>\n",
       "      <th>Twitter Username</th>\n",
       "      <th>Post</th>\n",
       "      <th>Date Posted</th>\n",
       "    </tr>\n",
       "  </thead>\n",
       "  <tbody>\n",
       "    <tr>\n",
       "      <th>0</th>\n",
       "      <td>@AAlexreds</td>\n",
       "      <td>Rafizi is so quiet post pru15. Dont know if he...</td>\n",
       "      <td>Nov 30, 2022</td>\n",
       "    </tr>\n",
       "    <tr>\n",
       "      <th>1</th>\n",
       "      <td>@Arvinn007</td>\n",
       "      <td>Whole world : Who’s gonna win world cup \\n\\nMa...</td>\n",
       "      <td>Nov 22, 2022</td>\n",
       "    </tr>\n",
       "    <tr>\n",
       "      <th>2</th>\n",
       "      <td>@FirdausAzil</td>\n",
       "      <td>8.95M (PRU14) v 42.5M (PRU15).\\n\\nI really hav...</td>\n",
       "      <td>Nov 26, 2022</td>\n",
       "    </tr>\n",
       "    <tr>\n",
       "      <th>3</th>\n",
       "      <td>@MamaTeez_</td>\n",
       "      <td>Just remember when all the reporters were wait...</td>\n",
       "      <td>Nov 22, 2022</td>\n",
       "    </tr>\n",
       "    <tr>\n",
       "      <th>4</th>\n",
       "      <td>@MaxHadid29</td>\n",
       "      <td>They didn’t promise results by 2pm, they said ...</td>\n",
       "      <td>Dec 7, 2022</td>\n",
       "    </tr>\n",
       "    <tr>\n",
       "      <th>5</th>\n",
       "      <td>@NatalieTH0211</td>\n",
       "      <td>In an ideal world, it would have been Pakatan ...</td>\n",
       "      <td>Nov 21, 2022</td>\n",
       "    </tr>\n",
       "    <tr>\n",
       "      <th>6</th>\n",
       "      <td>@SisKamilah</td>\n",
       "      <td>Either PN or PH leads this country.\\nPlease sh...</td>\n",
       "      <td>Nov 22, 2022</td>\n",
       "    </tr>\n",
       "    <tr>\n",
       "      <th>7</th>\n",
       "      <td>@Sreate18</td>\n",
       "      <td>If DSAI ever becomes the next PM, I am expecti...</td>\n",
       "      <td>Nov 23, 2022</td>\n",
       "    </tr>\n",
       "    <tr>\n",
       "      <th>8</th>\n",
       "      <td>@aidarazman</td>\n",
       "      <td>veet company sales after PRU15</td>\n",
       "      <td>Nov 22, 2022</td>\n",
       "    </tr>\n",
       "    <tr>\n",
       "      <th>9</th>\n",
       "      <td>@anwaqroslan</td>\n",
       "      <td>My father named me as Anwar a as a tribute for...</td>\n",
       "      <td>Nov 24, 2022</td>\n",
       "    </tr>\n",
       "    <tr>\n",
       "      <th>10</th>\n",
       "      <td>@cmyeen</td>\n",
       "      <td>@netflix interested in turning Malaysian polit...</td>\n",
       "      <td>Nov 22, 2022</td>\n",
       "    </tr>\n",
       "    <tr>\n",
       "      <th>11</th>\n",
       "      <td>@davidddodle</td>\n",
       "      <td>BREAKING NEWS\\n\\nThere's no news from Istana N...</td>\n",
       "      <td>Nov 22, 2022</td>\n",
       "    </tr>\n",
       "    <tr>\n",
       "      <th>12</th>\n",
       "      <td>@ibrahimsaninet</td>\n",
       "      <td>PTSD words for me since #PRU15:\\n1. “Kemelut”\\...</td>\n",
       "      <td>Nov 23, 2022</td>\n",
       "    </tr>\n",
       "    <tr>\n",
       "      <th>13</th>\n",
       "      <td>@ivankts</td>\n",
       "      <td>We voted from AM to PM,\\nWe waited from PM to ...</td>\n",
       "      <td>Nov 22, 2022</td>\n",
       "    </tr>\n",
       "    <tr>\n",
       "      <th>14</th>\n",
       "      <td>@khalidkarim</td>\n",
       "      <td>PRU15 should be about a RE-SET.</td>\n",
       "      <td>Nov 23, 2022</td>\n",
       "    </tr>\n",
       "    <tr>\n",
       "      <th>15</th>\n",
       "      <td>@moonjuice75</td>\n",
       "      <td>omg season finale final episode vibes #PRU15</td>\n",
       "      <td>Nov 22, 2022</td>\n",
       "    </tr>\n",
       "    <tr>\n",
       "      <th>16</th>\n",
       "      <td>@namasayahafiz</td>\n",
       "      <td>Untill it is official announcement I won't bel...</td>\n",
       "      <td>Nov 22, 2022</td>\n",
       "    </tr>\n",
       "    <tr>\n",
       "      <th>17</th>\n",
       "      <td>@nayRvong</td>\n",
       "      <td>Just like Manchester, Malaysia is Red #PRU15 #...</td>\n",
       "      <td>Nov 24, 2022</td>\n",
       "    </tr>\n",
       "    <tr>\n",
       "      <th>18</th>\n",
       "      <td>@rafiziramli</td>\n",
       "      <td>Kah3 opps PRU15.\\n\\nCepat ka Twitter introduce...</td>\n",
       "      <td>Dec 3, 2022</td>\n",
       "    </tr>\n",
       "    <tr>\n",
       "      <th>19</th>\n",
       "      <td>@sahasra_lochna</td>\n",
       "      <td>I wish Anniyan was real, like this people real...</td>\n",
       "      <td>Nov 21, 2022</td>\n",
       "    </tr>\n",
       "  </tbody>\n",
       "</table>\n",
       "</div>"
      ],
      "text/plain": [
       "   Twitter Username                                               Post  \\\n",
       "0        @AAlexreds  Rafizi is so quiet post pru15. Dont know if he...   \n",
       "1        @Arvinn007  Whole world : Who’s gonna win world cup \\n\\nMa...   \n",
       "2      @FirdausAzil  8.95M (PRU14) v 42.5M (PRU15).\\n\\nI really hav...   \n",
       "3        @MamaTeez_  Just remember when all the reporters were wait...   \n",
       "4       @MaxHadid29  They didn’t promise results by 2pm, they said ...   \n",
       "5    @NatalieTH0211  In an ideal world, it would have been Pakatan ...   \n",
       "6       @SisKamilah  Either PN or PH leads this country.\\nPlease sh...   \n",
       "7         @Sreate18  If DSAI ever becomes the next PM, I am expecti...   \n",
       "8       @aidarazman                    veet company sales after PRU15    \n",
       "9      @anwaqroslan  My father named me as Anwar a as a tribute for...   \n",
       "10          @cmyeen  @netflix interested in turning Malaysian polit...   \n",
       "11     @davidddodle  BREAKING NEWS\\n\\nThere's no news from Istana N...   \n",
       "12  @ibrahimsaninet  PTSD words for me since #PRU15:\\n1. “Kemelut”\\...   \n",
       "13         @ivankts  We voted from AM to PM,\\nWe waited from PM to ...   \n",
       "14     @khalidkarim                    PRU15 should be about a RE-SET.   \n",
       "15     @moonjuice75       omg season finale final episode vibes #PRU15   \n",
       "16   @namasayahafiz  Untill it is official announcement I won't bel...   \n",
       "17        @nayRvong  Just like Manchester, Malaysia is Red #PRU15 #...   \n",
       "18     @rafiziramli  Kah3 opps PRU15.\\n\\nCepat ka Twitter introduce...   \n",
       "19  @sahasra_lochna  I wish Anniyan was real, like this people real...   \n",
       "\n",
       "     Date Posted  \n",
       "0   Nov 30, 2022  \n",
       "1   Nov 22, 2022  \n",
       "2   Nov 26, 2022  \n",
       "3   Nov 22, 2022  \n",
       "4    Dec 7, 2022  \n",
       "5   Nov 21, 2022  \n",
       "6   Nov 22, 2022  \n",
       "7   Nov 23, 2022  \n",
       "8   Nov 22, 2022  \n",
       "9   Nov 24, 2022  \n",
       "10  Nov 22, 2022  \n",
       "11  Nov 22, 2022  \n",
       "12  Nov 23, 2022  \n",
       "13  Nov 22, 2022  \n",
       "14  Nov 23, 2022  \n",
       "15  Nov 22, 2022  \n",
       "16  Nov 22, 2022  \n",
       "17  Nov 24, 2022  \n",
       "18   Dec 3, 2022  \n",
       "19  Nov 21, 2022  "
      ]
     },
     "execution_count": 15,
     "metadata": {},
     "output_type": "execute_result"
    }
   ],
   "source": [
    "posts"
   ]
  },
  {
   "cell_type": "code",
   "execution_count": 27,
   "metadata": {},
   "outputs": [
    {
     "data": {
      "text/html": [
       "<div>\n",
       "<style scoped>\n",
       "    .dataframe tbody tr th:only-of-type {\n",
       "        vertical-align: middle;\n",
       "    }\n",
       "\n",
       "    .dataframe tbody tr th {\n",
       "        vertical-align: top;\n",
       "    }\n",
       "\n",
       "    .dataframe thead th {\n",
       "        text-align: right;\n",
       "    }\n",
       "</style>\n",
       "<table border=\"1\" class=\"dataframe\">\n",
       "  <thead>\n",
       "    <tr style=\"text-align: right;\">\n",
       "      <th></th>\n",
       "      <th>Twitter Username</th>\n",
       "      <th>Post</th>\n",
       "      <th>Date Posted</th>\n",
       "    </tr>\n",
       "  </thead>\n",
       "  <tbody>\n",
       "    <tr>\n",
       "      <th>0</th>\n",
       "      <td>@adamxile</td>\n",
       "      <td>Aik? Itu audit 2021, zaman PN abahcow. Apa pus...</td>\n",
       "      <td>Jun 7</td>\n",
       "    </tr>\n",
       "    <tr>\n",
       "      <th>1</th>\n",
       "      <td>@faizzz94</td>\n",
       "      <td>Abahcow , wan saiful janawibawa ada kes rasuah...</td>\n",
       "      <td>Jun 6</td>\n",
       "    </tr>\n",
       "    <tr>\n",
       "      <th>2</th>\n",
       "      <td>@BluCroozer</td>\n",
       "      <td>Not Syed Mokhtar bribing but more like Abahcow...</td>\n",
       "      <td>Jun 4</td>\n",
       "    </tr>\n",
       "    <tr>\n",
       "      <th>3</th>\n",
       "      <td>@MSAR53</td>\n",
       "      <td>Suh abahcow tu dtg je esok parlimen. Jgn nk be...</td>\n",
       "      <td>1h</td>\n",
       "    </tr>\n",
       "    <tr>\n",
       "      <th>4</th>\n",
       "      <td>@AnggunxXOXO</td>\n",
       "      <td>Bila mangkuk bodoh nak jugak komen.... gini la...</td>\n",
       "      <td>Jun 9</td>\n",
       "    </tr>\n",
       "    <tr>\n",
       "      <th>5</th>\n",
       "      <td>@adzdin</td>\n",
       "      <td>AG yang ada sekarang lantikan AbahCow juga kih...</td>\n",
       "      <td>Jun 6</td>\n",
       "    </tr>\n",
       "    <tr>\n",
       "      <th>6</th>\n",
       "      <td>@Mustang_Khan5</td>\n",
       "      <td>Why not invite abahcow?? Tercirit me</td>\n",
       "      <td>Jun 9</td>\n",
       "    </tr>\n",
       "    <tr>\n",
       "      <th>7</th>\n",
       "      <td>@m_iqone</td>\n",
       "      <td>Heran dn bangangnya yg abahcow ni jualah yg lo...</td>\n",
       "      <td>Jun 11</td>\n",
       "    </tr>\n",
       "    <tr>\n",
       "      <th>8</th>\n",
       "      <td>@sharizaliman_</td>\n",
       "      <td>macam abahcow</td>\n",
       "      <td>Jun 8</td>\n",
       "    </tr>\n",
       "    <tr>\n",
       "      <th>9</th>\n",
       "      <td>@SubcultureWear1</td>\n",
       "      <td>Dorgdh well plan time jd gov dlu, sbb tu tidak...</td>\n",
       "      <td>Jun 11</td>\n",
       "    </tr>\n",
       "    <tr>\n",
       "      <th>10</th>\n",
       "      <td>@adzdin</td>\n",
       "      <td>AG yang ada sekarang lantikan AbahCow juga kih...</td>\n",
       "      <td>Jun 6</td>\n",
       "    </tr>\n",
       "    <tr>\n",
       "      <th>11</th>\n",
       "      <td>@Mustang_Khan5</td>\n",
       "      <td>Why not invite abahcow?? Tercirit me</td>\n",
       "      <td>Jun 9</td>\n",
       "    </tr>\n",
       "    <tr>\n",
       "      <th>12</th>\n",
       "      <td>@m_iqone</td>\n",
       "      <td>Heran dn bangangnya yg abahcow ni jualah yg lo...</td>\n",
       "      <td>Jun 11</td>\n",
       "    </tr>\n",
       "    <tr>\n",
       "      <th>13</th>\n",
       "      <td>@sharizaliman_</td>\n",
       "      <td>macam abahcow</td>\n",
       "      <td>Jun 8</td>\n",
       "    </tr>\n",
       "    <tr>\n",
       "      <th>14</th>\n",
       "      <td>@SubcultureWear1</td>\n",
       "      <td>Dorgdh well plan time jd gov dlu, sbb tu tidak...</td>\n",
       "      <td>Jun 11</td>\n",
       "    </tr>\n",
       "    <tr>\n",
       "      <th>15</th>\n",
       "      <td>@mrSmith96522709</td>\n",
       "      <td>10ekok tu...lantak pi....kaki broker politik.....</td>\n",
       "      <td>Jun 8</td>\n",
       "    </tr>\n",
       "    <tr>\n",
       "      <th>16</th>\n",
       "      <td>@zaranbeta</td>\n",
       "      <td>Masa abahcow jadi PM rakyat malaysia banyak ma...</td>\n",
       "      <td>Jun 6</td>\n",
       "    </tr>\n",
       "    <tr>\n",
       "      <th>17</th>\n",
       "      <td>@Fiqirzainal</td>\n",
       "      <td>dahlah sakau duit, minyak subsidi simpan sendi...</td>\n",
       "      <td>Jun 6</td>\n",
       "    </tr>\n",
       "    <tr>\n",
       "      <th>18</th>\n",
       "      <td>@kamal_ganesan</td>\n",
       "      <td>Politik jijik paling busuk dimainkan Tun M, Ha...</td>\n",
       "      <td>Jun 8</td>\n",
       "    </tr>\n",
       "    <tr>\n",
       "      <th>19</th>\n",
       "      <td>@m_iqone</td>\n",
       "      <td>Dah cukup jumloo melebihi drp cekop....last ab...</td>\n",
       "      <td>Jun 4</td>\n",
       "    </tr>\n",
       "  </tbody>\n",
       "</table>\n",
       "</div>"
      ],
      "text/plain": [
       "    Twitter Username                                               Post  \\\n",
       "0          @adamxile  Aik? Itu audit 2021, zaman PN abahcow. Apa pus...   \n",
       "1          @faizzz94  Abahcow , wan saiful janawibawa ada kes rasuah...   \n",
       "2        @BluCroozer  Not Syed Mokhtar bribing but more like Abahcow...   \n",
       "3            @MSAR53  Suh abahcow tu dtg je esok parlimen. Jgn nk be...   \n",
       "4       @AnggunxXOXO  Bila mangkuk bodoh nak jugak komen.... gini la...   \n",
       "5            @adzdin  AG yang ada sekarang lantikan AbahCow juga kih...   \n",
       "6     @Mustang_Khan5               Why not invite abahcow?? Tercirit me   \n",
       "7           @m_iqone  Heran dn bangangnya yg abahcow ni jualah yg lo...   \n",
       "8     @sharizaliman_                                      macam abahcow   \n",
       "9   @SubcultureWear1  Dorgdh well plan time jd gov dlu, sbb tu tidak...   \n",
       "10           @adzdin  AG yang ada sekarang lantikan AbahCow juga kih...   \n",
       "11    @Mustang_Khan5               Why not invite abahcow?? Tercirit me   \n",
       "12          @m_iqone  Heran dn bangangnya yg abahcow ni jualah yg lo...   \n",
       "13    @sharizaliman_                                      macam abahcow   \n",
       "14  @SubcultureWear1  Dorgdh well plan time jd gov dlu, sbb tu tidak...   \n",
       "15  @mrSmith96522709  10ekok tu...lantak pi....kaki broker politik.....   \n",
       "16        @zaranbeta  Masa abahcow jadi PM rakyat malaysia banyak ma...   \n",
       "17      @Fiqirzainal  dahlah sakau duit, minyak subsidi simpan sendi...   \n",
       "18    @kamal_ganesan  Politik jijik paling busuk dimainkan Tun M, Ha...   \n",
       "19          @m_iqone  Dah cukup jumloo melebihi drp cekop....last ab...   \n",
       "\n",
       "   Date Posted  \n",
       "0        Jun 7  \n",
       "1        Jun 6  \n",
       "2        Jun 4  \n",
       "3           1h  \n",
       "4        Jun 9  \n",
       "5        Jun 6  \n",
       "6        Jun 9  \n",
       "7       Jun 11  \n",
       "8        Jun 8  \n",
       "9       Jun 11  \n",
       "10       Jun 6  \n",
       "11       Jun 9  \n",
       "12      Jun 11  \n",
       "13       Jun 8  \n",
       "14      Jun 11  \n",
       "15       Jun 8  \n",
       "16       Jun 6  \n",
       "17       Jun 6  \n",
       "18       Jun 8  \n",
       "19       Jun 4  "
      ]
     },
     "execution_count": 27,
     "metadata": {},
     "output_type": "execute_result"
    }
   ],
   "source": [
    "posts"
   ]
  },
  {
   "cell_type": "code",
   "execution_count": 22,
   "metadata": {},
   "outputs": [
    {
     "name": "stdout",
     "output_type": "stream",
     "text": [
      "User Existence Check |===================>|\n",
      "Loading Following List |===================>|\n",
      "Loading More Followings |===================>|\n",
      "Followings fetched: 7\n",
      "Searching for redundancies and filtering to at most 5 followings...\n",
      "Completed!\n"
     ]
    }
   ],
   "source": [
    "followings = scraper.fetch_followings(\"syedsaddiq\", limit=5)"
   ]
  },
  {
   "cell_type": "code",
   "execution_count": 23,
   "metadata": {},
   "outputs": [],
   "source": [
    "followings = [item.replace('@', '') for item in followings]"
   ]
  },
  {
   "cell_type": "code",
   "execution_count": 24,
   "metadata": {},
   "outputs": [
    {
     "name": "stdout",
     "output_type": "stream",
     "text": [
      "User Existence Check |===================>|\n",
      "Fetching User Info |================>...|\n",
      "User Existence Check |===================>|\n",
      "Fetching User Info |================>...|\n",
      "User Existence Check |===================>|\n",
      "Fetching User Info |================>...|\n",
      "User Existence Check |===================>|\n",
      "Fetching User Info |================>...|\n",
      "User Existence Check |===================>|\n",
      "Fetching User Info |================>...|\n"
     ]
    }
   ],
   "source": [
    "t = []\n",
    "for i in followings:\n",
    "    t.append(scraper.fetch_userinfo(i))"
   ]
  },
  {
   "cell_type": "code",
   "execution_count": 26,
   "metadata": {},
   "outputs": [
    {
     "data": {
      "text/plain": [
       "['drwanazizah', 'fmtoday', 'hannahyeoh', 'kuasasiswa', 'maszlee']"
      ]
     },
     "execution_count": 26,
     "metadata": {},
     "output_type": "execute_result"
    }
   ],
   "source": []
  }
 ],
 "metadata": {
  "kernelspec": {
   "display_name": "wix3002_assignment",
   "language": "python",
   "name": "python3"
  },
  "language_info": {
   "codemirror_mode": {
    "name": "ipython",
    "version": 3
   },
   "file_extension": ".py",
   "mimetype": "text/x-python",
   "name": "python",
   "nbconvert_exporter": "python",
   "pygments_lexer": "ipython3",
   "version": "3.9.6"
  },
  "orig_nbformat": 4
 },
 "nbformat": 4,
 "nbformat_minor": 2
}
