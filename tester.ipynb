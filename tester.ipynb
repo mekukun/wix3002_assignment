{
 "cells": [
  {
   "cell_type": "code",
   "execution_count": 1,
   "metadata": {},
   "outputs": [
    {
     "name": "stderr",
     "output_type": "stream",
     "text": [
      "/Users/waizwafiq/Documents/FSKTM/Semester 6/WIX3002 Social Informatics/wix3002_assignment/wix3002_assignment/lib/python3.9/site-packages/urllib3/__init__.py:34: NotOpenSSLWarning: urllib3 v2.0 only supports OpenSSL 1.1.1+, currently the 'ssl' module is compiled with 'LibreSSL 2.8.3'. See: https://github.com/urllib3/urllib3/issues/3020\n",
      "  warnings.warn(\n"
     ]
    },
    {
     "name": "stdout",
     "output_type": "stream",
     "text": [
      "                                                               "
     ]
    }
   ],
   "source": [
    "from scraper import Scraper\n",
    "\n",
    "scraper = Scraper()"
   ]
  },
  {
   "cell_type": "code",
   "execution_count": 3,
   "metadata": {},
   "outputs": [
    {
     "name": "stdout",
     "output_type": "stream",
     "text": [
      "PRU15\n",
      "Posts fetched: 10                                              Posts fetched: 1\r"
     ]
    }
   ],
   "source": [
    "posts = scraper.get_posts(query=\"PRU15\")"
   ]
  },
  {
   "cell_type": "code",
   "execution_count": 9,
   "metadata": {},
   "outputs": [
    {
     "name": "stdout",
     "output_type": "stream",
     "text": [
      "                                                               "
     ]
    }
   ],
   "source": [
    "userinfo = scraper.fetch_userinfo(\"MyKinabatangan\")"
   ]
  },
  {
   "cell_type": "code",
   "execution_count": 10,
   "metadata": {},
   "outputs": [
    {
     "data": {
      "text/plain": [
       "{'name': 'Bung Moktar Radin',\n",
       " '@': '@MyKinabatangan',\n",
       " 'bio': 'Member of Parliament Member of UMNO Supreme Council Chairman of BN Kinabatangan',\n",
       " 'userLocation': 'Kinabatangan. Sabah.',\n",
       " 'joinDate': 'Joined February 2011',\n",
       " 'verified': False,\n",
       " 'followers': '1,091',\n",
       " 'followings': '63.2K'}"
      ]
     },
     "execution_count": 10,
     "metadata": {},
     "output_type": "execute_result"
    }
   ],
   "source": [
    "userinfo"
   ]
  }
 ],
 "metadata": {
  "kernelspec": {
   "display_name": "wix3002_assignment",
   "language": "python",
   "name": "python3"
  },
  "language_info": {
   "codemirror_mode": {
    "name": "ipython",
    "version": 3
   },
   "file_extension": ".py",
   "mimetype": "text/x-python",
   "name": "python",
   "nbconvert_exporter": "python",
   "pygments_lexer": "ipython3",
   "version": "3.9.6"
  },
  "orig_nbformat": 4
 },
 "nbformat": 4,
 "nbformat_minor": 2
}
