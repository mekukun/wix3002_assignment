{
 "cells": [
  {
   "cell_type": "code",
   "execution_count": 1,
   "metadata": {},
   "outputs": [
    {
     "name": "stderr",
     "output_type": "stream",
     "text": [
      "/Users/waizwafiq/Documents/FSKTM/Semester 6/WIX3002 Social Informatics/wix3002_assignment/wix3002_assignment/lib/python3.9/site-packages/urllib3/__init__.py:34: NotOpenSSLWarning: urllib3 v2.0 only supports OpenSSL 1.1.1+, currently the 'ssl' module is compiled with 'LibreSSL 2.8.3'. See: https://github.com/urllib3/urllib3/issues/3020\n",
      "  warnings.warn(\n"
     ]
    },
    {
     "name": "stdout",
     "output_type": "stream",
     "text": [
      "Rendering Login Page (1) |===================>|\n",
      "Rendering Login Page (2) |===================>|\n",
      "Rendering Login Page (3) |===================>|\n",
      "Rendering Home Page |===================>|\n"
     ]
    }
   ],
   "source": [
    "from scraper import Scraper\n",
    "from selenium import webdriver\n",
    "\n",
    "scraper = Scraper()"
   ]
  },
  {
   "cell_type": "code",
   "execution_count": 2,
   "metadata": {},
   "outputs": [
    {
     "name": "stdout",
     "output_type": "stream",
     "text": [
      "User Existence Check |===================>|\n"
     ]
    },
    {
     "data": {
      "text/plain": [
       "{'name': 'Bung Moktar Radin',\n",
       " '@': '@MyKinabatangan',\n",
       " 'bio': 'Member of Parliament Member of UMNO Supreme Council Chairman of BN Kinabatangan',\n",
       " 'userLocation': 'Kinabatangan. Sabah.',\n",
       " 'joinDate': 'Joined February 2011',\n",
       " 'verified': False,\n",
       " 'followers': '1,091',\n",
       " 'followings': '63.2K'}"
      ]
     },
     "execution_count": 2,
     "metadata": {},
     "output_type": "execute_result"
    }
   ],
   "source": [
    "userinfo = scraper.fetch_userinfo(\"MyKinabatangan\")\n",
    "userinfo"
   ]
  },
  {
   "cell_type": "code",
   "execution_count": 26,
   "metadata": {},
   "outputs": [
    {
     "name": "stdout",
     "output_type": "stream",
     "text": [
      "abahcow -filter:links -filter:nativeretweets\n",
      "Rendering Explore Page |===================>|\n",
      "Searching for redundancies and filtering to at most 20 posts...\n",
      "Completed!\n"
     ]
    }
   ],
   "source": [
    "posts = scraper.get_posts(query=\"abahcow\", filters=\"-filter:links -filter:nativeretweets\", limit=20)"
   ]
  },
  {
   "cell_type": "code",
   "execution_count": 30,
   "metadata": {},
   "outputs": [
    {
     "data": {
      "text/plain": [
       "array([['abc', 'def'],\n",
       "       ['abc', 'df'],\n",
       "       ['ac', 'ef']], dtype='<U3')"
      ]
     },
     "execution_count": 30,
     "metadata": {},
     "output_type": "execute_result"
    }
   ],
   "source": [
    "import numpy as np\n",
    "\n",
    "\n",
    "a = np.array([[\"abc\", \"def\"],[\"ac\", \"ef\"],[\"abc\", \"df\"],[\"abc\", \"def\"]])\n",
    "\n",
    "np.unique(a,axis=0)"
   ]
  },
  {
   "cell_type": "code",
   "execution_count": 27,
   "metadata": {},
   "outputs": [
    {
     "data": {
      "text/html": [
       "<div>\n",
       "<style scoped>\n",
       "    .dataframe tbody tr th:only-of-type {\n",
       "        vertical-align: middle;\n",
       "    }\n",
       "\n",
       "    .dataframe tbody tr th {\n",
       "        vertical-align: top;\n",
       "    }\n",
       "\n",
       "    .dataframe thead th {\n",
       "        text-align: right;\n",
       "    }\n",
       "</style>\n",
       "<table border=\"1\" class=\"dataframe\">\n",
       "  <thead>\n",
       "    <tr style=\"text-align: right;\">\n",
       "      <th></th>\n",
       "      <th>Twitter Username</th>\n",
       "      <th>Post</th>\n",
       "      <th>Date Posted</th>\n",
       "    </tr>\n",
       "  </thead>\n",
       "  <tbody>\n",
       "    <tr>\n",
       "      <th>0</th>\n",
       "      <td>@adamxile</td>\n",
       "      <td>Aik? Itu audit 2021, zaman PN abahcow. Apa pus...</td>\n",
       "      <td>Jun 7</td>\n",
       "    </tr>\n",
       "    <tr>\n",
       "      <th>1</th>\n",
       "      <td>@faizzz94</td>\n",
       "      <td>Abahcow , wan saiful janawibawa ada kes rasuah...</td>\n",
       "      <td>Jun 6</td>\n",
       "    </tr>\n",
       "    <tr>\n",
       "      <th>2</th>\n",
       "      <td>@BluCroozer</td>\n",
       "      <td>Not Syed Mokhtar bribing but more like Abahcow...</td>\n",
       "      <td>Jun 4</td>\n",
       "    </tr>\n",
       "    <tr>\n",
       "      <th>3</th>\n",
       "      <td>@MSAR53</td>\n",
       "      <td>Suh abahcow tu dtg je esok parlimen. Jgn nk be...</td>\n",
       "      <td>1h</td>\n",
       "    </tr>\n",
       "    <tr>\n",
       "      <th>4</th>\n",
       "      <td>@AnggunxXOXO</td>\n",
       "      <td>Bila mangkuk bodoh nak jugak komen.... gini la...</td>\n",
       "      <td>Jun 9</td>\n",
       "    </tr>\n",
       "    <tr>\n",
       "      <th>5</th>\n",
       "      <td>@adzdin</td>\n",
       "      <td>AG yang ada sekarang lantikan AbahCow juga kih...</td>\n",
       "      <td>Jun 6</td>\n",
       "    </tr>\n",
       "    <tr>\n",
       "      <th>6</th>\n",
       "      <td>@Mustang_Khan5</td>\n",
       "      <td>Why not invite abahcow?? Tercirit me</td>\n",
       "      <td>Jun 9</td>\n",
       "    </tr>\n",
       "    <tr>\n",
       "      <th>7</th>\n",
       "      <td>@m_iqone</td>\n",
       "      <td>Heran dn bangangnya yg abahcow ni jualah yg lo...</td>\n",
       "      <td>Jun 11</td>\n",
       "    </tr>\n",
       "    <tr>\n",
       "      <th>8</th>\n",
       "      <td>@sharizaliman_</td>\n",
       "      <td>macam abahcow</td>\n",
       "      <td>Jun 8</td>\n",
       "    </tr>\n",
       "    <tr>\n",
       "      <th>9</th>\n",
       "      <td>@SubcultureWear1</td>\n",
       "      <td>Dorgdh well plan time jd gov dlu, sbb tu tidak...</td>\n",
       "      <td>Jun 11</td>\n",
       "    </tr>\n",
       "    <tr>\n",
       "      <th>10</th>\n",
       "      <td>@adzdin</td>\n",
       "      <td>AG yang ada sekarang lantikan AbahCow juga kih...</td>\n",
       "      <td>Jun 6</td>\n",
       "    </tr>\n",
       "    <tr>\n",
       "      <th>11</th>\n",
       "      <td>@Mustang_Khan5</td>\n",
       "      <td>Why not invite abahcow?? Tercirit me</td>\n",
       "      <td>Jun 9</td>\n",
       "    </tr>\n",
       "    <tr>\n",
       "      <th>12</th>\n",
       "      <td>@m_iqone</td>\n",
       "      <td>Heran dn bangangnya yg abahcow ni jualah yg lo...</td>\n",
       "      <td>Jun 11</td>\n",
       "    </tr>\n",
       "    <tr>\n",
       "      <th>13</th>\n",
       "      <td>@sharizaliman_</td>\n",
       "      <td>macam abahcow</td>\n",
       "      <td>Jun 8</td>\n",
       "    </tr>\n",
       "    <tr>\n",
       "      <th>14</th>\n",
       "      <td>@SubcultureWear1</td>\n",
       "      <td>Dorgdh well plan time jd gov dlu, sbb tu tidak...</td>\n",
       "      <td>Jun 11</td>\n",
       "    </tr>\n",
       "    <tr>\n",
       "      <th>15</th>\n",
       "      <td>@mrSmith96522709</td>\n",
       "      <td>10ekok tu...lantak pi....kaki broker politik.....</td>\n",
       "      <td>Jun 8</td>\n",
       "    </tr>\n",
       "    <tr>\n",
       "      <th>16</th>\n",
       "      <td>@zaranbeta</td>\n",
       "      <td>Masa abahcow jadi PM rakyat malaysia banyak ma...</td>\n",
       "      <td>Jun 6</td>\n",
       "    </tr>\n",
       "    <tr>\n",
       "      <th>17</th>\n",
       "      <td>@Fiqirzainal</td>\n",
       "      <td>dahlah sakau duit, minyak subsidi simpan sendi...</td>\n",
       "      <td>Jun 6</td>\n",
       "    </tr>\n",
       "    <tr>\n",
       "      <th>18</th>\n",
       "      <td>@kamal_ganesan</td>\n",
       "      <td>Politik jijik paling busuk dimainkan Tun M, Ha...</td>\n",
       "      <td>Jun 8</td>\n",
       "    </tr>\n",
       "    <tr>\n",
       "      <th>19</th>\n",
       "      <td>@m_iqone</td>\n",
       "      <td>Dah cukup jumloo melebihi drp cekop....last ab...</td>\n",
       "      <td>Jun 4</td>\n",
       "    </tr>\n",
       "  </tbody>\n",
       "</table>\n",
       "</div>"
      ],
      "text/plain": [
       "    Twitter Username                                               Post  \\\n",
       "0          @adamxile  Aik? Itu audit 2021, zaman PN abahcow. Apa pus...   \n",
       "1          @faizzz94  Abahcow , wan saiful janawibawa ada kes rasuah...   \n",
       "2        @BluCroozer  Not Syed Mokhtar bribing but more like Abahcow...   \n",
       "3            @MSAR53  Suh abahcow tu dtg je esok parlimen. Jgn nk be...   \n",
       "4       @AnggunxXOXO  Bila mangkuk bodoh nak jugak komen.... gini la...   \n",
       "5            @adzdin  AG yang ada sekarang lantikan AbahCow juga kih...   \n",
       "6     @Mustang_Khan5               Why not invite abahcow?? Tercirit me   \n",
       "7           @m_iqone  Heran dn bangangnya yg abahcow ni jualah yg lo...   \n",
       "8     @sharizaliman_                                      macam abahcow   \n",
       "9   @SubcultureWear1  Dorgdh well plan time jd gov dlu, sbb tu tidak...   \n",
       "10           @adzdin  AG yang ada sekarang lantikan AbahCow juga kih...   \n",
       "11    @Mustang_Khan5               Why not invite abahcow?? Tercirit me   \n",
       "12          @m_iqone  Heran dn bangangnya yg abahcow ni jualah yg lo...   \n",
       "13    @sharizaliman_                                      macam abahcow   \n",
       "14  @SubcultureWear1  Dorgdh well plan time jd gov dlu, sbb tu tidak...   \n",
       "15  @mrSmith96522709  10ekok tu...lantak pi....kaki broker politik.....   \n",
       "16        @zaranbeta  Masa abahcow jadi PM rakyat malaysia banyak ma...   \n",
       "17      @Fiqirzainal  dahlah sakau duit, minyak subsidi simpan sendi...   \n",
       "18    @kamal_ganesan  Politik jijik paling busuk dimainkan Tun M, Ha...   \n",
       "19          @m_iqone  Dah cukup jumloo melebihi drp cekop....last ab...   \n",
       "\n",
       "   Date Posted  \n",
       "0        Jun 7  \n",
       "1        Jun 6  \n",
       "2        Jun 4  \n",
       "3           1h  \n",
       "4        Jun 9  \n",
       "5        Jun 6  \n",
       "6        Jun 9  \n",
       "7       Jun 11  \n",
       "8        Jun 8  \n",
       "9       Jun 11  \n",
       "10       Jun 6  \n",
       "11       Jun 9  \n",
       "12      Jun 11  \n",
       "13       Jun 8  \n",
       "14      Jun 11  \n",
       "15       Jun 8  \n",
       "16       Jun 6  \n",
       "17       Jun 6  \n",
       "18       Jun 8  \n",
       "19       Jun 4  "
      ]
     },
     "execution_count": 27,
     "metadata": {},
     "output_type": "execute_result"
    }
   ],
   "source": [
    "posts"
   ]
  },
  {
   "cell_type": "code",
   "execution_count": 22,
   "metadata": {},
   "outputs": [
    {
     "name": "stdout",
     "output_type": "stream",
     "text": [
      "User Existence Check |===================>|\n",
      "Loading Following List |===================>|\n",
      "Loading More Followings |===================>|\n",
      "Followings fetched: 7\n",
      "Searching for redundancies and filtering to at most 5 followings...\n",
      "Completed!\n"
     ]
    }
   ],
   "source": [
    "followings = scraper.fetch_followings(\"syedsaddiq\", limit=5)"
   ]
  },
  {
   "cell_type": "code",
   "execution_count": 23,
   "metadata": {},
   "outputs": [],
   "source": [
    "followings = [item.replace('@', '') for item in followings]"
   ]
  },
  {
   "cell_type": "code",
   "execution_count": 24,
   "metadata": {},
   "outputs": [
    {
     "name": "stdout",
     "output_type": "stream",
     "text": [
      "User Existence Check |===================>|\n",
      "Fetching User Info |================>...|\n",
      "User Existence Check |===================>|\n",
      "Fetching User Info |================>...|\n",
      "User Existence Check |===================>|\n",
      "Fetching User Info |================>...|\n",
      "User Existence Check |===================>|\n",
      "Fetching User Info |================>...|\n",
      "User Existence Check |===================>|\n",
      "Fetching User Info |================>...|\n"
     ]
    }
   ],
   "source": [
    "t = []\n",
    "for i in followings:\n",
    "    t.append(scraper.fetch_userinfo(i))"
   ]
  },
  {
   "cell_type": "code",
   "execution_count": 26,
   "metadata": {},
   "outputs": [
    {
     "data": {
      "text/plain": [
       "['drwanazizah', 'fmtoday', 'hannahyeoh', 'kuasasiswa', 'maszlee']"
      ]
     },
     "execution_count": 26,
     "metadata": {},
     "output_type": "execute_result"
    }
   ],
   "source": []
  }
 ],
 "metadata": {
  "kernelspec": {
   "display_name": "wix3002_assignment",
   "language": "python",
   "name": "python3"
  },
  "language_info": {
   "codemirror_mode": {
    "name": "ipython",
    "version": 3
   },
   "file_extension": ".py",
   "mimetype": "text/x-python",
   "name": "python",
   "nbconvert_exporter": "python",
   "pygments_lexer": "ipython3",
   "version": "3.9.6"
  },
  "orig_nbformat": 4
 },
 "nbformat": 4,
 "nbformat_minor": 2
}
