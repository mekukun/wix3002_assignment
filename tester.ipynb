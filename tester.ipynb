{
 "cells": [
  {
   "cell_type": "code",
   "execution_count": 1,
   "metadata": {},
   "outputs": [
    {
     "name": "stderr",
     "output_type": "stream",
     "text": [
      "/Users/waizwafiq/Documents/FSKTM/Semester 6/WIX3002 Social Informatics/wix3002_assignment/wix3002_assignment/lib/python3.9/site-packages/urllib3/__init__.py:34: NotOpenSSLWarning: urllib3 v2.0 only supports OpenSSL 1.1.1+, currently the 'ssl' module is compiled with 'LibreSSL 2.8.3'. See: https://github.com/urllib3/urllib3/issues/3020\n",
      "  warnings.warn(\n"
     ]
    },
    {
     "name": "stdout",
     "output_type": "stream",
     "text": [
      "Rendering Login Page (1) |===================>|\n",
      "Rendering Login Page (2) |===================>|\n",
      "Message: ; For documentation on this error, please visit: https://www.selenium.dev/documentation/webdriver/troubleshooting/errors#no-such-element-exception\n",
      "\n",
      "Rendering Home Page |==================>.|\n"
     ]
    }
   ],
   "source": [
    "from scraper import Scraper\n",
    "\n",
    "scraper = Scraper()"
   ]
  },
  {
   "attachments": {},
   "cell_type": "markdown",
   "metadata": {},
   "source": [
    "# @DrZahidHamidi"
   ]
  },
  {
   "cell_type": "code",
   "execution_count": 13,
   "metadata": {},
   "outputs": [
    {
     "name": "stdout",
     "output_type": "stream",
     "text": [
      "User Existence Check |===================>|\n",
      "Loading Following List |===================>|\n",
      "Loading More Followings |===================>|\n",
      "Loading More Followings |===================>|\n",
      "Loading More Followings |===================>|\n",
      "Loading More Followings |===================>|\n",
      "Loading More Followings |===================>|\n",
      "Loading More Followings |===================>|\n",
      "Loading More Followings |===================>|\n",
      "Loading More Followings |===================>|\n",
      "Loading More Followings |===================>|\n",
      "Loading More Followings |===================>|\n",
      "Loading More Followings |===================>|\n",
      "Loading More Followings |===================>|\n",
      "Loading More Followings |===================>|\n",
      "Loading More Followings |===================>|\n",
      "Loading More Followings |===================>|\n",
      "Loading More Followings |===================>|\n",
      "Loading More Followings |===================>|\n",
      "Loading More Followings |===================>|\n",
      "Loading More Followings |===================>|\n",
      "Loading More Followings |===================>|\n",
      "Loading More Followings |===================>|\n",
      "Loading More Followings |===================>|\n",
      "Loading More Followings |===================>|\n",
      "Loading More Followings |===================>|\n",
      "Loading More Followings |===================>|\n",
      "Loading More Followings |===================>|\n",
      "Loading More Followings |===================>|\n",
      "Loading More Followings |===================>|\n",
      "Loading More Followings |===================>|\n",
      "Loading More Followings |===================>|\n",
      "Loading More Followings |===================>|\n",
      "Loading More Followings |===================>|\n",
      "Loading More Followings |===================>|\n",
      "Loading More Followings |===================>|\n",
      "Loading More Followings |===================>|\n",
      "Loading More Followings |===================>|\n",
      "Loading More Followings |===================>|\n",
      "Loading More Followings |===================>|\n",
      "Loading More Followings |===================>|\n",
      "Loading More Followings |===================>|\n",
      "Loading More Followings |===================>|\n",
      "Loading More Followings |===================>|\n",
      "Loading More Followings |===================>|\n",
      "Loading More Followings |===================>|\n",
      "Loading More Followings |===================>|\n",
      "Loading More Followings |===================>|\n",
      "Loading More Followings |===================>|\n",
      "Loading More Followings |===================>|\n",
      "Loading More Followings |===================>|\n",
      "Loading More Followings |===================>|\n",
      "Loading More Followings |===================>|\n",
      "Loading More Followings |===================>|\n",
      "Loading More Followings |===================>|\n",
      "Loading More Followings |===================>|\n",
      "Loading More Followings |===================>|\n",
      "Loading More Followings |===================>|\n",
      "Loading More Followings |===================>|\n",
      "Loading More Followings |===================>|\n",
      "Loading More Followings |===================>|\n",
      "Loading More Followings |===================>|\n",
      "Loading More Followings |===================>|\n",
      "Loading More Followings |===================>|\n",
      "Loading More Followings |===================>|\n",
      "Loading More Followings |===================>|\n",
      "Loading More Followings |===================>|\n",
      "Loading More Followings |===================>|\n",
      "Loading More Followings |===================>|\n",
      "Followings fetched: 2027\n",
      "Searching for redundancies and filtering to at most 2000 followings...\n",
      "Completed!\n",
      "User Existence Check |===================>|\n",
      "Loading Followers List |===================>|\n",
      "Loading More Followers |===================>|\n",
      "Followers fetched: 0\n",
      "Searching for redundancies and filtering to at most 2000 followers...\n",
      "Completed!\n"
     ]
    }
   ],
   "source": [
    "zahidhamidi_followings = scraper.fetch_followings(\"DrZahidHamidi\", limit=2000)"
   ]
  },
  {
   "cell_type": "code",
   "execution_count": 24,
   "metadata": {},
   "outputs": [
    {
     "name": "stdout",
     "output_type": "stream",
     "text": [
      "1000\n"
     ]
    }
   ],
   "source": [
    "import pandas as pd\n",
    "df = pd.DataFrame(zahidhamidi_followings[:1000])\n",
    "print(len(df))"
   ]
  },
  {
   "cell_type": "code",
   "execution_count": 25,
   "metadata": {},
   "outputs": [],
   "source": [
    "df.to_csv('DrZahidHamidi_followings.csv', index=False)"
   ]
  },
  {
   "cell_type": "code",
   "execution_count": 19,
   "metadata": {},
   "outputs": [
    {
     "name": "stdout",
     "output_type": "stream",
     "text": [
      "User Existence Check |===================>|\n",
      "Loading Followers List |===================>|\n",
      "Loading More Followers |===================>|\n",
      "Loading More Followers |===================>|\n",
      "Loading More Followers |===================>|\n",
      "Loading More Followers |===================>|\n",
      "Loading More Followers |===================>|\n",
      "Loading More Followers |===================>|\n",
      "Loading More Followers |===================>|\n",
      "Loading More Followers |===================>|\n",
      "Loading More Followers |===================>|\n",
      "Loading More Followers |===================>|\n",
      "Loading More Followers |===================>|\n",
      "Loading More Followers |===================>|\n",
      "Loading More Followers |===================>|\n",
      "Loading More Followers |===================>|\n",
      "Loading More Followers |===================>|\n",
      "Loading More Followers |===================>|\n",
      "Loading More Followers |===================>|\n",
      "Loading More Followers |===================>|\n",
      "Loading More Followers |===================>|\n",
      "Loading More Followers |===================>|\n",
      "Loading More Followers |===================>|\n",
      "Loading More Followers |===================>|\n",
      "Loading More Followers |===================>|\n",
      "Loading More Followers |===================>|\n",
      "Loading More Followers |===================>|\n",
      "Loading More Followers |===================>|\n",
      "Loading More Followers |===================>|\n",
      "Loading More Followers |===================>|\n",
      "Loading More Followers |===================>|\n",
      "Loading More Followers |===================>|\n",
      "Loading More Followers |===================>|\n",
      "Loading More Followers |===================>|\n",
      "Loading More Followers |===================>|\n",
      "Loading More Followers |===================>|\n",
      "Loading More Followers |===================>|\n",
      "Loading More Followers |===================>|\n",
      "Loading More Followers |===================>|\n",
      "Loading More Followers |===================>|\n",
      "Loading More Followers |===================>|\n",
      "Loading More Followers |===================>|\n",
      "Loading More Followers |===================>|\n",
      "Loading More Followers |===================>|\n",
      "Loading More Followers |===================>|\n",
      "Loading More Followers |===================>|\n",
      "Loading More Followers |===================>|\n",
      "Loading More Followers |===================>|\n",
      "Loading More Followers |===================>|\n",
      "Loading More Followers |===================>|\n",
      "Loading More Followers |===================>|\n",
      "Loading More Followers |===================>|\n",
      "Followers fetched: 1683\n",
      "Searching for redundancies and filtering to at most 2000 followers...\n",
      "Completed!\n"
     ]
    }
   ],
   "source": [
    "zahidhamidi_followers = scraper.fetch_followers(\"DrZahidHamidi\", limit=2000)"
   ]
  },
  {
   "cell_type": "code",
   "execution_count": 28,
   "metadata": {},
   "outputs": [
    {
     "name": "stdout",
     "output_type": "stream",
     "text": [
      "1000\n"
     ]
    }
   ],
   "source": [
    "import pandas as pd\n",
    "df = pd.DataFrame(zahidhamidi_followers[:1000])\n",
    "print(len(df))"
   ]
  },
  {
   "cell_type": "code",
   "execution_count": 29,
   "metadata": {},
   "outputs": [],
   "source": [
    "df.to_csv('DrZahidHamidi_followers.csv', index=False)"
   ]
  },
  {
   "cell_type": "code",
   "execution_count": 35,
   "metadata": {},
   "outputs": [
    {
     "name": "stdout",
     "output_type": "stream",
     "text": [
      "(#ZahidHamidi) OR (Zahid Hamidi) OR (Zahid AND umno) OR (Zahid AND bn) lang:en -filter:links\n",
      "Rendering Explore Page |===================>|\n",
      "Rendering Latest Posts |===================>|\n",
      "Searching for redundancies and filtering to at most 5000 posts...\n",
      "Completed!\n"
     ]
    }
   ],
   "source": [
    "zahidhamidi_posts = scraper.get_posts(query='(#ZahidHamidi) OR (Zahid Hamidi) OR (Zahid AND umno) OR (Zahid AND bn)', filters='lang:en -filter:links', limit=5000)"
   ]
  },
  {
   "cell_type": "code",
   "execution_count": 37,
   "metadata": {},
   "outputs": [],
   "source": [
    "zahidhamidi_posts.to_csv('DrZahidHamidi_posts.csv', index=False)"
   ]
  },
  {
   "attachments": {},
   "cell_type": "markdown",
   "metadata": {},
   "source": [
    "# @AbgJohariOpeng"
   ]
  },
  {
   "cell_type": "code",
   "execution_count": 30,
   "metadata": {},
   "outputs": [
    {
     "name": "stdout",
     "output_type": "stream",
     "text": [
      "User Existence Check |===================>|\n",
      "Loading Following List |===================>|\n",
      "Loading More Followings |===================>|\n",
      "Followings fetched: 3\n",
      "Searching for redundancies and filtering to at most 1200 followings...\n",
      "Completed!\n"
     ]
    }
   ],
   "source": [
    "abgjohari_followings = scraper.fetch_followings(\"AbgJohariOpeng\", limit=1200)"
   ]
  },
  {
   "cell_type": "code",
   "execution_count": 33,
   "metadata": {},
   "outputs": [
    {
     "name": "stdout",
     "output_type": "stream",
     "text": [
      "3\n"
     ]
    }
   ],
   "source": [
    "import pandas as pd\n",
    "df = pd.DataFrame(abgjohari_followings[:1000])\n",
    "print(len(df))"
   ]
  },
  {
   "cell_type": "code",
   "execution_count": 34,
   "metadata": {},
   "outputs": [],
   "source": [
    "df.to_csv('AbgJohariOpeng_followings.csv', index=False)"
   ]
  },
  {
   "cell_type": "code",
   "execution_count": 23,
   "metadata": {},
   "outputs": [
    {
     "name": "stdout",
     "output_type": "stream",
     "text": [
      "User Existence Check |===================>|\n",
      "Loading Followers List |===================>|\n",
      "Loading More Followers |===================>|\n",
      "Loading More Followers |===================>|\n",
      "Loading More Followers |===================>|\n",
      "Loading More Followers |===================>|\n",
      "Loading More Followers |===================>|\n",
      "Loading More Followers |===================>|\n",
      "Loading More Followers |===================>|\n",
      "Loading More Followers |===================>|\n",
      "Loading More Followers |===================>|\n",
      "Loading More Followers |===================>|\n",
      "Loading More Followers |===================>|\n",
      "Loading More Followers |===================>|\n",
      "Loading More Followers |===================>|\n",
      "Loading More Followers |===================>|\n",
      "Loading More Followers |===================>|\n",
      "Loading More Followers |===================>|\n",
      "Loading More Followers |===================>|\n",
      "Loading More Followers |===================>|\n",
      "Loading More Followers |===================>|\n",
      "Loading More Followers |===================>|\n",
      "Loading More Followers |===================>|\n",
      "Loading More Followers |===================>|\n",
      "Loading More Followers |===================>|\n",
      "Loading More Followers |===================>|\n",
      "Loading More Followers |===================>|\n",
      "Loading More Followers |===================>|\n",
      "Loading More Followers |===================>|\n",
      "Loading More Followers |===================>|\n",
      "Loading More Followers |===================>|\n",
      "Loading More Followers |===================>|\n",
      "Loading More Followers |===================>|\n",
      "Loading More Followers |===================>|\n",
      "Loading More Followers |===================>|\n",
      "Loading More Followers |===================>|\n",
      "Loading More Followers |===================>|\n",
      "Loading More Followers |===================>|\n",
      "Loading More Followers |===================>|\n",
      "Loading More Followers |===================>|\n",
      "Loading More Followers |===================>|\n",
      "Followers fetched: 1225\n",
      "Searching for redundancies and filtering to at most 1200 followers...\n",
      "Completed!\n"
     ]
    }
   ],
   "source": [
    "abgjohari_followers = scraper.fetch_followers(\"AbgJohariOpeng\", limit=1200)"
   ]
  },
  {
   "cell_type": "code",
   "execution_count": 28,
   "metadata": {},
   "outputs": [
    {
     "name": "stdout",
     "output_type": "stream",
     "text": [
      "784\n"
     ]
    }
   ],
   "source": [
    "import pandas as pd\n",
    "df = pd.DataFrame(abgjohari_followers[:1000])\n",
    "print(len(df))"
   ]
  },
  {
   "cell_type": "code",
   "execution_count": 29,
   "metadata": {},
   "outputs": [],
   "source": [
    "df.to_csv('AbgJohariOpeng_followers.csv', index=False)"
   ]
  },
  {
   "cell_type": "code",
   "execution_count": 38,
   "metadata": {},
   "outputs": [
    {
     "name": "stdout",
     "output_type": "stream",
     "text": [
      "(#AbangJohari) OR (Abang Johari AND (Sabah OR Sarawak)) OR (Abang Johari AND (#Sabah OR #Sarawak)) OR (Abang Johari AND (gps OR #gps OR gabungan parti sarawak OR parti OR #UMNO)) lang:en -filter:links\n",
      "Rendering Explore Page |===================>|\n",
      "Rendering Latest Posts |===================>|\n",
      "Searching for redundancies and filtering to at most 5000 posts...\n",
      "Completed!\n"
     ]
    }
   ],
   "source": [
    "abgjohari_posts = scraper.get_posts(query='(#AbangJohari) OR (Abang Johari AND (Sabah OR Sarawak)) OR (Abang Johari AND (#Sabah OR #Sarawak)) OR (Abang Johari AND (gps OR #gps OR gabungan parti sarawak OR parti OR #UMNO))', filters='lang:en -filter:links', limit=5000)"
   ]
  },
  {
   "cell_type": "code",
   "execution_count": 40,
   "metadata": {},
   "outputs": [],
   "source": [
    "abgjohari_posts.to_csv(\"AbgJohariOpeng_posts.csv\", index=False)"
   ]
  },
  {
   "cell_type": "code",
   "execution_count": 41,
   "metadata": {},
   "outputs": [
    {
     "data": {
      "text/html": [
       "<div>\n",
       "<style scoped>\n",
       "    .dataframe tbody tr th:only-of-type {\n",
       "        vertical-align: middle;\n",
       "    }\n",
       "\n",
       "    .dataframe tbody tr th {\n",
       "        vertical-align: top;\n",
       "    }\n",
       "\n",
       "    .dataframe thead th {\n",
       "        text-align: right;\n",
       "    }\n",
       "</style>\n",
       "<table border=\"1\" class=\"dataframe\">\n",
       "  <thead>\n",
       "    <tr style=\"text-align: right;\">\n",
       "      <th></th>\n",
       "      <th>Twitter Username</th>\n",
       "      <th>Post</th>\n",
       "      <th>Date Posted</th>\n",
       "    </tr>\n",
       "  </thead>\n",
       "  <tbody>\n",
       "    <tr>\n",
       "      <th>0</th>\n",
       "      <td>@AfralAbdullah</td>\n",
       "      <td>Hey Abang Johari. Do you understand what is de...</td>\n",
       "      <td>Nov 15, 2021</td>\n",
       "    </tr>\n",
       "    <tr>\n",
       "      <th>1</th>\n",
       "      <td>@AqilahRoslee</td>\n",
       "      <td>PETRA JAYA: Chief Minister Datuk Patinggi Aban...</td>\n",
       "      <td>Apr 24, 2018</td>\n",
       "    </tr>\n",
       "    <tr>\n",
       "      <th>2</th>\n",
       "      <td>@AsiaElects</td>\n",
       "      <td>Malaysia (Sarawak): Abang Johari (PBB-Conserva...</td>\n",
       "      <td>Dec 19, 2021</td>\n",
       "    </tr>\n",
       "    <tr>\n",
       "      <th>3</th>\n",
       "      <td>@AvatarFacbook</td>\n",
       "      <td>#Netherland #France #Georgia #Finland #Greece ...</td>\n",
       "      <td>Apr 8, 2020</td>\n",
       "    </tr>\n",
       "    <tr>\n",
       "      <th>4</th>\n",
       "      <td>@AvatarFacbook</td>\n",
       "      <td>#WWFnews \\nThe chiefministry of sarawak: Abang...</td>\n",
       "      <td>Apr 7, 2020</td>\n",
       "    </tr>\n",
       "    <tr>\n",
       "      <th>...</th>\n",
       "      <td>...</td>\n",
       "      <td>...</td>\n",
       "      <td>...</td>\n",
       "    </tr>\n",
       "    <tr>\n",
       "      <th>141</th>\n",
       "      <td>@yayiiztikita613</td>\n",
       "      <td>Abang Johari, chairman of the Sarawak Alliance...</td>\n",
       "      <td>Jan 20</td>\n",
       "    </tr>\n",
       "    <tr>\n",
       "      <th>142</th>\n",
       "      <td>@ynwa_Perak76</td>\n",
       "      <td>More like who will Sarawak/Abang Johari believ...</td>\n",
       "      <td>Aug 9, 2017</td>\n",
       "    </tr>\n",
       "    <tr>\n",
       "      <th>143</th>\n",
       "      <td>@yongsooheong</td>\n",
       "      <td>#AbangJohari Tun Hj Openg is not only an affab...</td>\n",
       "      <td>Jan 14, 2017</td>\n",
       "    </tr>\n",
       "    <tr>\n",
       "      <th>144</th>\n",
       "      <td>@zaidibrahim</td>\n",
       "      <td>Sarawak once again saves Malaysia. Thank you t...</td>\n",
       "      <td>Mar 30, 2017</td>\n",
       "    </tr>\n",
       "    <tr>\n",
       "      <th>145</th>\n",
       "      <td>@zulmah56</td>\n",
       "      <td>Sarawak's Abang Johari went cross country on h...</td>\n",
       "      <td>Oct 5, 2020</td>\n",
       "    </tr>\n",
       "  </tbody>\n",
       "</table>\n",
       "<p>146 rows × 3 columns</p>\n",
       "</div>"
      ],
      "text/plain": [
       "     Twitter Username                                               Post  \\\n",
       "0      @AfralAbdullah  Hey Abang Johari. Do you understand what is de...   \n",
       "1       @AqilahRoslee  PETRA JAYA: Chief Minister Datuk Patinggi Aban...   \n",
       "2         @AsiaElects  Malaysia (Sarawak): Abang Johari (PBB-Conserva...   \n",
       "3      @AvatarFacbook  #Netherland #France #Georgia #Finland #Greece ...   \n",
       "4      @AvatarFacbook  #WWFnews \\nThe chiefministry of sarawak: Abang...   \n",
       "..                ...                                                ...   \n",
       "141  @yayiiztikita613  Abang Johari, chairman of the Sarawak Alliance...   \n",
       "142     @ynwa_Perak76  More like who will Sarawak/Abang Johari believ...   \n",
       "143     @yongsooheong  #AbangJohari Tun Hj Openg is not only an affab...   \n",
       "144      @zaidibrahim  Sarawak once again saves Malaysia. Thank you t...   \n",
       "145         @zulmah56  Sarawak's Abang Johari went cross country on h...   \n",
       "\n",
       "      Date Posted  \n",
       "0    Nov 15, 2021  \n",
       "1    Apr 24, 2018  \n",
       "2    Dec 19, 2021  \n",
       "3     Apr 8, 2020  \n",
       "4     Apr 7, 2020  \n",
       "..            ...  \n",
       "141        Jan 20  \n",
       "142   Aug 9, 2017  \n",
       "143  Jan 14, 2017  \n",
       "144  Mar 30, 2017  \n",
       "145   Oct 5, 2020  \n",
       "\n",
       "[146 rows x 3 columns]"
      ]
     },
     "execution_count": 41,
     "metadata": {},
     "output_type": "execute_result"
    }
   ],
   "source": [
    "abgjohari_posts"
   ]
  },
  {
   "attachments": {},
   "cell_type": "markdown",
   "metadata": {},
   "source": [
    "# @IsmailSabri60"
   ]
  },
  {
   "cell_type": "code",
   "execution_count": 41,
   "metadata": {},
   "outputs": [
    {
     "name": "stdout",
     "output_type": "stream",
     "text": [
      "User Existence Check |===================>|\n",
      "Loading Following List |===================>|\n",
      "Loading More Followings |===================>|\n",
      "Loading More Followings |===================>|\n",
      "Loading More Followings |===================>|\n",
      "Loading More Followings |===================>|\n",
      "Loading More Followings |===================>|\n",
      "Loading More Followings |===================>|\n",
      "Loading More Followings |===================>|\n",
      "Loading More Followings |===================>|\n",
      "Loading More Followings |===================>|\n",
      "Loading More Followings |===================>|\n",
      "Loading More Followings |===================>|\n",
      "Loading More Followings |===================>|\n",
      "Loading More Followings |===================>|\n",
      "Loading More Followings |===================>|\n",
      "Loading More Followings |===================>|\n",
      "Loading More Followings |===================>|\n",
      "Loading More Followings |===================>|\n",
      "Loading More Followings |===================>|\n",
      "Loading More Followings |===================>|\n",
      "Loading More Followings |===================>|\n",
      "Followings fetched: 525\n",
      "Searching for redundancies and filtering to at most 1200 followings...\n",
      "Completed!\n"
     ]
    }
   ],
   "source": [
    "ismailsabri_followings = scraper.fetch_followings(\"IsmailSabri60\", limit=1200)"
   ]
  },
  {
   "cell_type": "code",
   "execution_count": 42,
   "metadata": {},
   "outputs": [
    {
     "name": "stdout",
     "output_type": "stream",
     "text": [
      "377\n"
     ]
    }
   ],
   "source": [
    "import pandas as pd\n",
    "df = pd.DataFrame(ismailsabri_followings[:1000])\n",
    "print(len(df))"
   ]
  },
  {
   "cell_type": "code",
   "execution_count": 43,
   "metadata": {},
   "outputs": [],
   "source": [
    "df.to_csv('IsmailSabri60_followings.csv', index=False)"
   ]
  },
  {
   "cell_type": "code",
   "execution_count": 30,
   "metadata": {},
   "outputs": [
    {
     "name": "stdout",
     "output_type": "stream",
     "text": [
      "User Existence Check |===================>|\n",
      "Loading Followers List |===================>|\n",
      "Loading More Followers |===================>|\n",
      "Loading More Followers |===================>|\n",
      "Loading More Followers |===================>|\n",
      "Loading More Followers |===================>|\n",
      "Loading More Followers |===================>|\n",
      "Loading More Followers |===================>|\n",
      "Loading More Followers |===================>|\n",
      "Loading More Followers |===================>|\n",
      "Loading More Followers |===================>|\n",
      "Loading More Followers |===================>|\n",
      "Loading More Followers |===================>|\n",
      "Loading More Followers |===================>|\n",
      "Loading More Followers |===================>|\n",
      "Loading More Followers |===================>|\n",
      "Loading More Followers |===================>|\n",
      "Loading More Followers |===================>|\n",
      "Loading More Followers |===================>|\n",
      "Loading More Followers |===================>|\n",
      "Loading More Followers |===================>|\n",
      "Loading More Followers |===================>|\n",
      "Loading More Followers |===================>|\n",
      "Loading More Followers |===================>|\n",
      "Loading More Followers |===================>|\n",
      "Loading More Followers |===================>|\n",
      "Loading More Followers |===================>|\n",
      "Loading More Followers |===================>|\n",
      "Loading More Followers |===================>|\n",
      "Loading More Followers |===================>|\n",
      "Loading More Followers |===================>|\n",
      "Loading More Followers |===================>|\n",
      "Loading More Followers |===================>|\n",
      "Loading More Followers |===================>|\n",
      "Loading More Followers |===================>|\n",
      "Loading More Followers |===================>|\n",
      "Loading More Followers |===================>|\n",
      "Followers fetched: 1212\n",
      "Searching for redundancies and filtering to at most 1200 followers...\n",
      "Completed!\n"
     ]
    }
   ],
   "source": [
    "ismailsabri_followers = scraper.fetch_followers(\"IsmailSabri60\", limit=1200)"
   ]
  },
  {
   "cell_type": "code",
   "execution_count": 31,
   "metadata": {},
   "outputs": [
    {
     "name": "stdout",
     "output_type": "stream",
     "text": [
      "711\n"
     ]
    }
   ],
   "source": [
    "import pandas as pd\n",
    "df = pd.DataFrame(ismailsabri_followers[:1000])\n",
    "print(len(df))"
   ]
  },
  {
   "cell_type": "code",
   "execution_count": 32,
   "metadata": {},
   "outputs": [],
   "source": [
    "df.to_csv('IsmailSabri60_followers.csv', index=False)"
   ]
  },
  {
   "cell_type": "code",
   "execution_count": 2,
   "metadata": {},
   "outputs": [
    {
     "name": "stdout",
     "output_type": "stream",
     "text": [
      "(#IsmailSabri) OR (Ismail Sabri) OR (Ismail Sabri AND umno) OR (Ismail Sabri AND bn) OR (Ismail Sabri AND (#KerajaanGagal OR #LAWAN OR #BenderaHitam)) OR (Ismail AND Muhyiddin) lang:en -filter:links\n",
      "Rendering Explore Page |===================>|\n"
     ]
    },
    {
     "ename": "KeyboardInterrupt",
     "evalue": "",
     "output_type": "error",
     "traceback": [
      "\u001b[0;31m---------------------------------------------------------------------------\u001b[0m",
      "\u001b[0;31mKeyboardInterrupt\u001b[0m                         Traceback (most recent call last)",
      "Cell \u001b[0;32mIn[2], line 1\u001b[0m\n\u001b[0;32m----> 1\u001b[0m ismailsabri_posts \u001b[39m=\u001b[39m scraper\u001b[39m.\u001b[39;49mget_posts(query\u001b[39m=\u001b[39;49m\u001b[39m'\u001b[39;49m\u001b[39m(#IsmailSabri) OR (Ismail Sabri) OR (Ismail Sabri AND umno) OR (Ismail Sabri AND bn) OR (Ismail Sabri AND (#KerajaanGagal OR #LAWAN OR #BenderaHitam)) OR (Ismail AND Muhyiddin)\u001b[39;49m\u001b[39m'\u001b[39;49m, filters\u001b[39m=\u001b[39;49m\u001b[39m'\u001b[39;49m\u001b[39mlang:en -filter:links\u001b[39;49m\u001b[39m'\u001b[39;49m, limit\u001b[39m=\u001b[39;49m\u001b[39m5000\u001b[39;49m)\n",
      "File \u001b[0;32m~/Documents/FSKTM/Semester 6/WIX3002 Social Informatics/wix3002_assignment/scraper.py:310\u001b[0m, in \u001b[0;36mScraper.get_posts\u001b[0;34m(self, query, filters, limit, latest)\u001b[0m\n\u001b[1;32m    307\u001b[0m \u001b[39mdef\u001b[39;00m \u001b[39mget_posts\u001b[39m(\u001b[39mself\u001b[39m, query, filters\u001b[39m=\u001b[39m\u001b[39mNone\u001b[39;00m, limit\u001b[39m=\u001b[39m\u001b[39m10\u001b[39m, latest\u001b[39m=\u001b[39m\u001b[39mTrue\u001b[39;00m):\n\u001b[1;32m    308\u001b[0m     driver \u001b[39m=\u001b[39m \u001b[39mself\u001b[39m\u001b[39m.\u001b[39mdriver\n\u001b[0;32m--> 310\u001b[0m     \u001b[39mif\u001b[39;00m \u001b[39mnot\u001b[39;00m \u001b[39mself\u001b[39;49m\u001b[39m.\u001b[39;49msearch(query, filters):\n\u001b[1;32m    311\u001b[0m         \u001b[39m# If cannot search due to query issues, return\u001b[39;00m\n\u001b[1;32m    312\u001b[0m         \u001b[39mprint\u001b[39m(\u001b[39m\"\u001b[39m\u001b[39mNo Results Found!\u001b[39m\u001b[39m\"\u001b[39m)\n\u001b[1;32m    313\u001b[0m         \u001b[39mreturn\u001b[39;00m \u001b[39mNone\u001b[39;00m\n",
      "File \u001b[0;32m~/Documents/FSKTM/Semester 6/WIX3002 Social Informatics/wix3002_assignment/scraper.py:301\u001b[0m, in \u001b[0;36mScraper.search\u001b[0;34m(self, query, filters)\u001b[0m\n\u001b[1;32m    298\u001b[0m query_input_element \u001b[39m=\u001b[39m driver\u001b[39m.\u001b[39mfind_element(By\u001b[39m.\u001b[39mCSS_SELECTOR, \u001b[39m'\u001b[39m\u001b[39minput[data-testid=\u001b[39m\u001b[39m\"\u001b[39m\u001b[39mSearchBox_Search_Input\u001b[39m\u001b[39m\"\u001b[39m\u001b[39m]\u001b[39m\u001b[39m'\u001b[39m)\n\u001b[1;32m    300\u001b[0m \u001b[39mfor\u001b[39;00m char \u001b[39min\u001b[39;00m query:\n\u001b[0;32m--> 301\u001b[0m     query_input_element\u001b[39m.\u001b[39;49msend_keys(char)\n\u001b[1;32m    302\u001b[0m     time\u001b[39m.\u001b[39msleep(\u001b[39m0.01\u001b[39m)\n\u001b[1;32m    304\u001b[0m query_input_element\u001b[39m.\u001b[39msend_keys(Keys\u001b[39m.\u001b[39mENTER)\n",
      "File \u001b[0;32m~/Documents/FSKTM/Semester 6/WIX3002 Social Informatics/wix3002_assignment/wix3002_assignment/lib/python3.9/site-packages/selenium/webdriver/remote/webelement.py:231\u001b[0m, in \u001b[0;36mWebElement.send_keys\u001b[0;34m(self, *value)\u001b[0m\n\u001b[1;32m    228\u001b[0m             remote_files\u001b[39m.\u001b[39mappend(\u001b[39mself\u001b[39m\u001b[39m.\u001b[39m_upload(file))\n\u001b[1;32m    229\u001b[0m         value \u001b[39m=\u001b[39m \u001b[39m\"\u001b[39m\u001b[39m\\n\u001b[39;00m\u001b[39m\"\u001b[39m\u001b[39m.\u001b[39mjoin(remote_files)\n\u001b[0;32m--> 231\u001b[0m \u001b[39mself\u001b[39;49m\u001b[39m.\u001b[39;49m_execute(\n\u001b[1;32m    232\u001b[0m     Command\u001b[39m.\u001b[39;49mSEND_KEYS_TO_ELEMENT, {\u001b[39m\"\u001b[39;49m\u001b[39mtext\u001b[39;49m\u001b[39m\"\u001b[39;49m: \u001b[39m\"\u001b[39;49m\u001b[39m\"\u001b[39;49m\u001b[39m.\u001b[39;49mjoin(keys_to_typing(value)), \u001b[39m\"\u001b[39;49m\u001b[39mvalue\u001b[39;49m\u001b[39m\"\u001b[39;49m: keys_to_typing(value)}\n\u001b[1;32m    233\u001b[0m )\n",
      "File \u001b[0;32m~/Documents/FSKTM/Semester 6/WIX3002 Social Informatics/wix3002_assignment/wix3002_assignment/lib/python3.9/site-packages/selenium/webdriver/remote/webelement.py:395\u001b[0m, in \u001b[0;36mWebElement._execute\u001b[0;34m(self, command, params)\u001b[0m\n\u001b[1;32m    393\u001b[0m     params \u001b[39m=\u001b[39m {}\n\u001b[1;32m    394\u001b[0m params[\u001b[39m\"\u001b[39m\u001b[39mid\u001b[39m\u001b[39m\"\u001b[39m] \u001b[39m=\u001b[39m \u001b[39mself\u001b[39m\u001b[39m.\u001b[39m_id\n\u001b[0;32m--> 395\u001b[0m \u001b[39mreturn\u001b[39;00m \u001b[39mself\u001b[39;49m\u001b[39m.\u001b[39;49m_parent\u001b[39m.\u001b[39;49mexecute(command, params)\n",
      "File \u001b[0;32m~/Documents/FSKTM/Semester 6/WIX3002 Social Informatics/wix3002_assignment/wix3002_assignment/lib/python3.9/site-packages/selenium/webdriver/remote/webdriver.py:344\u001b[0m, in \u001b[0;36mWebDriver.execute\u001b[0;34m(self, driver_command, params)\u001b[0m\n\u001b[1;32m    341\u001b[0m     \u001b[39melif\u001b[39;00m \u001b[39m\"\u001b[39m\u001b[39msessionId\u001b[39m\u001b[39m\"\u001b[39m \u001b[39mnot\u001b[39;00m \u001b[39min\u001b[39;00m params:\n\u001b[1;32m    342\u001b[0m         params[\u001b[39m\"\u001b[39m\u001b[39msessionId\u001b[39m\u001b[39m\"\u001b[39m] \u001b[39m=\u001b[39m \u001b[39mself\u001b[39m\u001b[39m.\u001b[39msession_id\n\u001b[0;32m--> 344\u001b[0m response \u001b[39m=\u001b[39m \u001b[39mself\u001b[39;49m\u001b[39m.\u001b[39;49mcommand_executor\u001b[39m.\u001b[39;49mexecute(driver_command, params)\n\u001b[1;32m    345\u001b[0m \u001b[39mif\u001b[39;00m response:\n\u001b[1;32m    346\u001b[0m     \u001b[39mself\u001b[39m\u001b[39m.\u001b[39merror_handler\u001b[39m.\u001b[39mcheck_response(response)\n",
      "File \u001b[0;32m~/Documents/FSKTM/Semester 6/WIX3002 Social Informatics/wix3002_assignment/wix3002_assignment/lib/python3.9/site-packages/selenium/webdriver/remote/remote_connection.py:290\u001b[0m, in \u001b[0;36mRemoteConnection.execute\u001b[0;34m(self, command, params)\u001b[0m\n\u001b[1;32m    288\u001b[0m data \u001b[39m=\u001b[39m utils\u001b[39m.\u001b[39mdump_json(params)\n\u001b[1;32m    289\u001b[0m url \u001b[39m=\u001b[39m \u001b[39mf\u001b[39m\u001b[39m\"\u001b[39m\u001b[39m{\u001b[39;00m\u001b[39mself\u001b[39m\u001b[39m.\u001b[39m_url\u001b[39m}\u001b[39;00m\u001b[39m{\u001b[39;00mpath\u001b[39m}\u001b[39;00m\u001b[39m\"\u001b[39m\n\u001b[0;32m--> 290\u001b[0m \u001b[39mreturn\u001b[39;00m \u001b[39mself\u001b[39;49m\u001b[39m.\u001b[39;49m_request(command_info[\u001b[39m0\u001b[39;49m], url, body\u001b[39m=\u001b[39;49mdata)\n",
      "File \u001b[0;32m~/Documents/FSKTM/Semester 6/WIX3002 Social Informatics/wix3002_assignment/wix3002_assignment/lib/python3.9/site-packages/selenium/webdriver/remote/remote_connection.py:311\u001b[0m, in \u001b[0;36mRemoteConnection._request\u001b[0;34m(self, method, url, body)\u001b[0m\n\u001b[1;32m    308\u001b[0m     body \u001b[39m=\u001b[39m \u001b[39mNone\u001b[39;00m\n\u001b[1;32m    310\u001b[0m \u001b[39mif\u001b[39;00m \u001b[39mself\u001b[39m\u001b[39m.\u001b[39mkeep_alive:\n\u001b[0;32m--> 311\u001b[0m     response \u001b[39m=\u001b[39m \u001b[39mself\u001b[39;49m\u001b[39m.\u001b[39;49m_conn\u001b[39m.\u001b[39;49mrequest(method, url, body\u001b[39m=\u001b[39;49mbody, headers\u001b[39m=\u001b[39;49mheaders)\n\u001b[1;32m    312\u001b[0m     statuscode \u001b[39m=\u001b[39m response\u001b[39m.\u001b[39mstatus\n\u001b[1;32m    313\u001b[0m \u001b[39melse\u001b[39;00m:\n",
      "File \u001b[0;32m~/Documents/FSKTM/Semester 6/WIX3002 Social Informatics/wix3002_assignment/wix3002_assignment/lib/python3.9/site-packages/urllib3/_request_methods.py:118\u001b[0m, in \u001b[0;36mRequestMethods.request\u001b[0;34m(self, method, url, body, fields, headers, json, **urlopen_kw)\u001b[0m\n\u001b[1;32m    110\u001b[0m     \u001b[39mreturn\u001b[39;00m \u001b[39mself\u001b[39m\u001b[39m.\u001b[39mrequest_encode_url(\n\u001b[1;32m    111\u001b[0m         method,\n\u001b[1;32m    112\u001b[0m         url,\n\u001b[0;32m   (...)\u001b[0m\n\u001b[1;32m    115\u001b[0m         \u001b[39m*\u001b[39m\u001b[39m*\u001b[39murlopen_kw,\n\u001b[1;32m    116\u001b[0m     )\n\u001b[1;32m    117\u001b[0m \u001b[39melse\u001b[39;00m:\n\u001b[0;32m--> 118\u001b[0m     \u001b[39mreturn\u001b[39;00m \u001b[39mself\u001b[39;49m\u001b[39m.\u001b[39;49mrequest_encode_body(\n\u001b[1;32m    119\u001b[0m         method, url, fields\u001b[39m=\u001b[39;49mfields, headers\u001b[39m=\u001b[39;49mheaders, \u001b[39m*\u001b[39;49m\u001b[39m*\u001b[39;49murlopen_kw\n\u001b[1;32m    120\u001b[0m     )\n",
      "File \u001b[0;32m~/Documents/FSKTM/Semester 6/WIX3002 Social Informatics/wix3002_assignment/wix3002_assignment/lib/python3.9/site-packages/urllib3/_request_methods.py:217\u001b[0m, in \u001b[0;36mRequestMethods.request_encode_body\u001b[0;34m(self, method, url, fields, headers, encode_multipart, multipart_boundary, **urlopen_kw)\u001b[0m\n\u001b[1;32m    213\u001b[0m     extra_kw[\u001b[39m\"\u001b[39m\u001b[39mheaders\u001b[39m\u001b[39m\"\u001b[39m]\u001b[39m.\u001b[39msetdefault(\u001b[39m\"\u001b[39m\u001b[39mContent-Type\u001b[39m\u001b[39m\"\u001b[39m, content_type)\n\u001b[1;32m    215\u001b[0m extra_kw\u001b[39m.\u001b[39mupdate(urlopen_kw)\n\u001b[0;32m--> 217\u001b[0m \u001b[39mreturn\u001b[39;00m \u001b[39mself\u001b[39;49m\u001b[39m.\u001b[39;49murlopen(method, url, \u001b[39m*\u001b[39;49m\u001b[39m*\u001b[39;49mextra_kw)\n",
      "File \u001b[0;32m~/Documents/FSKTM/Semester 6/WIX3002 Social Informatics/wix3002_assignment/wix3002_assignment/lib/python3.9/site-packages/urllib3/poolmanager.py:443\u001b[0m, in \u001b[0;36mPoolManager.urlopen\u001b[0;34m(self, method, url, redirect, **kw)\u001b[0m\n\u001b[1;32m    441\u001b[0m     response \u001b[39m=\u001b[39m conn\u001b[39m.\u001b[39murlopen(method, url, \u001b[39m*\u001b[39m\u001b[39m*\u001b[39mkw)\n\u001b[1;32m    442\u001b[0m \u001b[39melse\u001b[39;00m:\n\u001b[0;32m--> 443\u001b[0m     response \u001b[39m=\u001b[39m conn\u001b[39m.\u001b[39;49murlopen(method, u\u001b[39m.\u001b[39;49mrequest_uri, \u001b[39m*\u001b[39;49m\u001b[39m*\u001b[39;49mkw)\n\u001b[1;32m    445\u001b[0m redirect_location \u001b[39m=\u001b[39m redirect \u001b[39mand\u001b[39;00m response\u001b[39m.\u001b[39mget_redirect_location()\n\u001b[1;32m    446\u001b[0m \u001b[39mif\u001b[39;00m \u001b[39mnot\u001b[39;00m redirect_location:\n",
      "File \u001b[0;32m~/Documents/FSKTM/Semester 6/WIX3002 Social Informatics/wix3002_assignment/wix3002_assignment/lib/python3.9/site-packages/urllib3/connectionpool.py:790\u001b[0m, in \u001b[0;36mHTTPConnectionPool.urlopen\u001b[0;34m(self, method, url, body, headers, retries, redirect, assert_same_host, timeout, pool_timeout, release_conn, chunked, body_pos, preload_content, decode_content, **response_kw)\u001b[0m\n\u001b[1;32m    787\u001b[0m response_conn \u001b[39m=\u001b[39m conn \u001b[39mif\u001b[39;00m \u001b[39mnot\u001b[39;00m release_conn \u001b[39melse\u001b[39;00m \u001b[39mNone\u001b[39;00m\n\u001b[1;32m    789\u001b[0m \u001b[39m# Make the request on the HTTPConnection object\u001b[39;00m\n\u001b[0;32m--> 790\u001b[0m response \u001b[39m=\u001b[39m \u001b[39mself\u001b[39;49m\u001b[39m.\u001b[39;49m_make_request(\n\u001b[1;32m    791\u001b[0m     conn,\n\u001b[1;32m    792\u001b[0m     method,\n\u001b[1;32m    793\u001b[0m     url,\n\u001b[1;32m    794\u001b[0m     timeout\u001b[39m=\u001b[39;49mtimeout_obj,\n\u001b[1;32m    795\u001b[0m     body\u001b[39m=\u001b[39;49mbody,\n\u001b[1;32m    796\u001b[0m     headers\u001b[39m=\u001b[39;49mheaders,\n\u001b[1;32m    797\u001b[0m     chunked\u001b[39m=\u001b[39;49mchunked,\n\u001b[1;32m    798\u001b[0m     retries\u001b[39m=\u001b[39;49mretries,\n\u001b[1;32m    799\u001b[0m     response_conn\u001b[39m=\u001b[39;49mresponse_conn,\n\u001b[1;32m    800\u001b[0m     preload_content\u001b[39m=\u001b[39;49mpreload_content,\n\u001b[1;32m    801\u001b[0m     decode_content\u001b[39m=\u001b[39;49mdecode_content,\n\u001b[1;32m    802\u001b[0m     \u001b[39m*\u001b[39;49m\u001b[39m*\u001b[39;49mresponse_kw,\n\u001b[1;32m    803\u001b[0m )\n\u001b[1;32m    805\u001b[0m \u001b[39m# Everything went great!\u001b[39;00m\n\u001b[1;32m    806\u001b[0m clean_exit \u001b[39m=\u001b[39m \u001b[39mTrue\u001b[39;00m\n",
      "File \u001b[0;32m~/Documents/FSKTM/Semester 6/WIX3002 Social Informatics/wix3002_assignment/wix3002_assignment/lib/python3.9/site-packages/urllib3/connectionpool.py:536\u001b[0m, in \u001b[0;36mHTTPConnectionPool._make_request\u001b[0;34m(self, conn, method, url, body, headers, retries, timeout, chunked, response_conn, preload_content, decode_content, enforce_content_length)\u001b[0m\n\u001b[1;32m    534\u001b[0m \u001b[39m# Receive the response from the server\u001b[39;00m\n\u001b[1;32m    535\u001b[0m \u001b[39mtry\u001b[39;00m:\n\u001b[0;32m--> 536\u001b[0m     response \u001b[39m=\u001b[39m conn\u001b[39m.\u001b[39;49mgetresponse()\n\u001b[1;32m    537\u001b[0m \u001b[39mexcept\u001b[39;00m (BaseSSLError, \u001b[39mOSError\u001b[39;00m) \u001b[39mas\u001b[39;00m e:\n\u001b[1;32m    538\u001b[0m     \u001b[39mself\u001b[39m\u001b[39m.\u001b[39m_raise_timeout(err\u001b[39m=\u001b[39me, url\u001b[39m=\u001b[39murl, timeout_value\u001b[39m=\u001b[39mread_timeout)\n",
      "File \u001b[0;32m~/Documents/FSKTM/Semester 6/WIX3002 Social Informatics/wix3002_assignment/wix3002_assignment/lib/python3.9/site-packages/urllib3/connection.py:454\u001b[0m, in \u001b[0;36mHTTPConnection.getresponse\u001b[0;34m(self)\u001b[0m\n\u001b[1;32m    451\u001b[0m \u001b[39mfrom\u001b[39;00m \u001b[39m.\u001b[39;00m\u001b[39mresponse\u001b[39;00m \u001b[39mimport\u001b[39;00m HTTPResponse\n\u001b[1;32m    453\u001b[0m \u001b[39m# Get the response from http.client.HTTPConnection\u001b[39;00m\n\u001b[0;32m--> 454\u001b[0m httplib_response \u001b[39m=\u001b[39m \u001b[39msuper\u001b[39;49m()\u001b[39m.\u001b[39;49mgetresponse()\n\u001b[1;32m    456\u001b[0m \u001b[39mtry\u001b[39;00m:\n\u001b[1;32m    457\u001b[0m     assert_header_parsing(httplib_response\u001b[39m.\u001b[39mmsg)\n",
      "File \u001b[0;32m/Library/Developer/CommandLineTools/Library/Frameworks/Python3.framework/Versions/3.9/lib/python3.9/http/client.py:1349\u001b[0m, in \u001b[0;36mHTTPConnection.getresponse\u001b[0;34m(self)\u001b[0m\n\u001b[1;32m   1347\u001b[0m \u001b[39mtry\u001b[39;00m:\n\u001b[1;32m   1348\u001b[0m     \u001b[39mtry\u001b[39;00m:\n\u001b[0;32m-> 1349\u001b[0m         response\u001b[39m.\u001b[39;49mbegin()\n\u001b[1;32m   1350\u001b[0m     \u001b[39mexcept\u001b[39;00m \u001b[39mConnectionError\u001b[39;00m:\n\u001b[1;32m   1351\u001b[0m         \u001b[39mself\u001b[39m\u001b[39m.\u001b[39mclose()\n",
      "File \u001b[0;32m/Library/Developer/CommandLineTools/Library/Frameworks/Python3.framework/Versions/3.9/lib/python3.9/http/client.py:316\u001b[0m, in \u001b[0;36mHTTPResponse.begin\u001b[0;34m(self)\u001b[0m\n\u001b[1;32m    314\u001b[0m \u001b[39m# read until we get a non-100 response\u001b[39;00m\n\u001b[1;32m    315\u001b[0m \u001b[39mwhile\u001b[39;00m \u001b[39mTrue\u001b[39;00m:\n\u001b[0;32m--> 316\u001b[0m     version, status, reason \u001b[39m=\u001b[39m \u001b[39mself\u001b[39;49m\u001b[39m.\u001b[39;49m_read_status()\n\u001b[1;32m    317\u001b[0m     \u001b[39mif\u001b[39;00m status \u001b[39m!=\u001b[39m CONTINUE:\n\u001b[1;32m    318\u001b[0m         \u001b[39mbreak\u001b[39;00m\n",
      "File \u001b[0;32m/Library/Developer/CommandLineTools/Library/Frameworks/Python3.framework/Versions/3.9/lib/python3.9/http/client.py:277\u001b[0m, in \u001b[0;36mHTTPResponse._read_status\u001b[0;34m(self)\u001b[0m\n\u001b[1;32m    276\u001b[0m \u001b[39mdef\u001b[39;00m \u001b[39m_read_status\u001b[39m(\u001b[39mself\u001b[39m):\n\u001b[0;32m--> 277\u001b[0m     line \u001b[39m=\u001b[39m \u001b[39mstr\u001b[39m(\u001b[39mself\u001b[39;49m\u001b[39m.\u001b[39;49mfp\u001b[39m.\u001b[39;49mreadline(_MAXLINE \u001b[39m+\u001b[39;49m \u001b[39m1\u001b[39;49m), \u001b[39m\"\u001b[39m\u001b[39miso-8859-1\u001b[39m\u001b[39m\"\u001b[39m)\n\u001b[1;32m    278\u001b[0m     \u001b[39mif\u001b[39;00m \u001b[39mlen\u001b[39m(line) \u001b[39m>\u001b[39m _MAXLINE:\n\u001b[1;32m    279\u001b[0m         \u001b[39mraise\u001b[39;00m LineTooLong(\u001b[39m\"\u001b[39m\u001b[39mstatus line\u001b[39m\u001b[39m\"\u001b[39m)\n",
      "File \u001b[0;32m/Library/Developer/CommandLineTools/Library/Frameworks/Python3.framework/Versions/3.9/lib/python3.9/socket.py:704\u001b[0m, in \u001b[0;36mSocketIO.readinto\u001b[0;34m(self, b)\u001b[0m\n\u001b[1;32m    702\u001b[0m \u001b[39mwhile\u001b[39;00m \u001b[39mTrue\u001b[39;00m:\n\u001b[1;32m    703\u001b[0m     \u001b[39mtry\u001b[39;00m:\n\u001b[0;32m--> 704\u001b[0m         \u001b[39mreturn\u001b[39;00m \u001b[39mself\u001b[39;49m\u001b[39m.\u001b[39;49m_sock\u001b[39m.\u001b[39;49mrecv_into(b)\n\u001b[1;32m    705\u001b[0m     \u001b[39mexcept\u001b[39;00m timeout:\n\u001b[1;32m    706\u001b[0m         \u001b[39mself\u001b[39m\u001b[39m.\u001b[39m_timeout_occurred \u001b[39m=\u001b[39m \u001b[39mTrue\u001b[39;00m\n",
      "\u001b[0;31mKeyboardInterrupt\u001b[0m: "
     ]
    }
   ],
   "source": [
    "ismailsabri_posts = scraper.get_posts(query='(#IsmailSabri) OR (Ismail Sabri) OR (Ismail Sabri AND umno) OR (Ismail Sabri AND bn) OR (Ismail Sabri AND (#KerajaanGagal OR #LAWAN OR #BenderaHitam)) OR (Ismail AND Muhyiddin)', filters='lang:en -filter:links', limit=5000)"
   ]
  },
  {
   "cell_type": "code",
   "execution_count": 44,
   "metadata": {},
   "outputs": [],
   "source": [
    "ismailsabri_posts.to_csv(\"IsmailSabri60_posts.csv\", index=False)"
   ]
  },
  {
   "attachments": {},
   "cell_type": "markdown",
   "metadata": {},
   "source": [
    "# @anwaribrahim"
   ]
  },
  {
   "cell_type": "code",
   "execution_count": 7,
   "metadata": {},
   "outputs": [
    {
     "name": "stdout",
     "output_type": "stream",
     "text": [
      "(#AnwarIbrahim OR #dsai) OR (Anwar Ibrahim AND Malaysia) OR (#PMX) OR (Anwar AND (#MalaysiaMadani OR Malaysia Madani OR #KerajaanMadani OR Madani OR #KerajaanPerpaduan OR Kerajaan Perpaduan))  -from:anwaribrahim lang:en -filter:links -filter:replies\n",
      "Rendering Explore Page |===================>|\n",
      "Rendering Latest Posts |===================>|\n",
      "Searching for redundancies and filtering to at most 5000 posts...\n",
      "Completed!\n"
     ]
    }
   ],
   "source": [
    "anwaribrahim_posts = scraper.get_posts(query='(#AnwarIbrahim OR #dsai) OR (Anwar Ibrahim AND Malaysia) OR (#PMX) OR (Anwar AND (#MalaysiaMadani OR Malaysia Madani OR #KerajaanMadani OR Madani OR #KerajaanPerpaduan OR Kerajaan Perpaduan))  -from:anwaribrahim', filters='lang:en -filter:links -filter:replies', limit=5000)"
   ]
  },
  {
   "cell_type": "code",
   "execution_count": 8,
   "metadata": {},
   "outputs": [
    {
     "data": {
      "text/html": [
       "<div>\n",
       "<style scoped>\n",
       "    .dataframe tbody tr th:only-of-type {\n",
       "        vertical-align: middle;\n",
       "    }\n",
       "\n",
       "    .dataframe tbody tr th {\n",
       "        vertical-align: top;\n",
       "    }\n",
       "\n",
       "    .dataframe thead th {\n",
       "        text-align: right;\n",
       "    }\n",
       "</style>\n",
       "<table border=\"1\" class=\"dataframe\">\n",
       "  <thead>\n",
       "    <tr style=\"text-align: right;\">\n",
       "      <th></th>\n",
       "      <th>Twitter Username</th>\n",
       "      <th>Post</th>\n",
       "      <th>Date Posted</th>\n",
       "    </tr>\n",
       "  </thead>\n",
       "  <tbody>\n",
       "    <tr>\n",
       "      <th>0</th>\n",
       "      <td>@1205file</td>\n",
       "      <td>CONGRATS TO ANWAR IBRAHIM FOR BEING MALAYSIA'S...</td>\n",
       "      <td>Nov 24, 2022</td>\n",
       "    </tr>\n",
       "    <tr>\n",
       "      <th>1</th>\n",
       "      <td>@13Suria_</td>\n",
       "      <td>MALAYSIA WON. DS Anwar Ibrahim is our PM</td>\n",
       "      <td>Nov 24, 2022</td>\n",
       "    </tr>\n",
       "    <tr>\n",
       "      <th>2</th>\n",
       "      <td>@1407_chauhan</td>\n",
       "      <td>Congratulations Dato' Seri @anwaribrahim on yo...</td>\n",
       "      <td>Nov 25, 2022</td>\n",
       "    </tr>\n",
       "    <tr>\n",
       "      <th>3</th>\n",
       "      <td>@1412_tharsika</td>\n",
       "      <td>It's time to change everything \\nThe king is b...</td>\n",
       "      <td>Nov 24, 2022</td>\n",
       "    </tr>\n",
       "    <tr>\n",
       "      <th>4</th>\n",
       "      <td>@1711Sjagi</td>\n",
       "      <td>I think we minority of Indians and Chinese onl...</td>\n",
       "      <td>Nov 22, 2022</td>\n",
       "    </tr>\n",
       "    <tr>\n",
       "      <th>...</th>\n",
       "      <td>...</td>\n",
       "      <td>...</td>\n",
       "      <td>...</td>\n",
       "    </tr>\n",
       "    <tr>\n",
       "      <th>2990</th>\n",
       "      <td>@zubaerr</td>\n",
       "      <td>Lets gooooooooo @anwaribrahim . Please show to...</td>\n",
       "      <td>Nov 24, 2022</td>\n",
       "    </tr>\n",
       "    <tr>\n",
       "      <th>2991</th>\n",
       "      <td>@zulfahmihashim5</td>\n",
       "      <td>Congratulations on occupying the administratio...</td>\n",
       "      <td>Nov 25, 2022</td>\n",
       "    </tr>\n",
       "    <tr>\n",
       "      <th>2992</th>\n",
       "      <td>@zulhilmie_dzul</td>\n",
       "      <td>Most thrilled GE in Malaysia. First time voter...</td>\n",
       "      <td>Nov 24, 2022</td>\n",
       "    </tr>\n",
       "    <tr>\n",
       "      <th>2993</th>\n",
       "      <td>@zwjkin</td>\n",
       "      <td>Pergh Anwar Ibrahim finally is The 10th PM of ...</td>\n",
       "      <td>Nov 24, 2022</td>\n",
       "    </tr>\n",
       "    <tr>\n",
       "      <th>2994</th>\n",
       "      <td>@zzar_cy</td>\n",
       "      <td>HERE’S TO A BETTER MALAYSIA!!! @anwaribrahim</td>\n",
       "      <td>Nov 24, 2022</td>\n",
       "    </tr>\n",
       "  </tbody>\n",
       "</table>\n",
       "<p>2995 rows × 3 columns</p>\n",
       "</div>"
      ],
      "text/plain": [
       "      Twitter Username                                               Post  \\\n",
       "0            @1205file  CONGRATS TO ANWAR IBRAHIM FOR BEING MALAYSIA'S...   \n",
       "1            @13Suria_           MALAYSIA WON. DS Anwar Ibrahim is our PM   \n",
       "2        @1407_chauhan  Congratulations Dato' Seri @anwaribrahim on yo...   \n",
       "3       @1412_tharsika  It's time to change everything \\nThe king is b...   \n",
       "4           @1711Sjagi  I think we minority of Indians and Chinese onl...   \n",
       "...                ...                                                ...   \n",
       "2990          @zubaerr  Lets gooooooooo @anwaribrahim . Please show to...   \n",
       "2991  @zulfahmihashim5  Congratulations on occupying the administratio...   \n",
       "2992   @zulhilmie_dzul  Most thrilled GE in Malaysia. First time voter...   \n",
       "2993           @zwjkin  Pergh Anwar Ibrahim finally is The 10th PM of ...   \n",
       "2994          @zzar_cy       HERE’S TO A BETTER MALAYSIA!!! @anwaribrahim   \n",
       "\n",
       "       Date Posted  \n",
       "0     Nov 24, 2022  \n",
       "1     Nov 24, 2022  \n",
       "2     Nov 25, 2022  \n",
       "3     Nov 24, 2022  \n",
       "4     Nov 22, 2022  \n",
       "...            ...  \n",
       "2990  Nov 24, 2022  \n",
       "2991  Nov 25, 2022  \n",
       "2992  Nov 24, 2022  \n",
       "2993  Nov 24, 2022  \n",
       "2994  Nov 24, 2022  \n",
       "\n",
       "[2995 rows x 3 columns]"
      ]
     },
     "execution_count": 8,
     "metadata": {},
     "output_type": "execute_result"
    }
   ],
   "source": [
    "anwaribrahim_posts"
   ]
  },
  {
   "cell_type": "code",
   "execution_count": 9,
   "metadata": {},
   "outputs": [],
   "source": [
    "anwaribrahim_posts.to_csv(\"./data/political_figs/anwaribrahim_posts.csv\", index=False)"
   ]
  },
  {
   "attachments": {},
   "cell_type": "markdown",
   "metadata": {},
   "source": [
    "# Event: #KerajaanGagal"
   ]
  },
  {
   "cell_type": "code",
   "execution_count": 78,
   "metadata": {},
   "outputs": [
    {
     "name": "stdout",
     "output_type": "stream",
     "text": [
      "(#KerajaanGagal) OR (#BenderaHitam AND Muhyiddin) OR (#LAWAN AND Muhyiddin) OR #MuhyiddinLetakJawatan OR (#NotMyPM AND Muhyiddin) OR (#RakyatJagaRakyat) lang:en since:2020-01-23 until:2022-10-12 -filter:links\n",
      "Rendering Explore Page |===================>|\n",
      "Rendering Latest Posts |===================>|\n",
      "Searching for redundancies and filtering to at most 5000 posts...\n",
      "Completed!\n"
     ]
    }
   ],
   "source": [
    "# posts = scraper.get_posts(query='#KerajaanGagal OR (\"bendera hitam\" AND Malaysia) OR \"kerajaan gagal\"', filters=\"since:2020-03-01 until:2021-08-16 -filter:nativeretweets\", limit=500)\n",
    "posts = scraper.get_posts(query='(#KerajaanGagal) OR (#BenderaHitam AND Muhyiddin) OR (#LAWAN AND Muhyiddin) OR #MuhyiddinLetakJawatan OR (#NotMyPM AND Muhyiddin) OR (#RakyatJagaRakyat)', filters='lang:en since:2020-01-23 until:2022-10-12 -filter:links', limit=5000)"
   ]
  },
  {
   "cell_type": "code",
   "execution_count": 64,
   "metadata": {},
   "outputs": [
    {
     "data": {
      "text/html": [
       "<div>\n",
       "<style scoped>\n",
       "    .dataframe tbody tr th:only-of-type {\n",
       "        vertical-align: middle;\n",
       "    }\n",
       "\n",
       "    .dataframe tbody tr th {\n",
       "        vertical-align: top;\n",
       "    }\n",
       "\n",
       "    .dataframe thead th {\n",
       "        text-align: right;\n",
       "    }\n",
       "</style>\n",
       "<table border=\"1\" class=\"dataframe\">\n",
       "  <thead>\n",
       "    <tr style=\"text-align: right;\">\n",
       "      <th></th>\n",
       "      <th>Twitter Username</th>\n",
       "      <th>Post</th>\n",
       "      <th>Date Posted</th>\n",
       "    </tr>\n",
       "  </thead>\n",
       "  <tbody>\n",
       "    <tr>\n",
       "      <th>1592</th>\n",
       "      <td>@cytoo_kevin</td>\n",
       "      <td>As usual walaun PN pandai BS tanpa fakta. Let ...</td>\n",
       "      <td>11h</td>\n",
       "    </tr>\n",
       "    <tr>\n",
       "      <th>96</th>\n",
       "      <td>@AliSaifuddin3</td>\n",
       "      <td>The worst PM in our history. #kerajaangagal</td>\n",
       "      <td>5h</td>\n",
       "    </tr>\n",
       "    <tr>\n",
       "      <th>1163</th>\n",
       "      <td>@WanitaTenang88</td>\n",
       "      <td>ahhaha #KerajaanGagal</td>\n",
       "      <td>Apr 1</td>\n",
       "    </tr>\n",
       "    <tr>\n",
       "      <th>2775</th>\n",
       "      <td>@shahrulazwn</td>\n",
       "      <td>Throwback zaman #KerajaanGagal ke tu?</td>\n",
       "      <td>Apr 1</td>\n",
       "    </tr>\n",
       "    <tr>\n",
       "      <th>2005</th>\n",
       "      <td>@ijattrashtie</td>\n",
       "      <td>People now should install truecaller n tag any...</td>\n",
       "      <td>Apr 1, 2022</td>\n",
       "    </tr>\n",
       "    <tr>\n",
       "      <th>...</th>\n",
       "      <td>...</td>\n",
       "      <td>...</td>\n",
       "      <td>...</td>\n",
       "    </tr>\n",
       "    <tr>\n",
       "      <th>1899</th>\n",
       "      <td>@hanblo3</td>\n",
       "      <td>New phase same outlook same old #KerajaanGagal...</td>\n",
       "      <td>Sep 9, 2021</td>\n",
       "    </tr>\n",
       "    <tr>\n",
       "      <th>812</th>\n",
       "      <td>@Nikissena</td>\n",
       "      <td>It's starting to kill me from inside... #bukag...</td>\n",
       "      <td>Sep 9, 2021</td>\n",
       "    </tr>\n",
       "    <tr>\n",
       "      <th>2914</th>\n",
       "      <td>@sydtwit</td>\n",
       "      <td>You think they’d care? Jibby’s cytros have don...</td>\n",
       "      <td>Sep 9, 2021</td>\n",
       "    </tr>\n",
       "    <tr>\n",
       "      <th>89</th>\n",
       "      <td>@Alex72385784</td>\n",
       "      <td>Another get rich scheme in the making. Govt sh...</td>\n",
       "      <td>Sep 9, 2021</td>\n",
       "    </tr>\n",
       "    <tr>\n",
       "      <th>1649</th>\n",
       "      <td>@darwinazulkifli</td>\n",
       "      <td>tips to avoid getting a blood boil: \\n\\nstop r...</td>\n",
       "      <td>Sep 9, 2022</td>\n",
       "    </tr>\n",
       "  </tbody>\n",
       "</table>\n",
       "<p>3244 rows × 3 columns</p>\n",
       "</div>"
      ],
      "text/plain": [
       "      Twitter Username                                               Post  \\\n",
       "1592      @cytoo_kevin  As usual walaun PN pandai BS tanpa fakta. Let ...   \n",
       "96      @AliSaifuddin3        The worst PM in our history. #kerajaangagal   \n",
       "1163   @WanitaTenang88                              ahhaha #KerajaanGagal   \n",
       "2775      @shahrulazwn              Throwback zaman #KerajaanGagal ke tu?   \n",
       "2005     @ijattrashtie  People now should install truecaller n tag any...   \n",
       "...                ...                                                ...   \n",
       "1899          @hanblo3  New phase same outlook same old #KerajaanGagal...   \n",
       "812         @Nikissena  It's starting to kill me from inside... #bukag...   \n",
       "2914          @sydtwit  You think they’d care? Jibby’s cytros have don...   \n",
       "89       @Alex72385784  Another get rich scheme in the making. Govt sh...   \n",
       "1649  @darwinazulkifli  tips to avoid getting a blood boil: \\n\\nstop r...   \n",
       "\n",
       "      Date Posted  \n",
       "1592          11h  \n",
       "96             5h  \n",
       "1163        Apr 1  \n",
       "2775        Apr 1  \n",
       "2005  Apr 1, 2022  \n",
       "...           ...  \n",
       "1899  Sep 9, 2021  \n",
       "812   Sep 9, 2021  \n",
       "2914  Sep 9, 2021  \n",
       "89    Sep 9, 2021  \n",
       "1649  Sep 9, 2022  \n",
       "\n",
       "[3244 rows x 3 columns]"
      ]
     },
     "execution_count": 64,
     "metadata": {},
     "output_type": "execute_result"
    }
   ],
   "source": [
    "posts.sort_values(by=\"Date Posted\")    "
   ]
  },
  {
   "cell_type": "code",
   "execution_count": 79,
   "metadata": {},
   "outputs": [
    {
     "data": {
      "text/html": [
       "<div>\n",
       "<style scoped>\n",
       "    .dataframe tbody tr th:only-of-type {\n",
       "        vertical-align: middle;\n",
       "    }\n",
       "\n",
       "    .dataframe tbody tr th {\n",
       "        vertical-align: top;\n",
       "    }\n",
       "\n",
       "    .dataframe thead th {\n",
       "        text-align: right;\n",
       "    }\n",
       "</style>\n",
       "<table border=\"1\" class=\"dataframe\">\n",
       "  <thead>\n",
       "    <tr style=\"text-align: right;\">\n",
       "      <th></th>\n",
       "      <th>Twitter Username</th>\n",
       "      <th>Post</th>\n",
       "      <th>Date Posted</th>\n",
       "    </tr>\n",
       "  </thead>\n",
       "  <tbody>\n",
       "    <tr>\n",
       "      <th>0</th>\n",
       "      <td>@0yenNatun</td>\n",
       "      <td>It’s #RakyatJagaRakyat world we’re living in. ...</td>\n",
       "      <td>Dec 19, 2021</td>\n",
       "    </tr>\n",
       "    <tr>\n",
       "      <th>1</th>\n",
       "      <td>@1004MKL</td>\n",
       "      <td>i know the flood we’ve been hit with is a natu...</td>\n",
       "      <td>Dec 19, 2021</td>\n",
       "    </tr>\n",
       "    <tr>\n",
       "      <th>2</th>\n",
       "      <td>@10086yearlurker</td>\n",
       "      <td>There are hands playing dirty ended/ reported ...</td>\n",
       "      <td>Dec 20, 2021</td>\n",
       "    </tr>\n",
       "    <tr>\n",
       "      <th>3</th>\n",
       "      <td>@1154christopher</td>\n",
       "      <td>It’s flooding everywhere but our government is...</td>\n",
       "      <td>Oct 10, 2022</td>\n",
       "    </tr>\n",
       "    <tr>\n",
       "      <th>4</th>\n",
       "      <td>@1GiantLeapKL</td>\n",
       "      <td>Only in Malaysia you get a convicted criminal ...</td>\n",
       "      <td>Dec 28, 2021</td>\n",
       "    </tr>\n",
       "    <tr>\n",
       "      <th>...</th>\n",
       "      <td>...</td>\n",
       "      <td>...</td>\n",
       "      <td>...</td>\n",
       "    </tr>\n",
       "    <tr>\n",
       "      <th>2965</th>\n",
       "      <td>@zukhairi_ahmad</td>\n",
       "      <td>Do they care about us?!! NO!!! I can't wait to...</td>\n",
       "      <td>Oct 10, 2022</td>\n",
       "    </tr>\n",
       "    <tr>\n",
       "      <th>2966</th>\n",
       "      <td>@zulhas2909</td>\n",
       "      <td>Aduss! #KerajaanRecycle #KerajaanGagal</td>\n",
       "      <td>Sep 4, 2021</td>\n",
       "    </tr>\n",
       "    <tr>\n",
       "      <th>2967</th>\n",
       "      <td>@zulhilminazir</td>\n",
       "      <td>Trust me, one day gambar ni akan jadi legend.....</td>\n",
       "      <td>Dec 25, 2021</td>\n",
       "    </tr>\n",
       "    <tr>\n",
       "      <th>2968</th>\n",
       "      <td>@zulzjd</td>\n",
       "      <td>thats why i still keep black flag at my name. ...</td>\n",
       "      <td>Dec 21, 2021</td>\n",
       "    </tr>\n",
       "    <tr>\n",
       "      <th>2969</th>\n",
       "      <td>@zzddnn</td>\n",
       "      <td>what if “ada bantuan official” in news but irl...</td>\n",
       "      <td>Dec 20, 2021</td>\n",
       "    </tr>\n",
       "  </tbody>\n",
       "</table>\n",
       "<p>2970 rows × 3 columns</p>\n",
       "</div>"
      ],
      "text/plain": [
       "      Twitter Username                                               Post  \\\n",
       "0           @0yenNatun  It’s #RakyatJagaRakyat world we’re living in. ...   \n",
       "1             @1004MKL  i know the flood we’ve been hit with is a natu...   \n",
       "2     @10086yearlurker  There are hands playing dirty ended/ reported ...   \n",
       "3     @1154christopher  It’s flooding everywhere but our government is...   \n",
       "4        @1GiantLeapKL  Only in Malaysia you get a convicted criminal ...   \n",
       "...                ...                                                ...   \n",
       "2965   @zukhairi_ahmad  Do they care about us?!! NO!!! I can't wait to...   \n",
       "2966       @zulhas2909             Aduss! #KerajaanRecycle #KerajaanGagal   \n",
       "2967    @zulhilminazir  Trust me, one day gambar ni akan jadi legend.....   \n",
       "2968           @zulzjd  thats why i still keep black flag at my name. ...   \n",
       "2969           @zzddnn  what if “ada bantuan official” in news but irl...   \n",
       "\n",
       "       Date Posted  \n",
       "0     Dec 19, 2021  \n",
       "1     Dec 19, 2021  \n",
       "2     Dec 20, 2021  \n",
       "3     Oct 10, 2022  \n",
       "4     Dec 28, 2021  \n",
       "...            ...  \n",
       "2965  Oct 10, 2022  \n",
       "2966   Sep 4, 2021  \n",
       "2967  Dec 25, 2021  \n",
       "2968  Dec 21, 2021  \n",
       "2969  Dec 20, 2021  \n",
       "\n",
       "[2970 rows x 3 columns]"
      ]
     },
     "execution_count": 79,
     "metadata": {},
     "output_type": "execute_result"
    }
   ],
   "source": [
    "posts"
   ]
  },
  {
   "cell_type": "code",
   "execution_count": 74,
   "metadata": {},
   "outputs": [],
   "source": [
    "from datetime import datetime\n",
    "\n",
    "def convert_date(date_str):\n",
    "    now = datetime.now()\n",
    "    if len(date_str) > 3 and ',' in date_str:\n",
    "        try:\n",
    "            date = datetime.strptime(date_str, \"%b %d, %Y\")\n",
    "            return date.strftime(\"%d-%m-%Y\")\n",
    "        except ValueError:\n",
    "            return now.strftime(\"%d-%m-%Y\")\n",
    "    elif date_str.endswith('h') or date_str.endswith('m') or date_str.endswith('s'):\n",
    "        return now.strftime(\"%d-%m-%Y\")\n",
    "    else:\n",
    "        try:\n",
    "            date = datetime.strptime(date_str, \"%b %d\")\n",
    "            return date.strftime(\"%d-%m-2023\")\n",
    "        except ValueError:\n",
    "            return now.strftime(\"%d-%m-%Y\")\n",
    "        \n",
    "# Apply the conversion function to the \"Date Posted\" column\n",
    "events1['Date Posted'] = events1['Date Posted'].apply(convert_date)"
   ]
  },
  {
   "cell_type": "code",
   "execution_count": 75,
   "metadata": {},
   "outputs": [
    {
     "data": {
      "text/plain": [
       "Twitter Username          @WanitaTenang88\n",
       "Post                ahhaha #KerajaanGagal\n",
       "Date Posted                    01-04-2023\n",
       "Name: 1163, dtype: object"
      ]
     },
     "execution_count": 75,
     "metadata": {},
     "output_type": "execute_result"
    }
   ],
   "source": [
    "events1.iloc[1163]"
   ]
  },
  {
   "cell_type": "code",
   "execution_count": 80,
   "metadata": {},
   "outputs": [],
   "source": [
    "posts.to_csv(\"KerajaanGagal_until2022-10-12_event.csv\", index=False)"
   ]
  },
  {
   "cell_type": "code",
   "execution_count": 40,
   "metadata": {},
   "outputs": [
    {
     "name": "stdout",
     "output_type": "stream",
     "text": [
      "User Existence Check |===================>|\n",
      "User Existence Check |===================>|\n",
      "User Existence Check |===================>|\n"
     ]
    },
    {
     "data": {
      "text/plain": [
       "True"
      ]
     },
     "execution_count": 40,
     "metadata": {},
     "output_type": "execute_result"
    }
   ],
   "source": [
    "scraper.fetch_userinfo(\"mwaizwafiq\")['verified']\n",
    "scraper.fetch_userinfo(\"anwaribrahim\")['verified']\n",
    "scraper.fetch_userinfo(\"syedsaddiq\")['verified']"
   ]
  },
  {
   "attachments": {},
   "cell_type": "markdown",
   "metadata": {},
   "source": [
    "# Event: #1MDB Case"
   ]
  },
  {
   "cell_type": "code",
   "execution_count": 43,
   "metadata": {},
   "outputs": [
    {
     "name": "stdout",
     "output_type": "stream",
     "text": [
      "(#1MDB) OR (1MDB AND Najib) OR (1MDB AND Rosmah) lang:en -filter:links\n",
      "Rendering Explore Page |===================>|\n",
      "Rendering Latest Posts |===================>|\n",
      "Searching for redundancies and filtering to at most 5000 posts...\n",
      "Completed!\n"
     ]
    }
   ],
   "source": [
    "posts = scraper.get_posts(query='(#1MDB) OR (1MDB AND Najib) OR (1MDB AND Rosmah)', filters='lang:en -filter:links', limit=5000)"
   ]
  },
  {
   "cell_type": "code",
   "execution_count": 44,
   "metadata": {},
   "outputs": [
    {
     "data": {
      "text/html": [
       "<div>\n",
       "<style scoped>\n",
       "    .dataframe tbody tr th:only-of-type {\n",
       "        vertical-align: middle;\n",
       "    }\n",
       "\n",
       "    .dataframe tbody tr th {\n",
       "        vertical-align: top;\n",
       "    }\n",
       "\n",
       "    .dataframe thead th {\n",
       "        text-align: right;\n",
       "    }\n",
       "</style>\n",
       "<table border=\"1\" class=\"dataframe\">\n",
       "  <thead>\n",
       "    <tr style=\"text-align: right;\">\n",
       "      <th></th>\n",
       "      <th>Twitter Username</th>\n",
       "      <th>Post</th>\n",
       "      <th>Date Posted</th>\n",
       "    </tr>\n",
       "  </thead>\n",
       "  <tbody>\n",
       "    <tr>\n",
       "      <th>0</th>\n",
       "      <td>@0xkryptojimi</td>\n",
       "      <td>wrong again as per usual, Najib bribed them al...</td>\n",
       "      <td>Apr 17</td>\n",
       "    </tr>\n",
       "    <tr>\n",
       "      <th>1</th>\n",
       "      <td>@23Potteh</td>\n",
       "      <td>While US still have ongoing trial for 1MDB it’...</td>\n",
       "      <td>Apr 7</td>\n",
       "    </tr>\n",
       "    <tr>\n",
       "      <th>2</th>\n",
       "      <td>@2daMoonz</td>\n",
       "      <td>Just like how we all assumed he is guilty with...</td>\n",
       "      <td>Jan 5</td>\n",
       "    </tr>\n",
       "    <tr>\n",
       "      <th>3</th>\n",
       "      <td>@491300363</td>\n",
       "      <td>Najib is his successor who he picked him as PM...</td>\n",
       "      <td>Apr 28</td>\n",
       "    </tr>\n",
       "    <tr>\n",
       "      <th>4</th>\n",
       "      <td>@7reasu12e</td>\n",
       "      <td>I know a lot of people hate Najib but aside fr...</td>\n",
       "      <td>Nov 26, 2022</td>\n",
       "    </tr>\n",
       "    <tr>\n",
       "      <th>...</th>\n",
       "      <td>...</td>\n",
       "      <td>...</td>\n",
       "      <td>...</td>\n",
       "    </tr>\n",
       "    <tr>\n",
       "      <th>545</th>\n",
       "      <td>@zainisaari</td>\n",
       "      <td>\"... Kevin (Swampillai) also agreed with Shafe...</td>\n",
       "      <td>Mar 3</td>\n",
       "    </tr>\n",
       "    <tr>\n",
       "      <th>546</th>\n",
       "      <td>@zakitalib</td>\n",
       "      <td>Wasting tax payers money for the judges to sit...</td>\n",
       "      <td>Apr 1</td>\n",
       "    </tr>\n",
       "    <tr>\n",
       "      <th>547</th>\n",
       "      <td>@zeeai</td>\n",
       "      <td>Is Najib innocent? Is the so called conflict o...</td>\n",
       "      <td>Apr 7</td>\n",
       "    </tr>\n",
       "    <tr>\n",
       "      <th>548</th>\n",
       "      <td>@zuthirah</td>\n",
       "      <td>6. Najib sent an aide to China to convince Chi...</td>\n",
       "      <td>May 16</td>\n",
       "    </tr>\n",
       "    <tr>\n",
       "      <th>549</th>\n",
       "      <td>@zuthirah</td>\n",
       "      <td>Key points from the news:\\n\\n1. Former Malaysi...</td>\n",
       "      <td>May 16</td>\n",
       "    </tr>\n",
       "  </tbody>\n",
       "</table>\n",
       "<p>550 rows × 3 columns</p>\n",
       "</div>"
      ],
      "text/plain": [
       "    Twitter Username                                               Post  \\\n",
       "0      @0xkryptojimi  wrong again as per usual, Najib bribed them al...   \n",
       "1          @23Potteh  While US still have ongoing trial for 1MDB it’...   \n",
       "2          @2daMoonz  Just like how we all assumed he is guilty with...   \n",
       "3         @491300363  Najib is his successor who he picked him as PM...   \n",
       "4         @7reasu12e  I know a lot of people hate Najib but aside fr...   \n",
       "..               ...                                                ...   \n",
       "545      @zainisaari  \"... Kevin (Swampillai) also agreed with Shafe...   \n",
       "546       @zakitalib  Wasting tax payers money for the judges to sit...   \n",
       "547           @zeeai  Is Najib innocent? Is the so called conflict o...   \n",
       "548        @zuthirah  6. Najib sent an aide to China to convince Chi...   \n",
       "549        @zuthirah  Key points from the news:\\n\\n1. Former Malaysi...   \n",
       "\n",
       "      Date Posted  \n",
       "0          Apr 17  \n",
       "1           Apr 7  \n",
       "2           Jan 5  \n",
       "3          Apr 28  \n",
       "4    Nov 26, 2022  \n",
       "..            ...  \n",
       "545         Mar 3  \n",
       "546         Apr 1  \n",
       "547         Apr 7  \n",
       "548        May 16  \n",
       "549        May 16  \n",
       "\n",
       "[550 rows x 3 columns]"
      ]
     },
     "execution_count": 44,
     "metadata": {},
     "output_type": "execute_result"
    }
   ],
   "source": [
    "posts"
   ]
  },
  {
   "attachments": {},
   "cell_type": "markdown",
   "metadata": {},
   "source": [
    "# ??"
   ]
  },
  {
   "cell_type": "code",
   "execution_count": 3,
   "metadata": {},
   "outputs": [
    {
     "name": "stdout",
     "output_type": "stream",
     "text": [
      "User Existence Check |===================>|\n",
      "Loading Following List |===================>|\n",
      "Loading More Followings |===================>|\n",
      "Followings fetched: 14\n",
      "Searching for redundancies and filtering to at most 10 followings...\n",
      "Completed!\n"
     ]
    }
   ],
   "source": [
    "arr = scraper.fetch_followings(\"anwaribrahim\", limit=10)"
   ]
  },
  {
   "cell_type": "code",
   "execution_count": 5,
   "metadata": {},
   "outputs": [
    {
     "name": "stdout",
     "output_type": "stream",
     "text": [
      "User Existence Check |===================>|\n"
     ]
    },
    {
     "data": {
      "text/plain": [
       "{'name': 'Anwar Ibrahim',\n",
       " '@': '@anwaribrahim',\n",
       " 'bio': 'Perdana Menteri Malaysia ',\n",
       " 'userLocation': 'Malaysia',\n",
       " 'joinDate': 'Joined March 2007',\n",
       " 'verified': True,\n",
       " 'followers': '12.6K',\n",
       " 'followings': '1.8M'}"
      ]
     },
     "execution_count": 5,
     "metadata": {},
     "output_type": "execute_result"
    }
   ],
   "source": [
    "userinfo = scraper.fetch_userinfo(\"anwaribrahim\")\n",
    "userinfo"
   ]
  },
  {
   "cell_type": "code",
   "execution_count": 4,
   "metadata": {},
   "outputs": [
    {
     "name": "stdout",
     "output_type": "stream",
     "text": [
      "#LangkahSheraton OR sheraton OR #SheratonMove OR \"langkah sheraton\" -filter:links since:2020-01-09 lang:en -filter:nativeretweets\n",
      "Rendering Explore Page |===================>|\n",
      "Searching for redundancies and filtering to at most 500 posts...\n",
      "Completed!\n"
     ]
    }
   ],
   "source": [
    "posts = scraper.get_posts(query=\"#LangkahSheraton OR sheraton OR #SheratonMove OR \\\"langkah sheraton\\\"\", filters=\"-filter:links since:2020-01-09 lang:en -filter:nativeretweets\", limit=500)"
   ]
  },
  {
   "cell_type": "code",
   "execution_count": 5,
   "metadata": {},
   "outputs": [
    {
     "data": {
      "text/html": [
       "<div>\n",
       "<style scoped>\n",
       "    .dataframe tbody tr th:only-of-type {\n",
       "        vertical-align: middle;\n",
       "    }\n",
       "\n",
       "    .dataframe tbody tr th {\n",
       "        vertical-align: top;\n",
       "    }\n",
       "\n",
       "    .dataframe thead th {\n",
       "        text-align: right;\n",
       "    }\n",
       "</style>\n",
       "<table border=\"1\" class=\"dataframe\">\n",
       "  <thead>\n",
       "    <tr style=\"text-align: right;\">\n",
       "      <th></th>\n",
       "      <th>Twitter Username</th>\n",
       "      <th>Post</th>\n",
       "      <th>Date Posted</th>\n",
       "    </tr>\n",
       "  </thead>\n",
       "  <tbody>\n",
       "    <tr>\n",
       "      <th>0</th>\n",
       "      <td>@2nakanski</td>\n",
       "      <td>Sheraton? Ermmm I hardly know her</td>\n",
       "      <td>Jun 11</td>\n",
       "    </tr>\n",
       "    <tr>\n",
       "      <th>1</th>\n",
       "      <td>@777eilwek1</td>\n",
       "      <td>Sheraton?</td>\n",
       "      <td>Jun 7</td>\n",
       "    </tr>\n",
       "    <tr>\n",
       "      <th>2</th>\n",
       "      <td>@AAAEDelivers</td>\n",
       "      <td>Kick-start your first day at the Annual AAAE C...</td>\n",
       "      <td>Jun 4</td>\n",
       "    </tr>\n",
       "    <tr>\n",
       "      <th>3</th>\n",
       "      <td>@AGYounger</td>\n",
       "      <td>The Marriott chain (which is delta and Sherato...</td>\n",
       "      <td>Jun 4</td>\n",
       "    </tr>\n",
       "    <tr>\n",
       "      <th>4</th>\n",
       "      <td>@AGiannas</td>\n",
       "      <td>It is in Ethiopia . Sheraton here shows prices...</td>\n",
       "      <td>Jun 7</td>\n",
       "    </tr>\n",
       "    <tr>\n",
       "      <th>...</th>\n",
       "      <td>...</td>\n",
       "      <td>...</td>\n",
       "      <td>...</td>\n",
       "    </tr>\n",
       "    <tr>\n",
       "      <th>340</th>\n",
       "      <td>@vict_xox</td>\n",
       "      <td>sheraton mattresses are elite, i need one in m...</td>\n",
       "      <td>Jun 7</td>\n",
       "    </tr>\n",
       "    <tr>\n",
       "      <th>341</th>\n",
       "      <td>@vishnusaiv</td>\n",
       "      <td>If you’re referring to Velachery then it’s not...</td>\n",
       "      <td>Jun 7</td>\n",
       "    </tr>\n",
       "    <tr>\n",
       "      <th>342</th>\n",
       "      <td>@wfthomas55</td>\n",
       "      <td>I definitely want to be at the Infinity pool a...</td>\n",
       "      <td>Jun 5</td>\n",
       "    </tr>\n",
       "    <tr>\n",
       "      <th>343</th>\n",
       "      <td>@wmejia1987</td>\n",
       "      <td>I was legit watching this shoot happening from...</td>\n",
       "      <td>6h</td>\n",
       "    </tr>\n",
       "    <tr>\n",
       "      <th>344</th>\n",
       "      <td>@you0420ka</td>\n",
       "      <td>Four Points by Sheraton Seoul, Gangnam\\n¥19,659円〜</td>\n",
       "      <td>Jun 8</td>\n",
       "    </tr>\n",
       "  </tbody>\n",
       "</table>\n",
       "<p>345 rows × 3 columns</p>\n",
       "</div>"
      ],
      "text/plain": [
       "    Twitter Username                                               Post  \\\n",
       "0         @2nakanski                  Sheraton? Ermmm I hardly know her   \n",
       "1        @777eilwek1                                         Sheraton?    \n",
       "2      @AAAEDelivers  Kick-start your first day at the Annual AAAE C...   \n",
       "3         @AGYounger  The Marriott chain (which is delta and Sherato...   \n",
       "4          @AGiannas  It is in Ethiopia . Sheraton here shows prices...   \n",
       "..               ...                                                ...   \n",
       "340        @vict_xox  sheraton mattresses are elite, i need one in m...   \n",
       "341      @vishnusaiv  If you’re referring to Velachery then it’s not...   \n",
       "342      @wfthomas55  I definitely want to be at the Infinity pool a...   \n",
       "343      @wmejia1987  I was legit watching this shoot happening from...   \n",
       "344       @you0420ka  Four Points by Sheraton Seoul, Gangnam\\n¥19,659円〜   \n",
       "\n",
       "    Date Posted  \n",
       "0        Jun 11  \n",
       "1         Jun 7  \n",
       "2         Jun 4  \n",
       "3         Jun 4  \n",
       "4         Jun 7  \n",
       "..          ...  \n",
       "340       Jun 7  \n",
       "341       Jun 7  \n",
       "342       Jun 5  \n",
       "343          6h  \n",
       "344       Jun 8  \n",
       "\n",
       "[345 rows x 3 columns]"
      ]
     },
     "execution_count": 5,
     "metadata": {},
     "output_type": "execute_result"
    }
   ],
   "source": [
    "posts"
   ]
  },
  {
   "cell_type": "code",
   "execution_count": 19,
   "metadata": {},
   "outputs": [],
   "source": [
    "posts.to_csv(\"haruehauhesfuf.csv\", index=False)"
   ]
  },
  {
   "cell_type": "code",
   "execution_count": 8,
   "metadata": {},
   "outputs": [
    {
     "name": "stdout",
     "output_type": "stream",
     "text": [
      "cibai\n",
      "Rendering Explore Page |===================>|\n",
      "Searching for redundancies and filtering to at most 10 posts...\n",
      "Completed!\n"
     ]
    },
    {
     "data": {
      "text/html": [
       "<div>\n",
       "<style scoped>\n",
       "    .dataframe tbody tr th:only-of-type {\n",
       "        vertical-align: middle;\n",
       "    }\n",
       "\n",
       "    .dataframe tbody tr th {\n",
       "        vertical-align: top;\n",
       "    }\n",
       "\n",
       "    .dataframe thead th {\n",
       "        text-align: right;\n",
       "    }\n",
       "</style>\n",
       "<table border=\"1\" class=\"dataframe\">\n",
       "  <thead>\n",
       "    <tr style=\"text-align: right;\">\n",
       "      <th></th>\n",
       "      <th>Twitter Username</th>\n",
       "      <th>Post</th>\n",
       "      <th>Date Posted</th>\n",
       "    </tr>\n",
       "  </thead>\n",
       "  <tbody>\n",
       "    <tr>\n",
       "      <th>0</th>\n",
       "      <td>@Anarchymetal666</td>\n",
       "      <td>Puncanya sebab suami yg tak layan isteri denga...</td>\n",
       "      <td>Jun 10</td>\n",
       "    </tr>\n",
       "    <tr>\n",
       "      <th>1</th>\n",
       "      <td>@JE0NGJINR4K</td>\n",
       "      <td>HELLO ??? ANYBODY KNOW WHY ?? MY FRIEND (najh)...</td>\n",
       "      <td>Jun 10</td>\n",
       "    </tr>\n",
       "    <tr>\n",
       "      <th>2</th>\n",
       "      <td>@SUNGH4NBIN</td>\n",
       "      <td>cant stop myself, i just can say cibai for all...</td>\n",
       "      <td>45m</td>\n",
       "    </tr>\n",
       "    <tr>\n",
       "      <th>3</th>\n",
       "      <td>@andydengerousj</td>\n",
       "      <td>LMAO what a joke reff decision. Then the cam l...</td>\n",
       "      <td>Jun 3</td>\n",
       "    </tr>\n",
       "    <tr>\n",
       "      <th>4</th>\n",
       "      <td>@ashliu_0929</td>\n",
       "      <td>Most Malaysians can understand at least 3 lang...</td>\n",
       "      <td>Jun 10</td>\n",
       "    </tr>\n",
       "    <tr>\n",
       "      <th>5</th>\n",
       "      <td>@cutiePootooti</td>\n",
       "      <td>Kadang2 aku rase mcm org gune kan aku,like I’m...</td>\n",
       "      <td>Jun 8</td>\n",
       "    </tr>\n",
       "    <tr>\n",
       "      <th>6</th>\n",
       "      <td>@euphofya_</td>\n",
       "      <td>CIBAI LA KNETZ</td>\n",
       "      <td>2h</td>\n",
       "    </tr>\n",
       "    <tr>\n",
       "      <th>7</th>\n",
       "      <td>@faqihsyakiran</td>\n",
       "      <td>aku baru cuci la cibai punai sapa pancut sepah...</td>\n",
       "      <td>Jun 5</td>\n",
       "    </tr>\n",
       "    <tr>\n",
       "      <th>8</th>\n",
       "      <td>@honkshumimi</td>\n",
       "      <td>english is so weak and im so unfazed with thei...</td>\n",
       "      <td>Jun 11</td>\n",
       "    </tr>\n",
       "    <tr>\n",
       "      <th>9</th>\n",
       "      <td>@itjustempty</td>\n",
       "      <td>Camni tak kena banned lak aku ni baru nak berc...</td>\n",
       "      <td>Jun 3</td>\n",
       "    </tr>\n",
       "  </tbody>\n",
       "</table>\n",
       "</div>"
      ],
      "text/plain": [
       "   Twitter Username                                               Post  \\\n",
       "0  @Anarchymetal666  Puncanya sebab suami yg tak layan isteri denga...   \n",
       "1      @JE0NGJINR4K  HELLO ??? ANYBODY KNOW WHY ?? MY FRIEND (najh)...   \n",
       "2       @SUNGH4NBIN  cant stop myself, i just can say cibai for all...   \n",
       "3   @andydengerousj  LMAO what a joke reff decision. Then the cam l...   \n",
       "4      @ashliu_0929  Most Malaysians can understand at least 3 lang...   \n",
       "5    @cutiePootooti  Kadang2 aku rase mcm org gune kan aku,like I’m...   \n",
       "6        @euphofya_                                     CIBAI LA KNETZ   \n",
       "7    @faqihsyakiran  aku baru cuci la cibai punai sapa pancut sepah...   \n",
       "8      @honkshumimi  english is so weak and im so unfazed with thei...   \n",
       "9      @itjustempty  Camni tak kena banned lak aku ni baru nak berc...   \n",
       "\n",
       "  Date Posted  \n",
       "0      Jun 10  \n",
       "1      Jun 10  \n",
       "2         45m  \n",
       "3       Jun 3  \n",
       "4      Jun 10  \n",
       "5       Jun 8  \n",
       "6          2h  \n",
       "7       Jun 5  \n",
       "8      Jun 11  \n",
       "9       Jun 3  "
      ]
     },
     "execution_count": 8,
     "metadata": {},
     "output_type": "execute_result"
    }
   ],
   "source": [
    "scraper.get_posts(query=\"cibai\")"
   ]
  },
  {
   "cell_type": "code",
   "execution_count": 15,
   "metadata": {},
   "outputs": [
    {
     "data": {
      "text/html": [
       "<div>\n",
       "<style scoped>\n",
       "    .dataframe tbody tr th:only-of-type {\n",
       "        vertical-align: middle;\n",
       "    }\n",
       "\n",
       "    .dataframe tbody tr th {\n",
       "        vertical-align: top;\n",
       "    }\n",
       "\n",
       "    .dataframe thead th {\n",
       "        text-align: right;\n",
       "    }\n",
       "</style>\n",
       "<table border=\"1\" class=\"dataframe\">\n",
       "  <thead>\n",
       "    <tr style=\"text-align: right;\">\n",
       "      <th></th>\n",
       "      <th>Twitter Username</th>\n",
       "      <th>Post</th>\n",
       "      <th>Date Posted</th>\n",
       "    </tr>\n",
       "  </thead>\n",
       "  <tbody>\n",
       "    <tr>\n",
       "      <th>0</th>\n",
       "      <td>@AAlexreds</td>\n",
       "      <td>Rafizi is so quiet post pru15. Dont know if he...</td>\n",
       "      <td>Nov 30, 2022</td>\n",
       "    </tr>\n",
       "    <tr>\n",
       "      <th>1</th>\n",
       "      <td>@Arvinn007</td>\n",
       "      <td>Whole world : Who’s gonna win world cup \\n\\nMa...</td>\n",
       "      <td>Nov 22, 2022</td>\n",
       "    </tr>\n",
       "    <tr>\n",
       "      <th>2</th>\n",
       "      <td>@FirdausAzil</td>\n",
       "      <td>8.95M (PRU14) v 42.5M (PRU15).\\n\\nI really hav...</td>\n",
       "      <td>Nov 26, 2022</td>\n",
       "    </tr>\n",
       "    <tr>\n",
       "      <th>3</th>\n",
       "      <td>@MamaTeez_</td>\n",
       "      <td>Just remember when all the reporters were wait...</td>\n",
       "      <td>Nov 22, 2022</td>\n",
       "    </tr>\n",
       "    <tr>\n",
       "      <th>4</th>\n",
       "      <td>@MaxHadid29</td>\n",
       "      <td>They didn’t promise results by 2pm, they said ...</td>\n",
       "      <td>Dec 7, 2022</td>\n",
       "    </tr>\n",
       "    <tr>\n",
       "      <th>5</th>\n",
       "      <td>@NatalieTH0211</td>\n",
       "      <td>In an ideal world, it would have been Pakatan ...</td>\n",
       "      <td>Nov 21, 2022</td>\n",
       "    </tr>\n",
       "    <tr>\n",
       "      <th>6</th>\n",
       "      <td>@SisKamilah</td>\n",
       "      <td>Either PN or PH leads this country.\\nPlease sh...</td>\n",
       "      <td>Nov 22, 2022</td>\n",
       "    </tr>\n",
       "    <tr>\n",
       "      <th>7</th>\n",
       "      <td>@Sreate18</td>\n",
       "      <td>If DSAI ever becomes the next PM, I am expecti...</td>\n",
       "      <td>Nov 23, 2022</td>\n",
       "    </tr>\n",
       "    <tr>\n",
       "      <th>8</th>\n",
       "      <td>@aidarazman</td>\n",
       "      <td>veet company sales after PRU15</td>\n",
       "      <td>Nov 22, 2022</td>\n",
       "    </tr>\n",
       "    <tr>\n",
       "      <th>9</th>\n",
       "      <td>@anwaqroslan</td>\n",
       "      <td>My father named me as Anwar a as a tribute for...</td>\n",
       "      <td>Nov 24, 2022</td>\n",
       "    </tr>\n",
       "    <tr>\n",
       "      <th>10</th>\n",
       "      <td>@cmyeen</td>\n",
       "      <td>@netflix interested in turning Malaysian polit...</td>\n",
       "      <td>Nov 22, 2022</td>\n",
       "    </tr>\n",
       "    <tr>\n",
       "      <th>11</th>\n",
       "      <td>@davidddodle</td>\n",
       "      <td>BREAKING NEWS\\n\\nThere's no news from Istana N...</td>\n",
       "      <td>Nov 22, 2022</td>\n",
       "    </tr>\n",
       "    <tr>\n",
       "      <th>12</th>\n",
       "      <td>@ibrahimsaninet</td>\n",
       "      <td>PTSD words for me since #PRU15:\\n1. “Kemelut”\\...</td>\n",
       "      <td>Nov 23, 2022</td>\n",
       "    </tr>\n",
       "    <tr>\n",
       "      <th>13</th>\n",
       "      <td>@ivankts</td>\n",
       "      <td>We voted from AM to PM,\\nWe waited from PM to ...</td>\n",
       "      <td>Nov 22, 2022</td>\n",
       "    </tr>\n",
       "    <tr>\n",
       "      <th>14</th>\n",
       "      <td>@khalidkarim</td>\n",
       "      <td>PRU15 should be about a RE-SET.</td>\n",
       "      <td>Nov 23, 2022</td>\n",
       "    </tr>\n",
       "    <tr>\n",
       "      <th>15</th>\n",
       "      <td>@moonjuice75</td>\n",
       "      <td>omg season finale final episode vibes #PRU15</td>\n",
       "      <td>Nov 22, 2022</td>\n",
       "    </tr>\n",
       "    <tr>\n",
       "      <th>16</th>\n",
       "      <td>@namasayahafiz</td>\n",
       "      <td>Untill it is official announcement I won't bel...</td>\n",
       "      <td>Nov 22, 2022</td>\n",
       "    </tr>\n",
       "    <tr>\n",
       "      <th>17</th>\n",
       "      <td>@nayRvong</td>\n",
       "      <td>Just like Manchester, Malaysia is Red #PRU15 #...</td>\n",
       "      <td>Nov 24, 2022</td>\n",
       "    </tr>\n",
       "    <tr>\n",
       "      <th>18</th>\n",
       "      <td>@rafiziramli</td>\n",
       "      <td>Kah3 opps PRU15.\\n\\nCepat ka Twitter introduce...</td>\n",
       "      <td>Dec 3, 2022</td>\n",
       "    </tr>\n",
       "    <tr>\n",
       "      <th>19</th>\n",
       "      <td>@sahasra_lochna</td>\n",
       "      <td>I wish Anniyan was real, like this people real...</td>\n",
       "      <td>Nov 21, 2022</td>\n",
       "    </tr>\n",
       "  </tbody>\n",
       "</table>\n",
       "</div>"
      ],
      "text/plain": [
       "   Twitter Username                                               Post  \\\n",
       "0        @AAlexreds  Rafizi is so quiet post pru15. Dont know if he...   \n",
       "1        @Arvinn007  Whole world : Who’s gonna win world cup \\n\\nMa...   \n",
       "2      @FirdausAzil  8.95M (PRU14) v 42.5M (PRU15).\\n\\nI really hav...   \n",
       "3        @MamaTeez_  Just remember when all the reporters were wait...   \n",
       "4       @MaxHadid29  They didn’t promise results by 2pm, they said ...   \n",
       "5    @NatalieTH0211  In an ideal world, it would have been Pakatan ...   \n",
       "6       @SisKamilah  Either PN or PH leads this country.\\nPlease sh...   \n",
       "7         @Sreate18  If DSAI ever becomes the next PM, I am expecti...   \n",
       "8       @aidarazman                    veet company sales after PRU15    \n",
       "9      @anwaqroslan  My father named me as Anwar a as a tribute for...   \n",
       "10          @cmyeen  @netflix interested in turning Malaysian polit...   \n",
       "11     @davidddodle  BREAKING NEWS\\n\\nThere's no news from Istana N...   \n",
       "12  @ibrahimsaninet  PTSD words for me since #PRU15:\\n1. “Kemelut”\\...   \n",
       "13         @ivankts  We voted from AM to PM,\\nWe waited from PM to ...   \n",
       "14     @khalidkarim                    PRU15 should be about a RE-SET.   \n",
       "15     @moonjuice75       omg season finale final episode vibes #PRU15   \n",
       "16   @namasayahafiz  Untill it is official announcement I won't bel...   \n",
       "17        @nayRvong  Just like Manchester, Malaysia is Red #PRU15 #...   \n",
       "18     @rafiziramli  Kah3 opps PRU15.\\n\\nCepat ka Twitter introduce...   \n",
       "19  @sahasra_lochna  I wish Anniyan was real, like this people real...   \n",
       "\n",
       "     Date Posted  \n",
       "0   Nov 30, 2022  \n",
       "1   Nov 22, 2022  \n",
       "2   Nov 26, 2022  \n",
       "3   Nov 22, 2022  \n",
       "4    Dec 7, 2022  \n",
       "5   Nov 21, 2022  \n",
       "6   Nov 22, 2022  \n",
       "7   Nov 23, 2022  \n",
       "8   Nov 22, 2022  \n",
       "9   Nov 24, 2022  \n",
       "10  Nov 22, 2022  \n",
       "11  Nov 22, 2022  \n",
       "12  Nov 23, 2022  \n",
       "13  Nov 22, 2022  \n",
       "14  Nov 23, 2022  \n",
       "15  Nov 22, 2022  \n",
       "16  Nov 22, 2022  \n",
       "17  Nov 24, 2022  \n",
       "18   Dec 3, 2022  \n",
       "19  Nov 21, 2022  "
      ]
     },
     "execution_count": 15,
     "metadata": {},
     "output_type": "execute_result"
    }
   ],
   "source": [
    "posts"
   ]
  },
  {
   "cell_type": "code",
   "execution_count": 27,
   "metadata": {},
   "outputs": [
    {
     "data": {
      "text/html": [
       "<div>\n",
       "<style scoped>\n",
       "    .dataframe tbody tr th:only-of-type {\n",
       "        vertical-align: middle;\n",
       "    }\n",
       "\n",
       "    .dataframe tbody tr th {\n",
       "        vertical-align: top;\n",
       "    }\n",
       "\n",
       "    .dataframe thead th {\n",
       "        text-align: right;\n",
       "    }\n",
       "</style>\n",
       "<table border=\"1\" class=\"dataframe\">\n",
       "  <thead>\n",
       "    <tr style=\"text-align: right;\">\n",
       "      <th></th>\n",
       "      <th>Twitter Username</th>\n",
       "      <th>Post</th>\n",
       "      <th>Date Posted</th>\n",
       "    </tr>\n",
       "  </thead>\n",
       "  <tbody>\n",
       "    <tr>\n",
       "      <th>0</th>\n",
       "      <td>@adamxile</td>\n",
       "      <td>Aik? Itu audit 2021, zaman PN abahcow. Apa pus...</td>\n",
       "      <td>Jun 7</td>\n",
       "    </tr>\n",
       "    <tr>\n",
       "      <th>1</th>\n",
       "      <td>@faizzz94</td>\n",
       "      <td>Abahcow , wan saiful janawibawa ada kes rasuah...</td>\n",
       "      <td>Jun 6</td>\n",
       "    </tr>\n",
       "    <tr>\n",
       "      <th>2</th>\n",
       "      <td>@BluCroozer</td>\n",
       "      <td>Not Syed Mokhtar bribing but more like Abahcow...</td>\n",
       "      <td>Jun 4</td>\n",
       "    </tr>\n",
       "    <tr>\n",
       "      <th>3</th>\n",
       "      <td>@MSAR53</td>\n",
       "      <td>Suh abahcow tu dtg je esok parlimen. Jgn nk be...</td>\n",
       "      <td>1h</td>\n",
       "    </tr>\n",
       "    <tr>\n",
       "      <th>4</th>\n",
       "      <td>@AnggunxXOXO</td>\n",
       "      <td>Bila mangkuk bodoh nak jugak komen.... gini la...</td>\n",
       "      <td>Jun 9</td>\n",
       "    </tr>\n",
       "    <tr>\n",
       "      <th>5</th>\n",
       "      <td>@adzdin</td>\n",
       "      <td>AG yang ada sekarang lantikan AbahCow juga kih...</td>\n",
       "      <td>Jun 6</td>\n",
       "    </tr>\n",
       "    <tr>\n",
       "      <th>6</th>\n",
       "      <td>@Mustang_Khan5</td>\n",
       "      <td>Why not invite abahcow?? Tercirit me</td>\n",
       "      <td>Jun 9</td>\n",
       "    </tr>\n",
       "    <tr>\n",
       "      <th>7</th>\n",
       "      <td>@m_iqone</td>\n",
       "      <td>Heran dn bangangnya yg abahcow ni jualah yg lo...</td>\n",
       "      <td>Jun 11</td>\n",
       "    </tr>\n",
       "    <tr>\n",
       "      <th>8</th>\n",
       "      <td>@sharizaliman_</td>\n",
       "      <td>macam abahcow</td>\n",
       "      <td>Jun 8</td>\n",
       "    </tr>\n",
       "    <tr>\n",
       "      <th>9</th>\n",
       "      <td>@SubcultureWear1</td>\n",
       "      <td>Dorgdh well plan time jd gov dlu, sbb tu tidak...</td>\n",
       "      <td>Jun 11</td>\n",
       "    </tr>\n",
       "    <tr>\n",
       "      <th>10</th>\n",
       "      <td>@adzdin</td>\n",
       "      <td>AG yang ada sekarang lantikan AbahCow juga kih...</td>\n",
       "      <td>Jun 6</td>\n",
       "    </tr>\n",
       "    <tr>\n",
       "      <th>11</th>\n",
       "      <td>@Mustang_Khan5</td>\n",
       "      <td>Why not invite abahcow?? Tercirit me</td>\n",
       "      <td>Jun 9</td>\n",
       "    </tr>\n",
       "    <tr>\n",
       "      <th>12</th>\n",
       "      <td>@m_iqone</td>\n",
       "      <td>Heran dn bangangnya yg abahcow ni jualah yg lo...</td>\n",
       "      <td>Jun 11</td>\n",
       "    </tr>\n",
       "    <tr>\n",
       "      <th>13</th>\n",
       "      <td>@sharizaliman_</td>\n",
       "      <td>macam abahcow</td>\n",
       "      <td>Jun 8</td>\n",
       "    </tr>\n",
       "    <tr>\n",
       "      <th>14</th>\n",
       "      <td>@SubcultureWear1</td>\n",
       "      <td>Dorgdh well plan time jd gov dlu, sbb tu tidak...</td>\n",
       "      <td>Jun 11</td>\n",
       "    </tr>\n",
       "    <tr>\n",
       "      <th>15</th>\n",
       "      <td>@mrSmith96522709</td>\n",
       "      <td>10ekok tu...lantak pi....kaki broker politik.....</td>\n",
       "      <td>Jun 8</td>\n",
       "    </tr>\n",
       "    <tr>\n",
       "      <th>16</th>\n",
       "      <td>@zaranbeta</td>\n",
       "      <td>Masa abahcow jadi PM rakyat malaysia banyak ma...</td>\n",
       "      <td>Jun 6</td>\n",
       "    </tr>\n",
       "    <tr>\n",
       "      <th>17</th>\n",
       "      <td>@Fiqirzainal</td>\n",
       "      <td>dahlah sakau duit, minyak subsidi simpan sendi...</td>\n",
       "      <td>Jun 6</td>\n",
       "    </tr>\n",
       "    <tr>\n",
       "      <th>18</th>\n",
       "      <td>@kamal_ganesan</td>\n",
       "      <td>Politik jijik paling busuk dimainkan Tun M, Ha...</td>\n",
       "      <td>Jun 8</td>\n",
       "    </tr>\n",
       "    <tr>\n",
       "      <th>19</th>\n",
       "      <td>@m_iqone</td>\n",
       "      <td>Dah cukup jumloo melebihi drp cekop....last ab...</td>\n",
       "      <td>Jun 4</td>\n",
       "    </tr>\n",
       "  </tbody>\n",
       "</table>\n",
       "</div>"
      ],
      "text/plain": [
       "    Twitter Username                                               Post  \\\n",
       "0          @adamxile  Aik? Itu audit 2021, zaman PN abahcow. Apa pus...   \n",
       "1          @faizzz94  Abahcow , wan saiful janawibawa ada kes rasuah...   \n",
       "2        @BluCroozer  Not Syed Mokhtar bribing but more like Abahcow...   \n",
       "3            @MSAR53  Suh abahcow tu dtg je esok parlimen. Jgn nk be...   \n",
       "4       @AnggunxXOXO  Bila mangkuk bodoh nak jugak komen.... gini la...   \n",
       "5            @adzdin  AG yang ada sekarang lantikan AbahCow juga kih...   \n",
       "6     @Mustang_Khan5               Why not invite abahcow?? Tercirit me   \n",
       "7           @m_iqone  Heran dn bangangnya yg abahcow ni jualah yg lo...   \n",
       "8     @sharizaliman_                                      macam abahcow   \n",
       "9   @SubcultureWear1  Dorgdh well plan time jd gov dlu, sbb tu tidak...   \n",
       "10           @adzdin  AG yang ada sekarang lantikan AbahCow juga kih...   \n",
       "11    @Mustang_Khan5               Why not invite abahcow?? Tercirit me   \n",
       "12          @m_iqone  Heran dn bangangnya yg abahcow ni jualah yg lo...   \n",
       "13    @sharizaliman_                                      macam abahcow   \n",
       "14  @SubcultureWear1  Dorgdh well plan time jd gov dlu, sbb tu tidak...   \n",
       "15  @mrSmith96522709  10ekok tu...lantak pi....kaki broker politik.....   \n",
       "16        @zaranbeta  Masa abahcow jadi PM rakyat malaysia banyak ma...   \n",
       "17      @Fiqirzainal  dahlah sakau duit, minyak subsidi simpan sendi...   \n",
       "18    @kamal_ganesan  Politik jijik paling busuk dimainkan Tun M, Ha...   \n",
       "19          @m_iqone  Dah cukup jumloo melebihi drp cekop....last ab...   \n",
       "\n",
       "   Date Posted  \n",
       "0        Jun 7  \n",
       "1        Jun 6  \n",
       "2        Jun 4  \n",
       "3           1h  \n",
       "4        Jun 9  \n",
       "5        Jun 6  \n",
       "6        Jun 9  \n",
       "7       Jun 11  \n",
       "8        Jun 8  \n",
       "9       Jun 11  \n",
       "10       Jun 6  \n",
       "11       Jun 9  \n",
       "12      Jun 11  \n",
       "13       Jun 8  \n",
       "14      Jun 11  \n",
       "15       Jun 8  \n",
       "16       Jun 6  \n",
       "17       Jun 6  \n",
       "18       Jun 8  \n",
       "19       Jun 4  "
      ]
     },
     "execution_count": 27,
     "metadata": {},
     "output_type": "execute_result"
    }
   ],
   "source": [
    "posts"
   ]
  },
  {
   "cell_type": "code",
   "execution_count": 22,
   "metadata": {},
   "outputs": [
    {
     "name": "stdout",
     "output_type": "stream",
     "text": [
      "User Existence Check |===================>|\n",
      "Loading Following List |===================>|\n",
      "Loading More Followings |===================>|\n",
      "Followings fetched: 7\n",
      "Searching for redundancies and filtering to at most 5 followings...\n",
      "Completed!\n"
     ]
    }
   ],
   "source": [
    "followings = scraper.fetch_followings(\"syedsaddiq\", limit=5)"
   ]
  },
  {
   "cell_type": "code",
   "execution_count": 23,
   "metadata": {},
   "outputs": [],
   "source": [
    "followings = [item.replace('@', '') for item in followings]"
   ]
  },
  {
   "cell_type": "code",
   "execution_count": 24,
   "metadata": {},
   "outputs": [
    {
     "name": "stdout",
     "output_type": "stream",
     "text": [
      "User Existence Check |===================>|\n",
      "Fetching User Info |================>...|\n",
      "User Existence Check |===================>|\n",
      "Fetching User Info |================>...|\n",
      "User Existence Check |===================>|\n",
      "Fetching User Info |================>...|\n",
      "User Existence Check |===================>|\n",
      "Fetching User Info |================>...|\n",
      "User Existence Check |===================>|\n",
      "Fetching User Info |================>...|\n"
     ]
    }
   ],
   "source": [
    "t = []\n",
    "for i in followings:\n",
    "    t.append(scraper.fetch_userinfo(i))"
   ]
  },
  {
   "cell_type": "code",
   "execution_count": 26,
   "metadata": {},
   "outputs": [
    {
     "data": {
      "text/plain": [
       "['drwanazizah', 'fmtoday', 'hannahyeoh', 'kuasasiswa', 'maszlee']"
      ]
     },
     "execution_count": 26,
     "metadata": {},
     "output_type": "execute_result"
    }
   ],
   "source": []
  }
 ],
 "metadata": {
  "kernelspec": {
   "display_name": "wix3002_assignment",
   "language": "python",
   "name": "python3"
  },
  "language_info": {
   "codemirror_mode": {
    "name": "ipython",
    "version": 3
   },
   "file_extension": ".py",
   "mimetype": "text/x-python",
   "name": "python",
   "nbconvert_exporter": "python",
   "pygments_lexer": "ipython3",
   "version": "3.9.6"
  },
  "orig_nbformat": 4
 },
 "nbformat": 4,
 "nbformat_minor": 2
}
