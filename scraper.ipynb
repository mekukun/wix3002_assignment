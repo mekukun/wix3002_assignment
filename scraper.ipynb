{
 "cells": [
  {
   "cell_type": "code",
   "execution_count": 1,
   "metadata": {},
   "outputs": [
    {
     "data": {
      "text/plain": [
       "True"
      ]
     },
     "execution_count": 1,
     "metadata": {},
     "output_type": "execute_result"
    }
   ],
   "source": [
    "import os \n",
    "from dotenv import load_dotenv\n",
    "import time\n",
    "import pandas\n",
    "load_dotenv('.env')"
   ]
  },
  {
   "cell_type": "code",
   "execution_count": 4,
   "metadata": {},
   "outputs": [
    {
     "name": "stdout",
     "output_type": "stream",
     "text": [
      "Hashed Password: e1a721a5eaeb88c12afb01cf9ceee776e1d57daa115d7b7ef4e81744b601a458\n"
     ]
    }
   ],
   "source": [
    "import hashlib\n",
    "\n",
    "password = r\"FACE%%ec%%ec75b\"\n",
    "\n",
    "# Create a SHA-256 hash object\n",
    "hash_object = hashlib.sha256()\n",
    "\n",
    "# Convert the password string to bytes and hash it\n",
    "hash_object.update(password.encode('utf-8'))\n",
    "\n",
    "# Get the hashed password as a hexadecimal string\n",
    "hashed_password = hash_object.hexdigest()\n",
    "\n",
    "print(\"Hashed Password:\", hashed_password)\n"
   ]
  }
 ],
 "metadata": {
  "kernelspec": {
   "display_name": "wix3002_assignment",
   "language": "python",
   "name": "python3"
  },
  "language_info": {
   "codemirror_mode": {
    "name": "ipython",
    "version": 3
   },
   "file_extension": ".py",
   "mimetype": "text/x-python",
   "name": "python",
   "nbconvert_exporter": "python",
   "pygments_lexer": "ipython3",
   "version": "3.9.6"
  },
  "orig_nbformat": 4
 },
 "nbformat": 4,
 "nbformat_minor": 2
}
