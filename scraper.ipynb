{
 "cells": [
  {
   "cell_type": "code",
   "execution_count": 36,
   "metadata": {},
   "outputs": [
    {
     "data": {
      "text/plain": [
       "True"
      ]
     },
     "execution_count": 36,
     "metadata": {},
     "output_type": "execute_result"
    }
   ],
   "source": [
    "import os \n",
    "from dotenv import load_dotenv\n",
    "import time\n",
    "import pandas\n",
    "import numpy as np\n",
    "load_dotenv('.env')"
   ]
  },
  {
   "cell_type": "code",
   "execution_count": 3,
   "metadata": {},
   "outputs": [],
   "source": [
    "from selenium import webdriver\n",
    "from selenium.webdriver.common.keys import Keys\n",
    "from selenium.webdriver.common.by import By\n",
    "\n",
    "\n",
    "# Create a Safari WebDriver instance\n",
    "driver = webdriver.Safari()\n",
    "\n",
    "# Set the window size\n",
    "driver.set_window_size(800, 600)\n",
    "\n",
    "# Navigate to the Twitter login page\n",
    "driver.get('https://twitter.com/login')\n",
    "time.sleep(3)\n",
    "\n",
    "# Find the username and password input fields and fill them with your login credentials\n",
    "username_input = driver.find_element(By.CSS_SELECTOR, 'input[name=\"text\"].r-30o5oe')\n",
    "for char in os.getenv('EMAIL'):\n",
    "    username_input.send_keys(char)\n",
    "    time.sleep(0.1)  # Adjust the sleep duration as desired (in seconds)\n",
    "    \n",
    "username_input.send_keys(Keys.ENTER)\n",
    "\n",
    "time.sleep(3)\n",
    "try:\n",
    "    phone_input = driver.find_element(By.CSS_SELECTOR, 'input[name=\"text\"].r-30o5oe')\n",
    "    for char in os.getenv('USERNAME'):\n",
    "        phone_input.send_keys(char)\n",
    "        time.sleep(0.1)  # Adjust the sleep duration as desired (in seconds)\n",
    "    \n",
    "    phone_input.send_keys(Keys.ENTER)\n",
    "    time.sleep(3)\n",
    "except Exception as e:\n",
    "    print(e)\n",
    "    pass\n",
    "\n",
    "password_input = driver.find_element(By.CSS_SELECTOR, 'input[name=\"password\"].r-30o5oe')\n",
    "for char in os.getenv('PASSWORD'):\n",
    "    password_input.send_keys(char)\n",
    "    time.sleep(0.1)  # Adjust the sleep duration as desired (in seconds)\n",
    "\n",
    "# Submit the login form\n",
    "password_input.send_keys(Keys.ENTER)\n",
    "time.sleep(2)\n",
    "driver.get(\"https://twitter.com/anwaribrahim/following\")\n",
    "\n",
    "    \n",
    "# # Print the value in the console\n",
    "# driver.quit()\n"
   ]
  },
  {
   "cell_type": "code",
   "execution_count": 7,
   "metadata": {},
   "outputs": [],
   "source": [
    "def fetch_followers_followings():\n",
    "    # Find the elements and fetch the values\n",
    "    elements = driver.find_elements(By.CSS_SELECTOR, 'a[role=\"link\"] > div > div > span.css-901oao.css-16my406.r-poiln3.r-bcqeeo.r-qvutc0')\n",
    "    output = []\n",
    "    for element in elements:\n",
    "        value = element.text\n",
    "        if value != \"\" and value.startswith(\"@\"):\n",
    "            print(\"Following Fetched:\", value)\n",
    "            output.append(value)\n",
    "    \n",
    "    return output"
   ]
  },
  {
   "cell_type": "code",
   "execution_count": 51,
   "metadata": {},
   "outputs": [],
   "source": [
    "\n",
    "driver.get(\"https://twitter.com/anwaribrahim/following\")"
   ]
  },
  {
   "cell_type": "code",
   "execution_count": 52,
   "metadata": {},
   "outputs": [
    {
     "name": "stdout",
     "output_type": "stream",
     "text": [
      "Following Fetched: @501Awani\n",
      "Following Fetched: @hannahyeoh\n",
      "Following Fetched: @n_izzah\n",
      "Following Fetched: @drwanazizah\n",
      "Following Fetched: @maszlee\n",
      "Following Fetched: @fahmi_fadzil\n",
      "Following Fetched: @bernamadotcom\n",
      "Following Fetched: @AdamAdli\n",
      "Following Fetched: @mkini_bm\n",
      "Following Fetched: @malaysiakini\n",
      "Following Fetched: @chedetofficial\n",
      "Following Fetched: @guanenglim\n",
      "Following Fetched: @bumilangit\n",
      "Following Fetched: @AmirudinShari\n",
      "Following Fetched: @DrZahidHamidi\n",
      "Following Fetched: @jpmgov_\n",
      "Following Fetched: @TechmonQ\n",
      "Following Fetched: @aarun_dev\n",
      "Following Fetched: @anwarinterns\n",
      "Following Fetched: @FadhlinaSiddiq\n",
      "Following Fetched: @Tweetemon\n",
      "Following Fetched: @veren4ever\n",
      "Following Fetched: @PINS_Selangor\n",
      "Following Fetched: @AMKMalaysia\n",
      "Following Fetched: @zamhamzah\n",
      "Following Fetched: @bakhtiarm\n",
      "Following Fetched: @Dr_AzmanIsmail\n",
      "Following Fetched: @RusnahAluaiP136\n",
      "Following Fetched: @RowindyLawrence\n",
      "Following Fetched: @cheanchung\n",
      "Following Fetched: @hakarim_51\n",
      "Following Fetched: @JohariAbdul_MY\n",
      "Following Fetched: @KarupaiyaP017\n",
      "Following Fetched: @romieromaizi\n",
      "Following Fetched: @edyesdotcom\n",
      "Following Fetched: @intifada\n",
      "Following Fetched: @JuneLeow_HS\n",
      "Following Fetched: @getaranmy\n",
      "Following Fetched: @Nurin_Aina11\n",
      "Following Fetched: @juezulkifli\n",
      "Following Fetched: @KarupaiyaP017\n",
      "Following Fetched: @romieromaizi\n",
      "Following Fetched: @edyesdotcom\n",
      "Following Fetched: @intifada\n",
      "Following Fetched: @JuneLeow_HS\n",
      "Following Fetched: @getaranmy\n",
      "Following Fetched: @Nurin_Aina11\n",
      "Following Fetched: @juezulkifli\n",
      "Following Fetched: @AbdullahSani_MY\n",
      "Following Fetched: @_alffashrff\n",
      "Following Fetched: @KamalaHarris\n",
      "Following Fetched: @JoeBiden\n",
      "Following Fetched: @syafiq_mahdaly\n",
      "Following Fetched: @IsmailSabri60\n",
      "Following Fetched: @waiming81519502\n",
      "Following Fetched: @farhash_AK\n",
      "Following Fetched: @gunarajgeorge\n",
      "Following Fetched: @The_NewArab\n",
      "Following Fetched: @SERI_Malaysia\n",
      "Following Fetched: @WongChen_MY\n",
      "Following Fetched: @DayakDaily\n",
      "Following Fetched: @KroniRakyat\n",
      "Following Fetched: @NoorAminAhmad\n",
      "Following Fetched: @redfishstream\n",
      "Following Fetched: @keadilansarawak\n",
      "Following Fetched: @NeonTerbit\n",
      "Following Fetched: @WongChen_MY\n",
      "Following Fetched: @DayakDaily\n",
      "Following Fetched: @KroniRakyat\n",
      "Following Fetched: @NoorAminAhmad\n",
      "Following Fetched: @redfishstream\n",
      "Following Fetched: @keadilansarawak\n",
      "Following Fetched: @NeonTerbit\n",
      "Following Fetched: @newrepublic\n",
      "Following Fetched: @Firdaus_Alang\n",
      "Following Fetched: @IIITfriends\n",
      "Following Fetched: @melisa_idris\n",
      "Following Fetched: @SharaadKuttan\n",
      "Following Fetched: @mujahidrawa\n",
      "Following Fetched: @dapmalaysia\n",
      "Following Fetched: @chowkonyeow\n",
      "Following Fetched: @suarakeadilan99\n",
      "Following Fetched: @pakatanharapan_\n",
      "Following Fetched: @fakhrulrazi_m\n",
      "Following Fetched: @dochelmy\n",
      "Following Fetched: @mpportdickson\n",
      "Following Fetched: @AkyolinEnglish\n",
      "Following Fetched: @AbbyMartin\n",
      "Following Fetched: @japantimes\n",
      "Following Fetched: @HistoryToday\n",
      "Following Fetched: @AlMonitor\n"
     ]
    }
   ],
   "source": [
    "# Wait for the page to load\n",
    "# time.sleep(3.25)  # Adjust the sleep duration as necessary\n",
    "\n",
    "# Get initial page height\n",
    "last_height = driver.execute_script(\"return document.body.scrollHeight\")\n",
    "\n",
    "out = []\n",
    "lim = 69\n",
    "while len(out) < lim:\n",
    "    out.extend(fetch_followers_followings())\n",
    "    # Scroll down to the bottom\n",
    "    driver.execute_script(\"window.scrollTo(0, document.body.scrollHeight);\")\n",
    "\n",
    "    time.sleep(1.75)  # Adjust the sleep duration as necessary\n",
    "\n",
    "    # Calculate the new page height after scrolling\n",
    "    new_height = driver.execute_script(\"return document.body.scrollHeight\")\n",
    "\n",
    "    # Check if we have reached the end of the page\n",
    "    if new_height == last_height:\n",
    "        break\n",
    "\n",
    "    # Update the last recorded page height\n",
    "    last_height = new_height\n",
    "\n",
    "out = np.unique(np.array(out))[:lim]"
   ]
  },
  {
   "cell_type": "code",
   "execution_count": 54,
   "metadata": {},
   "outputs": [
    {
     "data": {
      "text/plain": [
       "14"
      ]
     },
     "execution_count": 54,
     "metadata": {},
     "output_type": "execute_result"
    }
   ],
   "source": [
    "len(out)"
   ]
  },
  {
   "cell_type": "code",
   "execution_count": 32,
   "metadata": {},
   "outputs": [
    {
     "data": {
      "text/plain": [
       "26"
      ]
     },
     "execution_count": 32,
     "metadata": {},
     "output_type": "execute_result"
    }
   ],
   "source": [
    "import numpy as np\n",
    "len(np.unique(np.array(out)))"
   ]
  },
  {
   "cell_type": "code",
   "execution_count": 49,
   "metadata": {},
   "outputs": [],
   "source": [
    "driver.get(\"https://twitter.com/explore\")"
   ]
  },
  {
   "cell_type": "code",
   "execution_count": 50,
   "metadata": {},
   "outputs": [],
   "source": [
    "query_input = driver.find_element(By.CSS_SELECTOR, 'input[data-testid=\"SearchBox_Search_Input\"]')"
   ]
  },
  {
   "cell_type": "code",
   "execution_count": 51,
   "metadata": {},
   "outputs": [],
   "source": [
    "for char in 'UMNO':\n",
    "    query_input.send_keys(char)\n",
    "    time.sleep(0.1)\n",
    "\n",
    "query_input.send_keys(Keys.ENTER)"
   ]
  },
  {
   "cell_type": "code",
   "execution_count": 54,
   "metadata": {},
   "outputs": [],
   "source": [
    "driver.execute_script(\"window.scrollTo(0, document.body.scrollHeight);\")"
   ]
  },
  {
   "cell_type": "code",
   "execution_count": 55,
   "metadata": {},
   "outputs": [
    {
     "name": "stdout",
     "output_type": "stream",
     "text": [
      "Author:  Monarkis\n",
      "Sorry Datuk Seri, UMNO akan bungkus this PRN. \n",
      "Precisely because of this. \n",
      "\n",
      "Wipe out. \n",
      "\n",
      "The writing is on the wall. \n",
      "You can’t put whipped cream and cherries  on shit and try to sell it as pudding. It’s still shit.\n",
      "--------------------------------------------------\n",
      "Author:  Free Malaysia Today\n",
      "…bukan sahaja untuk tujuan mentadbir negara tetapi juga dalam mendepani PRN di 6 buah negeri tidak lama lagi.\n",
      "\n",
      "\n",
      "--------------------------------------------------\n",
      "Author:  freemalaysiatoday.com\n",
      " \n",
      "\n",
      "--------------------------------------------------\n",
      "Author:  DAP apology or not, Umno Youth will help in election campaign\n",
      " \n",
      "\n",
      "5/5\n",
      "--------------------------------------------------\n",
      "Author:  Umno Youth chief Dr Akmal Saleh says an apology from DAP would, however, lower ‘tensions’ between the two parties.\n",
      "DAP apology or not, Umno Youth will help in election campaign  \n",
      "--------------------------------------------------\n",
      "Author:  Heisenberg\n",
      "PKR is the new UMNO, DAP is the new MCA, UMNO is the new PAN and PAN is... well.. a new Nobody.\n",
      "--------------------------------------------------\n",
      "Author:  The Malaysian Insight\n",
      "Speaker reprimands Syed Saddiq, defends LCS scandal motion rejection \n",
      "--------------------------------------------------\n",
      "Author:  themalaysianinsight.com\n",
      "https://thevibes.com/articles/news/94294/speaker-reprimands-syed-saddiq-defends-lcs-scandal-motion-rejection…\n",
      "--------------------------------------------------\n",
      "Author:  Zahid dan Anwar boleh bebas Najib, kata perwakilan Umno | The Malaysian Insight\n",
      " unbiased ? Seriously ?? That’s part of my tax money being thrown into a dismally corrupt project. Unbiased kononnya !\n",
      "--------------------------------------------------\n",
      "Author:  Najib perlu dibebaskan kerana bekas presiden Umno itu mampu perkuat kerajaan perpaduan, kata ketua Umno Bangi.\n",
      "Zahid dan Anwar boleh bebas Najib, kata perwakilan Umno\n",
      "--------------------------------------------------\n",
      "Author:  malaysiakini.com\n",
      "Grassroots believe Umno can win all state polls if Najib is free, says son\n",
      "--------------------------------------------------\n",
      "Author:  malaysiakini.com\n",
      "1. UMNO Youth members gathered outside the United States Embassy in Kuala Lumpur this afternoon, to protest against comedian Jocelyn Chia.\n",
      "\n",
      "They also submitted a memorandum of protest to the embassy.\n",
      "\n",
      "Several media report that over 100 people participated in the demonstration.\n",
      "--------------------------------------------------\n",
      "Author:  Grassroots believe Umno can win all state polls if Najib is free, says son\n",
      "1. UMNO Youth plans to hold a protest at the United States Embassy in Kuala Lumpur tomorrow, over comedian Jocelyn Chia’s jokes about Malaysia.\n",
      "\n",
      "UMNO Youth chief Akmal Saleh says he has also asked his exco members to make a police report against Chia. \n",
      "--------------------------------------------------\n",
      "Author:  He reasons this for the backing from the party to free Najib.\n",
      " twitter.com/NewsBFM/status…\n",
      "--------------------------------------------------\n"
     ]
    }
   ],
   "source": [
    "author = driver.find_elements(By.CSS_SELECTOR, 'a[role=\"link\"] > div > div > span.css-901oao.css-16my406.r-poiln3.r-bcqeeo.r-qvutc0 > span')\n",
    "span_elements = driver.find_elements(By.CSS_SELECTOR, 'div[data-testid=\"tweetText\"] > span.css-901oao.css-16my406.r-poiln3.r-bcqeeo.r-qvutc0')\n",
    "\n",
    "for element in zip(author, span_elements):\n",
    "    a = element[0].text\n",
    "    b = element[1].text\n",
    "    print(\"Author: \",a)\n",
    "    print(b)\n",
    "    print(50*\"-\")"
   ]
  }
 ],
 "metadata": {
  "kernelspec": {
   "display_name": "wix3002_assignment",
   "language": "python",
   "name": "python3"
  },
  "language_info": {
   "codemirror_mode": {
    "name": "ipython",
    "version": 3
   },
   "file_extension": ".py",
   "mimetype": "text/x-python",
   "name": "python",
   "nbconvert_exporter": "python",
   "pygments_lexer": "ipython3",
   "version": "3.9.6"
  },
  "orig_nbformat": 4
 },
 "nbformat": 4,
 "nbformat_minor": 2
}
