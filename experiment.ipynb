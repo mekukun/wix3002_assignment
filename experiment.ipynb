{
 "cells": [
  {
   "cell_type": "code",
   "execution_count": 1,
   "metadata": {},
   "outputs": [
    {
     "name": "stderr",
     "output_type": "stream",
     "text": [
      "/Users/waizwafiq/Documents/FSKTM/Semester 6/WIX3002 Social Informatics/wix3002_assignment/wix3002_assignment/lib/python3.9/site-packages/urllib3/__init__.py:34: NotOpenSSLWarning: urllib3 v2.0 only supports OpenSSL 1.1.1+, currently the 'ssl' module is compiled with 'LibreSSL 2.8.3'. See: https://github.com/urllib3/urllib3/issues/3020\n",
      "  warnings.warn(\n"
     ]
    },
    {
     "name": "stdout",
     "output_type": "stream",
     "text": [
      "                                                               "
     ]
    }
   ],
   "source": [
    "from scraper import Scraper\n",
    "\n",
    "scraper = Scraper()"
   ]
  },
  {
   "cell_type": "code",
   "execution_count": 2,
   "metadata": {},
   "outputs": [
    {
     "name": "stdout",
     "output_type": "stream",
     "text": [
      "                                                               "
     ]
    },
    {
     "data": {
      "text/plain": [
       "True"
      ]
     },
     "execution_count": 2,
     "metadata": {},
     "output_type": "execute_result"
    }
   ],
   "source": [
    "scraper.isUserExist(\"anwaribrahim\")"
   ]
  },
  {
   "cell_type": "code",
   "execution_count": 3,
   "metadata": {},
   "outputs": [
    {
     "name": "stdout",
     "output_type": "stream",
     "text": [
      "                                                               "
     ]
    },
    {
     "data": {
      "text/plain": [
       "{'name': 'Anwar Ibrahim',\n",
       " '@': '@anwaribrahim',\n",
       " 'bio': 'Perdana Menteri Malaysia ',\n",
       " 'userLocation': 'Malaysia',\n",
       " 'joinDate': 'Joined March 2007',\n",
       " 'verified': True,\n",
       " 'followers': '12.6K',\n",
       " 'followings': '1.8M'}"
      ]
     },
     "execution_count": 3,
     "metadata": {},
     "output_type": "execute_result"
    }
   ],
   "source": [
    "scraper.fetch_userinfo(\"anwaribrahim\")"
   ]
  },
  {
   "cell_type": "code",
   "execution_count": 60,
   "metadata": {},
   "outputs": [
    {
     "name": "stdout",
     "output_type": "stream",
     "text": [
      "Loading |===================>|\n",
      "Loading complete.\n"
     ]
    }
   ],
   "source": [
    "import time\n",
    "\n",
    "def loading_bar(duration):\n",
    "    total_width = 20\n",
    "    start_time = time.time()\n",
    "    end_time = start_time + duration\n",
    "\n",
    "    while time.time() < end_time:\n",
    "        elapsed_time = time.time() - start_time\n",
    "        progress = elapsed_time / duration\n",
    "        filled_width = int(total_width * progress)\n",
    "        remaining_width = total_width - filled_width - 1\n",
    "\n",
    "        bar = '|' + '=' * filled_width + ('>' if filled_width < total_width else '') + '.' * remaining_width + '|'\n",
    "        print(f'\\rLoading {bar}', end='')\n",
    "        time.sleep(0.1)\n",
    "\n",
    "    print('\\nLoading complete.')\n",
    "\n",
    "# Usage example: Loading bar for 5 seconds\n",
    "loading_bar(1.25)\n"
   ]
  },
  {
   "cell_type": "code",
   "execution_count": 5,
   "metadata": {},
   "outputs": [
    {
     "name": "stdout",
     "output_type": "stream",
     "text": [
      "                                                               Followers fetched: 1Followers fetched: 16Followers fetched: 46\n",
      "Searching for redundancies and filtering to at most 50 followers...\n",
      "Completed!\n"
     ]
    },
    {
     "data": {
      "text/plain": [
       "array(['@501Awani', '@AMIRMUSTAK37573', '@AdamAdli', '@Alexand40463640',\n",
       "       '@AnuarHani1', '@BadiAyah17902', '@BiiUncle', '@CollinsLis33382',\n",
       "       '@Debs17689077', '@EvoGloxk', '@FadYaacob', '@Fmn88547856',\n",
       "       '@GCCM_KDNSB', '@JcJess1078619', '@KrishnanEratha',\n",
       "       '@LiangTHKelvin', '@MYsinggahsini', '@MizzoMiza76', '@PROPHARMA19',\n",
       "       '@PerkemasMas', '@PiersonPanora', '@Renugaa17', '@S419523859S',\n",
       "       '@SyedSaddiq', '@VeronicaMu55134', '@WrightShei23654',\n",
       "       '@YogaletC13371', '@YunifaArim25657', '@_ohchloe', '@absqbco2',\n",
       "       '@afif_fiqry', '@ahmad64232_fuad', '@angelodolphin',\n",
       "       '@azizi_shukri4', '@bernamadotcom', '@bruitrrod', '@chel_deidre',\n",
       "       '@chinthp7598594', '@drwanazizah', '@egolden085', '@elmanatasya_',\n",
       "       '@engkuadlina_', '@epy_evans', '@fabatrence2010', '@fahmi_fadzil',\n",
       "       '@fara_far130', '@glaspvpercy', '@hannahyeoh', '@izzyjeeee',\n",
       "       '@ja36156'], dtype='<U16')"
      ]
     },
     "execution_count": 5,
     "metadata": {},
     "output_type": "execute_result"
    }
   ],
   "source": [
    "scraper.fetch_followers(\"anwaribrahim\")"
   ]
  },
  {
   "cell_type": "code",
   "execution_count": 2,
   "metadata": {},
   "outputs": [
    {
     "data": {
      "text/plain": [
       "True"
      ]
     },
     "execution_count": 2,
     "metadata": {},
     "output_type": "execute_result"
    }
   ],
   "source": [
    "import os \n",
    "from dotenv import load_dotenv\n",
    "import time\n",
    "import pandas\n",
    "import numpy as np\n",
    "load_dotenv('.env')"
   ]
  },
  {
   "attachments": {},
   "cell_type": "markdown",
   "metadata": {},
   "source": [
    "# Login"
   ]
  },
  {
   "cell_type": "code",
   "execution_count": 3,
   "metadata": {},
   "outputs": [],
   "source": [
    "from selenium import webdriver\n",
    "from selenium.webdriver.common.keys import Keys\n",
    "from selenium.webdriver.common.by import By\n",
    "\n",
    "\n",
    "# Create a Safari WebDriver instance\n",
    "driver = webdriver.Safari()\n",
    "\n",
    "# Set the window size\n",
    "driver.set_window_size(800, 600)\n",
    "\n",
    "# Navigate to the Twitter login page\n",
    "driver.get('https://twitter.com/login')\n",
    "time.sleep(3)\n",
    "\n",
    "# Find the username and password input fields and fill them with your login credentials\n",
    "username_input = driver.find_element(By.CSS_SELECTOR, 'input[name=\"text\"].r-30o5oe')\n",
    "for char in os.getenv('EMAIL'):\n",
    "    username_input.send_keys(char)\n",
    "    time.sleep(0.1)  # Adjust the sleep duration as desired (in seconds)\n",
    "    \n",
    "username_input.send_keys(Keys.ENTER)\n",
    "\n",
    "time.sleep(3)\n",
    "try:\n",
    "    phone_input = driver.find_element(By.CSS_SELECTOR, 'input[name=\"text\"].r-30o5oe')\n",
    "    for char in os.getenv('USERNAME'):\n",
    "        phone_input.send_keys(char)\n",
    "        time.sleep(0.1)  # Adjust the sleep duration as desired (in seconds)\n",
    "    \n",
    "    phone_input.send_keys(Keys.ENTER)\n",
    "    time.sleep(3)\n",
    "except Exception as e:\n",
    "    print(e)\n",
    "    pass\n",
    "\n",
    "password_input = driver.find_element(By.CSS_SELECTOR, 'input[name=\"password\"].r-30o5oe')\n",
    "for char in os.getenv('PASSWORD'):\n",
    "    password_input.send_keys(char)\n",
    "    time.sleep(0.1)  # Adjust the sleep duration as desired (in seconds)\n",
    "\n",
    "# Submit the login form\n",
    "password_input.send_keys(Keys.ENTER)\n",
    "time.sleep(2)\n",
    "driver.get(\"https://twitter.com/\")\n",
    "\n",
    "    \n",
    "# # Print the value in the console\n",
    "# driver.quit()\n"
   ]
  },
  {
   "cell_type": "code",
   "execution_count": 134,
   "metadata": {},
   "outputs": [],
   "source": [
    "def isUserExist(username):\n",
    "    driver.get(f\"https://twitter.com/{username}\")\n",
    "    time.sleep(2.25)\n",
    "    try:\n",
    "        driver.find_element(By.CSS_SELECTOR, 'div.css-1dbjc4n.r-1ifxtd0.r-ymttw5.r-ttdzmv > div[data-testid=\"UserName\"] > div > div > div > div > div')\n",
    "    except Exception as e:\n",
    "        print(\"No results found!\")\n",
    "        return False\n",
    "    \n",
    "    return True"
   ]
  },
  {
   "attachments": {},
   "cell_type": "markdown",
   "metadata": {},
   "source": [
    "# User Profile"
   ]
  },
  {
   "cell_type": "code",
   "execution_count": 116,
   "metadata": {},
   "outputs": [],
   "source": [
    "driver.get(f\"https://twitter.com/anwaribrahim\")"
   ]
  },
  {
   "cell_type": "code",
   "execution_count": 118,
   "metadata": {},
   "outputs": [
    {
     "data": {
      "text/plain": [
       "('Anwar Ibrahim', '@anwaribrahim')"
      ]
     },
     "execution_count": 118,
     "metadata": {},
     "output_type": "execute_result"
    }
   ],
   "source": [
    "name = driver.find_element(By.CSS_SELECTOR, 'div.css-1dbjc4n.r-1ifxtd0.r-ymttw5.r-ttdzmv > div[data-testid=\"UserName\"] > div > div > div > div > div')\n",
    "at = driver.find_element(By.CSS_SELECTOR, 'div.css-1dbjc4n.r-1ifxtd0.r-ymttw5.r-ttdzmv > div[data-testid=\"UserName\"] > div > div > div.css-1dbjc4n.r-1awozwy.r-18u37iz.r-1wbh5a2')\n",
    "\n",
    "name.text, at.text"
   ]
  },
  {
   "cell_type": "code",
   "execution_count": 119,
   "metadata": {},
   "outputs": [
    {
     "name": "stdout",
     "output_type": "stream",
     "text": [
      "Perdana Menteri Malaysia \n"
     ]
    }
   ],
   "source": [
    "try:\n",
    "    bio = driver.find_element(By.CSS_SELECTOR, 'div.css-1dbjc4n.r-1ifxtd0.r-ymttw5.r-ttdzmv > div.css-1dbjc4n.r-1adg3ll.r-6gpygo > div > div')\n",
    "    print(bio.text)\n",
    "except Exception as e:\n",
    "    print(\"No bio detected.\")"
   ]
  },
  {
   "cell_type": "code",
   "execution_count": 120,
   "metadata": {},
   "outputs": [
    {
     "name": "stdout",
     "output_type": "stream",
     "text": [
      "Malaysia\n",
      "Joined March 2007\n"
     ]
    }
   ],
   "source": [
    "try:\n",
    "    userLocation = driver.find_element(By.CSS_SELECTOR, 'div[data-testid=\"UserProfileHeader_Items\"] > span[data-testid=\"UserLocation\"]')\n",
    "    print(userLocation.text)\n",
    "except Exception as e:\n",
    "    print(\"No User Location stated\")\n",
    "\n",
    "try:\n",
    "    joindate = driver.find_element(By.CSS_SELECTOR, 'div[data-testid=\"UserProfileHeader_Items\"] > span[data-testid=\"UserJoinDate\"] > span')\n",
    "    print(joindate.text)\n",
    "except Exception as e:\n",
    "    print(\"No User Join Date stated\")"
   ]
  },
  {
   "cell_type": "code",
   "execution_count": 121,
   "metadata": {},
   "outputs": [
    {
     "name": "stdout",
     "output_type": "stream",
     "text": [
      "True\n"
     ]
    }
   ],
   "source": [
    "try:\n",
    "    verifiedCheck = driver.find_element(By.CSS_SELECTOR, 'div[aria-label=\"Provides details about verified accounts.\"]')\n",
    "    if verifiedCheck:\n",
    "        print(True)\n",
    "except Exception as e:\n",
    "    print(False)\n"
   ]
  },
  {
   "cell_type": "code",
   "execution_count": 122,
   "metadata": {},
   "outputs": [
    {
     "name": "stdout",
     "output_type": "stream",
     "text": [
      "1.8M\n"
     ]
    }
   ],
   "source": [
    "try:\n",
    "    followingsNum = driver.find_element(By.CSS_SELECTOR, 'div[class=\"css-1dbjc4n r-13awgt0 r-18u37iz r-1w6e6rj\"] > div[class=\"css-1dbjc4n\"] > a > span > span')\n",
    "    print(followingsNum.text)\n",
    "except Exception as e:\n",
    "    print(False)\n"
   ]
  },
  {
   "cell_type": "code",
   "execution_count": 123,
   "metadata": {},
   "outputs": [
    {
     "name": "stdout",
     "output_type": "stream",
     "text": [
      "12.6K\n"
     ]
    }
   ],
   "source": [
    "try:\n",
    "    followersNum = driver.find_element(By.CSS_SELECTOR, 'div[class=\"css-1dbjc4n r-13awgt0 r-18u37iz r-1w6e6rj\"] > div[class=\"css-1dbjc4n r-1mf7evn\"] > a > span > span')\n",
    "    print(followersNum.text)\n",
    "except Exception as e:\n",
    "    print(False)"
   ]
  },
  {
   "cell_type": "code",
   "execution_count": 135,
   "metadata": {},
   "outputs": [],
   "source": [
    "def fetch_userinfo(username):\n",
    "    # driver.get(f\"https://twitter.com/{username}\")\n",
    "    # time.sleep(2.25)\n",
    "    \n",
    "    if not isUserExist(username):\n",
    "        return\n",
    "\n",
    "    name = driver.find_element(By.CSS_SELECTOR, 'div.css-1dbjc4n.r-1ifxtd0.r-ymttw5.r-ttdzmv > div[data-testid=\"UserName\"] > div > div > div > div > div')\n",
    "    at = driver.find_element(By.CSS_SELECTOR, 'div.css-1dbjc4n.r-1ifxtd0.r-ymttw5.r-ttdzmv > div[data-testid=\"UserName\"] > div > div > div.css-1dbjc4n.r-1awozwy.r-18u37iz.r-1wbh5a2')\n",
    "    \n",
    "\n",
    "    try:\n",
    "        bio = driver.find_element(By.CSS_SELECTOR, 'div.css-1dbjc4n.r-1ifxtd0.r-ymttw5.r-ttdzmv > div.css-1dbjc4n.r-1adg3ll.r-6gpygo > div > div')\n",
    "        bioText = bio.text\n",
    "    except Exception as e:\n",
    "        bioText = None\n",
    "\n",
    "    try:\n",
    "        userLocation = driver.find_element(By.CSS_SELECTOR, 'div[data-testid=\"UserProfileHeader_Items\"] > span[data-testid=\"UserLocation\"]')\n",
    "        userLocationText = userLocation.text\n",
    "    except Exception as e:\n",
    "        userLocationText = None\n",
    "\n",
    "    try:\n",
    "        joinDate = driver.find_element(By.CSS_SELECTOR, 'div[data-testid=\"UserProfileHeader_Items\"] > span[data-testid=\"UserJoinDate\"] > span')\n",
    "        joinDateText = joinDate.text\n",
    "    except Exception as e:\n",
    "        joinDateText = None\n",
    "\n",
    "    try:\n",
    "        verifiedCheck = driver.find_element(By.CSS_SELECTOR, 'div[aria-label=\"Provides details about verified accounts.\"]')\n",
    "        if verifiedCheck:\n",
    "            verified = True\n",
    "    except Exception as e:\n",
    "        verified = False\n",
    "\n",
    "    result = {\n",
    "        'name': name.text,\n",
    "        '@': at.text,\n",
    "        'bio': bioText,\n",
    "        'userLocation': userLocationText,\n",
    "        'joinDate': joinDateText,\n",
    "        'verified': verified\n",
    "    }\n",
    "\n",
    "    return result"
   ]
  },
  {
   "cell_type": "code",
   "execution_count": 137,
   "metadata": {},
   "outputs": [
    {
     "data": {
      "text/plain": [
       "{'name': 'Waiz Wafiq',\n",
       " '@': '@mwaizwafiq',\n",
       " 'bio': None,\n",
       " 'userLocation': None,\n",
       " 'joinDate': None,\n",
       " 'verified': False}"
      ]
     },
     "execution_count": 137,
     "metadata": {},
     "output_type": "execute_result"
    }
   ],
   "source": [
    "fetch_userinfo(\"mwaizwafiq\")"
   ]
  },
  {
   "attachments": {},
   "cell_type": "markdown",
   "metadata": {},
   "source": [
    "# Followers & Followings"
   ]
  },
  {
   "cell_type": "code",
   "execution_count": 147,
   "metadata": {},
   "outputs": [],
   "source": [
    "def fetch_followers(username, limit=50):\n",
    "    if not isUserExist(username):\n",
    "        return\n",
    "\n",
    "    # Go to the username's followers list\n",
    "    driver.get(f\"https://twitter.com/{username}/followers\")\n",
    "\n",
    "    # Wait for the page to load\n",
    "    time.sleep(2.5)  # Adjust the sleep duration as necessary\n",
    "\n",
    "    # Get initial page height\n",
    "    last_height = driver.execute_script(\"return document.body.scrollHeight\")\n",
    "\n",
    "    out = []\n",
    "    count = 0\n",
    "    while len(out) < limit:\n",
    "\n",
    "        # Find the elements and fetch the values\n",
    "        elements = driver.find_elements(By.CSS_SELECTOR, 'a[role=\"link\"] > div > div > span.css-901oao.css-16my406.r-poiln3.r-bcqeeo.r-qvutc0')\n",
    "\n",
    "        output = []\n",
    "        for element in elements:\n",
    "            value = element.text\n",
    "            if value != \"\" and value.startswith(\"@\"):\n",
    "                # print(\"Followers Fetched:\", value)\n",
    "                count+=1\n",
    "                print(f\"Followers fetched: {count}\", end='', flush=True)\n",
    "                output.append(value)\n",
    "                print(\"\\r\", end='', flush=True)\n",
    "\n",
    "        out.extend(output)\n",
    "\n",
    "        # Scroll down to the bottom\n",
    "        driver.execute_script(\"window.scrollTo(0, document.body.scrollHeight);\")\n",
    "\n",
    "        time.sleep(2.25)  # Adjust the sleep duration as necessary (to mimic human behaviour)\n",
    "\n",
    "        # Calculate the new page height after scrolling\n",
    "        new_height = driver.execute_script(\"return document.body.scrollHeight\")\n",
    "\n",
    "        # Check if we have reached the end of the page\n",
    "        if new_height == last_height:\n",
    "            break\n",
    "\n",
    "        # Update the last recorded page height\n",
    "        last_height = new_height\n",
    "\n",
    "    print('\\r')\n",
    "    print(f\"Searching for redundancies and filtering to at most {limit} followers...\")\n",
    "    print(\"Completed!\")\n",
    "    return np.unique(np.array(out))[:limit]"
   ]
  },
  {
   "cell_type": "code",
   "execution_count": 146,
   "metadata": {},
   "outputs": [],
   "source": [
    "def fetch_followings(username, limit = 50):\n",
    "    if not isUserExist(username):\n",
    "        return\n",
    "    \n",
    "    # Go to the username's followers list\n",
    "    driver.get(f\"https://twitter.com/{username}/following\")\n",
    "\n",
    "    # Wait for the page to load\n",
    "    time.sleep(2.5)  # Adjust the sleep duration as necessary\n",
    "\n",
    "    # Get initial page height\n",
    "    last_height = driver.execute_script(\"return document.body.scrollHeight\")\n",
    "\n",
    "    out = []\n",
    "    count = 0\n",
    "    while len(out) < limit:\n",
    "\n",
    "        # Find the elements and fetch the values\n",
    "        elements = driver.find_elements(By.CSS_SELECTOR, 'a[role=\"link\"] > div > div > span.css-901oao.css-16my406.r-poiln3.r-bcqeeo.r-qvutc0')\n",
    "\n",
    "        output = []\n",
    "        for element in elements:\n",
    "            value = element.text\n",
    "            if value != \"\" and value.startswith(\"@\"):\n",
    "                # print(\"Followers Fetched:\", value)\n",
    "                count+=1\n",
    "                print(f\"Followings fetched: {count}\", end='', flush=True)\n",
    "                output.append(value)\n",
    "                print(\"\\r\", end='', flush=True)\n",
    "\n",
    "        out.extend(output)\n",
    "\n",
    "        # Scroll down to the bottom\n",
    "        driver.execute_script(\"window.scrollTo(0, document.body.scrollHeight);\")\n",
    "\n",
    "        time.sleep(2.25)  # Adjust the sleep duration as necessary (to mimic human behaviour)\n",
    "\n",
    "        # Calculate the new page height after scrolling\n",
    "        new_height = driver.execute_script(\"return document.body.scrollHeight\")\n",
    "\n",
    "        # Check if we have reached the end of the page\n",
    "        if new_height == last_height:\n",
    "            break\n",
    "\n",
    "        # Update the last recorded page height\n",
    "        last_height = new_height\n",
    "\n",
    "    print('\\r')\n",
    "    print(f\"Searching for redundancies and filtering to at most {limit} followings...\")\n",
    "    print(\"Completed!\")\n",
    "    return np.unique(np.array(out))[:limit]"
   ]
  },
  {
   "cell_type": "code",
   "execution_count": 142,
   "metadata": {},
   "outputs": [
    {
     "name": "stdout",
     "output_type": "stream",
     "text": [
      "Followers fetched: 7\n",
      "Searching for redundancies and filtering to at most 5 followers...\n",
      "Completed!\n"
     ]
    }
   ],
   "source": [
    "followers = fetch_followers(\"anwaribrahim\", limit=5)"
   ]
  },
  {
   "cell_type": "code",
   "execution_count": 143,
   "metadata": {},
   "outputs": [
    {
     "data": {
      "text/plain": [
       "array(['@501Awani', '@SyedSaddiq', '@afif_fiqry', '@engkuadlina_',\n",
       "       '@kuasasiswa'], dtype='<U13')"
      ]
     },
     "execution_count": 143,
     "metadata": {},
     "output_type": "execute_result"
    }
   ],
   "source": [
    "followers"
   ]
  },
  {
   "cell_type": "code",
   "execution_count": 149,
   "metadata": {},
   "outputs": [
    {
     "name": "stdout",
     "output_type": "stream",
     "text": [
      "Followings fetched: 40\n",
      "Searching for redundancies and filtering to at most 23 followings...\n",
      "Completed!\n"
     ]
    }
   ],
   "source": [
    "followings = fetch_followings(\"anwaribrahim\", limit=23)"
   ]
  },
  {
   "cell_type": "code",
   "execution_count": 150,
   "metadata": {},
   "outputs": [
    {
     "name": "stdout",
     "output_type": "stream",
     "text": [
      "23\n"
     ]
    },
    {
     "data": {
      "text/plain": [
       "array(['@501Awani', '@AMKMalaysia', '@AdamAdli', '@AmirudinShari',\n",
       "       '@DrZahidHamidi', '@Dr_AzmanIsmail', '@FadhlinaSiddiq',\n",
       "       '@JohariAbdul_MY', '@JuneLeow_HS', '@KarupaiyaP017',\n",
       "       '@Nurin_Aina11', '@PINS_Selangor', '@RowindyLawrence',\n",
       "       '@RusnahAluaiP136', '@TechmonQ', '@Tweetemon', '@aarun_dev',\n",
       "       '@anwarinterns', '@bakhtiarm', '@bernamadotcom', '@bumilangit',\n",
       "       '@cheanchung', '@chedetofficial'], dtype='<U16')"
      ]
     },
     "execution_count": 150,
     "metadata": {},
     "output_type": "execute_result"
    }
   ],
   "source": [
    "print(len(followings))\n",
    "followings"
   ]
  },
  {
   "cell_type": "code",
   "execution_count": 64,
   "metadata": {},
   "outputs": [
    {
     "name": "stdout",
     "output_type": "stream",
     "text": [
      "Following Fetched: @tegmark\n",
      "Following Fetched: @PyTorch\n",
      "Following Fetched: @salkhanacademy\n",
      "Following Fetched: @karpathy\n",
      "Following Fetched: @OpenAI\n",
      "Following Fetched: @catshouldnt\n",
      "Following Fetched: @manim_community\n",
      "Following Fetched: @QuantaMagazine\n",
      "Following Fetched: @OtzdarvaYT\n",
      "Following Fetched: @davidjmalan\n",
      "Following Fetched: @readersdigest\n",
      "Following Fetched: @TechInsider\n",
      "Following Fetched: @msianinsight\n",
      "Following Fetched: @davidjmalan\n",
      "Following Fetched: @readersdigest\n",
      "Following Fetched: @TechInsider\n",
      "Following Fetched: @msianinsight\n",
      "Following Fetched: @theedgemalaysia\n",
      "Following Fetched: @BusinessInsider\n",
      "Following Fetched: @TheEconomist\n",
      "Following Fetched: @EdTech_K12\n",
      "Following Fetched: @EdTech_HigherEd\n",
      "Following Fetched: @3blue1brown\n",
      "Following Fetched: @hippopedoid\n",
      "Following Fetched: @Gartner_inc\n",
      "Following Fetched: @abacusai\n",
      "Following Fetched: @fjeslinaaa\n",
      "Following Fetched: @aimans_adam\n",
      "Following Fetched: @ExtremeBlitz__\n",
      "Following Fetched: @BreakingBadIrny\n"
     ]
    }
   ],
   "source": []
  },
  {
   "attachments": {},
   "cell_type": "markdown",
   "metadata": {},
   "source": [
    "# Explore"
   ]
  },
  {
   "cell_type": "code",
   "execution_count": 4,
   "metadata": {},
   "outputs": [],
   "source": [
    "driver.get(\"https://twitter.com/explore\")"
   ]
  },
  {
   "cell_type": "code",
   "execution_count": 5,
   "metadata": {},
   "outputs": [],
   "source": [
    "query_input = driver.find_element(By.CSS_SELECTOR, 'input[data-testid=\"SearchBox_Search_Input\"]')"
   ]
  },
  {
   "cell_type": "code",
   "execution_count": 6,
   "metadata": {},
   "outputs": [],
   "source": [
    "for char in 'UMNO':\n",
    "    query_input.send_keys(char)\n",
    "    time.sleep(0.1)\n",
    "\n",
    "query_input.send_keys(Keys.ENTER)"
   ]
  },
  {
   "cell_type": "code",
   "execution_count": 7,
   "metadata": {},
   "outputs": [
    {
     "data": {
      "text/plain": [
       "{'b': 2, 'c': 3, 'd': 'hello'}"
      ]
     },
     "execution_count": 7,
     "metadata": {},
     "output_type": "execute_result"
    }
   ],
   "source": [
    "def test(**a):\n",
    "    return a\n",
    "\n",
    "test(b=2, c=3, d=\"hello\")"
   ]
  },
  {
   "cell_type": "code",
   "execution_count": null,
   "metadata": {},
   "outputs": [],
   "source": [
    "a = \"ss\"\n",
    "a.star"
   ]
  },
  {
   "cell_type": "code",
   "execution_count": 107,
   "metadata": {},
   "outputs": [
    {
     "name": "stdout",
     "output_type": "stream",
     "text": [
      "UMNO \n",
      "Loading |===================>|\n",
      "Loading complete.\n"
     ]
    }
   ],
   "source": [
    "def generate_query(query, filters):\n",
    "    valid_filters = ['to:', 'from:', 'filter:nativeretweets', 'filter:replies', \n",
    "                     'filter:links','since:', 'until:', '-filter:',\n",
    "                     'min_retweets:', 'lang:en', 'filter:safe', 'min_faves:']\n",
    "\n",
    "    # Check if filters are provided\n",
    "    if filters is not None:\n",
    "        # Split the filters by space to handle multiple filters\n",
    "        filter_list = filters.split()\n",
    "\n",
    "        # Validate each filter\n",
    "        for f in filter_list:\n",
    "            # Check if the filter is valid\n",
    "            if not any(f.startswith(valid) for valid in valid_filters):\n",
    "                print(f\"Invalid filter: {f}\")\n",
    "                return ''\n",
    "            \n",
    "    # Return the formatted search query\n",
    "    return query + ' ' + filters if filters is not None else query\n",
    "\n",
    "def search(query, filters=None):\n",
    "    driver.get(\"https://twitter.com/explore\")\n",
    "    query = generate_query(query, filters)\n",
    "    print(query)\n",
    "\n",
    "    if query != '':\n",
    "        loading_bar(2.25)\n",
    "    query_input_element = driver.find_element(By.CSS_SELECTOR, 'input[data-testid=\"SearchBox_Search_Input\"]')\n",
    "\n",
    "    for char in query:\n",
    "        query_input_element.send_keys(char)\n",
    "        time.sleep(0.01)\n",
    "\n",
    "    query_input_element.send_keys(Keys.ENTER)\n",
    "\n",
    "query = \"UMNO\"\n",
    "filters = \"\"\n",
    "search(query, filters)\n"
   ]
  },
  {
   "cell_type": "code",
   "execution_count": 108,
   "metadata": {},
   "outputs": [
    {
     "data": {
      "text/plain": [
       "('Jason Yew', '@jasonyew', 'Jun 7')"
      ]
     },
     "execution_count": 108,
     "metadata": {},
     "output_type": "execute_result"
    }
   ],
   "source": [
    "elem = driver.find_element(By.CSS_SELECTOR, 'div[class=\"css-1dbjc4n r-1iusvr4 r-16y2uox r-1777fci r-kzbkwu\"] > div[class=\"css-1dbjc4n r-zl2h9q\"] > div > div > div > div > div')\n",
    "elem2 = driver.find_element(By.CSS_SELECTOR, 'div[class=\"css-1dbjc4n r-1iusvr4 r-16y2uox r-1777fci r-kzbkwu\"] > div[class=\"css-1dbjc4n r-zl2h9q\"] > div > div > div > div > div[class=\"css-1dbjc4n r-18u37iz r-1wbh5a2 r-13hce6t\"] > div > div[class=\"css-1dbjc4n r-1wbh5a2 r-dnmrzs\"]')\n",
    "elem3 = driver.find_element(By.CSS_SELECTOR, 'div[class=\"css-1dbjc4n r-1iusvr4 r-16y2uox r-1777fci r-kzbkwu\"] > div[class=\"css-1dbjc4n r-zl2h9q\"] > div > div > div > div > div[class=\"css-1dbjc4n r-18u37iz r-1wbh5a2 r-13hce6t\"] > div > div[class=\"css-1dbjc4n r-18u37iz r-1q142lx\"]')\n",
    "elem.text, elem2.text, elem3.text"
   ]
  },
  {
   "cell_type": "code",
   "execution_count": 178,
   "metadata": {},
   "outputs": [],
   "source": []
  },
  {
   "cell_type": "code",
   "execution_count": 162,
   "metadata": {},
   "outputs": [
    {
     "name": "stdout",
     "output_type": "stream",
     "text": [
      "UMNO \n",
      "Loading |===================>|\n",
      "Loading complete.\n"
     ]
    }
   ],
   "source": [
    "query = \"UMNO\"\n",
    "search(query, filters)"
   ]
  },
  {
   "cell_type": "code",
   "execution_count": 205,
   "metadata": {},
   "outputs": [
    {
     "data": {
      "text/plain": [
       "[['a', 'bcd'], ['p', '134']]"
      ]
     },
     "execution_count": 205,
     "metadata": {},
     "output_type": "execute_result"
    }
   ],
   "source": [
    "o = []\n",
    "r = [\"a\", \"bcd\"]\n",
    "k = [\"p\", \"134\"]\n",
    "o.append(r)\n",
    "o.append(k)\n",
    "o"
   ]
  },
  {
   "cell_type": "code",
   "execution_count": 236,
   "metadata": {},
   "outputs": [],
   "source": [
    "def get_posts(query, filters=None, limit=10):\n",
    "    search(query, filters)\n",
    "    # Get initial page height\n",
    "    last_height = driver.execute_script(\"return document.body.scrollHeight\")\n",
    "\n",
    "    out = []\n",
    "    count = 0\n",
    "    while len(out) < limit:\n",
    "\n",
    "        # Find the elements and fetch the values\n",
    "        author = driver.find_elements(By.CSS_SELECTOR, 'div[class=\"css-1dbjc4n r-1iusvr4 r-16y2uox r-1777fci r-kzbkwu\"] > div[class=\"css-1dbjc4n r-zl2h9q\"] > div > div > div > div > div[class=\"css-1dbjc4n r-18u37iz r-1wbh5a2 r-13hce6t\"] > div > div[class=\"css-1dbjc4n r-1wbh5a2 r-dnmrzs\"]')\n",
    "        caption = driver.find_elements(By.CSS_SELECTOR, 'div[class=\"css-1dbjc4n r-1iusvr4 r-16y2uox r-1777fci r-kzbkwu\"] > div[class=\"css-1dbjc4n\"] > div[class=\"css-901oao r-1nao33i r-37j5jr r-a023e6 r-16dba41 r-rjixqe r-bcqeeo r-bnwqim r-qvutc0\"]')\n",
    "        post_date = driver.find_elements(By.CSS_SELECTOR, 'div[class=\"css-1dbjc4n r-1iusvr4 r-16y2uox r-1777fci r-kzbkwu\"] > div[class=\"css-1dbjc4n r-zl2h9q\"] > div > div > div > div > div[class=\"css-1dbjc4n r-18u37iz r-1wbh5a2 r-13hce6t\"] > div > div[class=\"css-1dbjc4n r-18u37iz r-1q142lx\"]')\n",
    "\n",
    "        posts_per_scroll = []\n",
    "        for a, c, p in zip(author, caption, post_date):\n",
    "            aText = a.text\n",
    "            cText = c.text\n",
    "            pText = p.text\n",
    "            if aText!=\"\" and cText!=\"\" and pText!=\"\":\n",
    "                # print([aText, cText])\n",
    "                # print(value)\n",
    "                # print(100*\"-\")\n",
    "                count+=1\n",
    "                print(f\"Posts fetched: {count}\", end='', flush=True)\n",
    "                posts_per_scroll.append([aText, cText, pText])\n",
    "                print(\"\\r\", end='', flush=True)\n",
    "\n",
    "        # print(\"post per scroll:\")\n",
    "        # print(posts_per_scroll)\n",
    "        out.extend(posts_per_scroll)\n",
    "\n",
    "        # Scroll down to the bottom\n",
    "        driver.execute_script(\"window.scrollTo(0, document.body.scrollHeight);\")\n",
    "\n",
    "        time.sleep(2.25)  # Adjust the sleep duration as necessary (to mimic human behaviour)\n",
    "\n",
    "        # Calculate the new page height after scrolling\n",
    "        new_height = driver.execute_script(\"return document.body.scrollHeight\")\n",
    "\n",
    "        # Check if we have reached the end of the page\n",
    "        if new_height == last_height:\n",
    "            break\n",
    "\n",
    "        # Update the last recorded page height\n",
    "        last_height = new_height\n",
    "\n",
    "    return out[:limit]"
   ]
  },
  {
   "cell_type": "code",
   "execution_count": 259,
   "metadata": {},
   "outputs": [
    {
     "name": "stdout",
     "output_type": "stream",
     "text": [
      "UMNO since:2022-11-01 until:2022-12-01 -filter:links\n",
      "Loading |===================>|\n",
      "Loading complete.\n",
      "Posts fetched: 23\r"
     ]
    }
   ],
   "source": [
    "out = get_posts(query='UMNO', filters=\"since:2022-11-01 until:2022-12-01 -filter:links\", limit=23)"
   ]
  },
  {
   "cell_type": "code",
   "execution_count": 260,
   "metadata": {},
   "outputs": [
    {
     "data": {
      "text/html": [
       "<div>\n",
       "<style scoped>\n",
       "    .dataframe tbody tr th:only-of-type {\n",
       "        vertical-align: middle;\n",
       "    }\n",
       "\n",
       "    .dataframe tbody tr th {\n",
       "        vertical-align: top;\n",
       "    }\n",
       "\n",
       "    .dataframe thead th {\n",
       "        text-align: right;\n",
       "    }\n",
       "</style>\n",
       "<table border=\"1\" class=\"dataframe\">\n",
       "  <thead>\n",
       "    <tr style=\"text-align: right;\">\n",
       "      <th></th>\n",
       "      <th>0</th>\n",
       "      <th>1</th>\n",
       "      <th>2</th>\n",
       "    </tr>\n",
       "  </thead>\n",
       "  <tbody>\n",
       "    <tr>\n",
       "      <th>0</th>\n",
       "      <td>@adamkhairun_</td>\n",
       "      <td>Hahaha. How about this version\\n\\nAnwar lantik...</td>\n",
       "      <td>Nov 30, 2022</td>\n",
       "    </tr>\n",
       "    <tr>\n",
       "      <th>1</th>\n",
       "      <td>@saedah789</td>\n",
       "      <td>Fahmi is not like what you might think, he is ...</td>\n",
       "      <td>Nov 30, 2022</td>\n",
       "    </tr>\n",
       "    <tr>\n",
       "      <th>2</th>\n",
       "      <td>@lowcarbRani</td>\n",
       "      <td>They will find another scapegoat. I understood...</td>\n",
       "      <td>Nov 29, 2022</td>\n",
       "    </tr>\n",
       "    <tr>\n",
       "      <th>3</th>\n",
       "      <td>@ifahmiDLYD</td>\n",
       "      <td>Not much Anwar can do. But, if he can reform U...</td>\n",
       "      <td>Nov 30, 2022</td>\n",
       "    </tr>\n",
       "    <tr>\n",
       "      <th>4</th>\n",
       "      <td>@Kh0ngK3kKw4t</td>\n",
       "      <td>In other words, it's a lie \\nAll UMNO fellas &amp;...</td>\n",
       "      <td>Nov 29, 2022</td>\n",
       "    </tr>\n",
       "    <tr>\n",
       "      <th>5</th>\n",
       "      <td>@AfralAbdullah</td>\n",
       "      <td>1. Agong first proposed that 2 biggest block (...</td>\n",
       "      <td>Dec 1, 2022</td>\n",
       "    </tr>\n",
       "    <tr>\n",
       "      <th>6</th>\n",
       "      <td>@lfc_eddie</td>\n",
       "      <td>The late Tok Guru does live what he preached. ...</td>\n",
       "      <td>Nov 30, 2022</td>\n",
       "    </tr>\n",
       "    <tr>\n",
       "      <th>7</th>\n",
       "      <td>@Nodares1</td>\n",
       "      <td>Give it to gps.\\n\\nThen dsai needs to fulfill ...</td>\n",
       "      <td>Nov 29, 2022</td>\n",
       "    </tr>\n",
       "    <tr>\n",
       "      <th>8</th>\n",
       "      <td>@Kh0ngK3kKw4t</td>\n",
       "      <td>No worries - our expectations are low whn it c...</td>\n",
       "      <td>Nov 30, 2022</td>\n",
       "    </tr>\n",
       "  </tbody>\n",
       "</table>\n",
       "</div>"
      ],
      "text/plain": [
       "                0                                                  1  \\\n",
       "0   @adamkhairun_  Hahaha. How about this version\\n\\nAnwar lantik...   \n",
       "1      @saedah789  Fahmi is not like what you might think, he is ...   \n",
       "2    @lowcarbRani  They will find another scapegoat. I understood...   \n",
       "3     @ifahmiDLYD  Not much Anwar can do. But, if he can reform U...   \n",
       "4   @Kh0ngK3kKw4t  In other words, it's a lie \\nAll UMNO fellas &...   \n",
       "5  @AfralAbdullah  1. Agong first proposed that 2 biggest block (...   \n",
       "6      @lfc_eddie  The late Tok Guru does live what he preached. ...   \n",
       "7       @Nodares1  Give it to gps.\\n\\nThen dsai needs to fulfill ...   \n",
       "8   @Kh0ngK3kKw4t  No worries - our expectations are low whn it c...   \n",
       "\n",
       "              2  \n",
       "0  Nov 30, 2022  \n",
       "1  Nov 30, 2022  \n",
       "2  Nov 29, 2022  \n",
       "3  Nov 30, 2022  \n",
       "4  Nov 29, 2022  \n",
       "5   Dec 1, 2022  \n",
       "6  Nov 30, 2022  \n",
       "7  Nov 29, 2022  \n",
       "8  Nov 30, 2022  "
      ]
     },
     "execution_count": 260,
     "metadata": {},
     "output_type": "execute_result"
    }
   ],
   "source": [
    "import pandas as pd\n",
    "\n",
    "df = pd.DataFrame(out)\n",
    "df.head(9)"
   ]
  },
  {
   "cell_type": "code",
   "execution_count": 170,
   "metadata": {},
   "outputs": [
    {
     "name": "stdout",
     "output_type": "stream",
     "text": [
      "UMNO \n",
      "Loading |===================>|\n",
      "Loading complete.\n",
      "PH is now Officially Umno’s Accomplice in Stealing frm us!\n",
      "\n",
      "We have been Scammed by PH!\n",
      "----------------------------------------------------------------------------------------------------\n",
      "Apa @AnnuarMusa nak pusing lagi? \n",
      "\n",
      "Kata \"No Anwar No DAP No Bersatu\" selepas dibetulkan oleh penonton, tapi masih nak pusing lagi kata Ahli Parlimen UMNO sign SD sokong Mahiaddin sebab menghormati keputusan PAU \"No DAP\", yang \"No Bersatu\" tu macam mana pulak? \n",
      "\n",
      "#kakipusing\n",
      "----------------------------------------------------------------------------------------------------\n",
      "Berpuluh tahun dia maki UMNO, hina UMNO dan pemimpinnya, perkecilkan penyokong dan ahli UMNO, hari ini dia disambut seperti wira oleh Zahid Hamidi \n",
      "----------------------------------------------------------------------------------------------------\n",
      "After Umno Youth, now MCA Youth wants DAP to apologise too\n",
      "----------------------------------------------------------------------------------------------------\n",
      "It is UMNO who should apologise to the nation for decades of corruption, cronyism and abuse of power. They criticise the DAP but bestow convicted felon Najib with an award! And they want our support?\n",
      "----------------------------------------------------------------------------------------------------\n",
      "Stop attacking Umno from outside, Zahid tells sacked, suspended leaders\n",
      "----------------------------------------------------------------------------------------------------\n",
      "Could've worked for free as he was lucrative paid by ........\n",
      "\n",
      "But of course he didn't cos Umno are just greedy like that\n",
      "----------------------------------------------------------------------------------------------------\n",
      "Bila tengok benda mcmni, aku harap eloklah umno ni dikuburkan terus ja.\n",
      "----------------------------------------------------------------------------------------------------\n",
      "Why are you all so angry? He's got the same qualifications as the rest of them. They are all actors. \n",
      "\n",
      "Don't believe? Hannah Yeoh said before PM and FM shouldn't be the same person. Anwar said cronyism and UMNO are bad. But now they're all doing the opposite. Actors semua\n",
      "----------------------------------------------------------------------------------------------------\n",
      "Letting backstabbers return will destroy Umno, says Ku Li\n",
      "----------------------------------------------------------------------------------------------------\n",
      "Funny that this is coming from a party where its movement is known for demonstrations.\n",
      "\n",
      "@anwaribrahim and @AdamAdli were both student activists.\n",
      "\n",
      "Again, I stand by my belief that if PH weren't in the govt with UMNO with Zahid Hamidi as our DPM, you all would be making noise too\n",
      "----------------------------------------------------------------------------------------------------\n",
      "God help us; Malaysia is doomed!\n",
      "----------------------------------------------------------------------------------------------------\n",
      "Zahid says ‘no need’ after Umno Youth chief demands DAP apology to prove sincerity\n",
      "----------------------------------------------------------------------------------------------------\n",
      "KJ should return to Umno if he truly loves party, says youth wing chief\n",
      "https://thestar.com.my/news/nation/2023/06/10/kj-should-return-to-umno-if-he-truly-loves-party-says-youth-wing-chief…\n",
      "----------------------------------------------------------------------------------------------------\n",
      "Walaupon you dah masuk PAS\n",
      "Nanti bila mati, harap jemput tahlil yer\n",
      "Jangan dikafirkan pula org umno tu\n",
      "\n",
      "----------------------------------------------------------------------------------------------------\n",
      "Anwar Ibrahim for President UMNO. \n",
      "\n",
      "Here we go!\n",
      "----------------------------------------------------------------------------------------------------\n",
      "They showed love to him, yes but they especially the man in this video, don’t bother to bring Najib’s fipe to Pardon Board? Whereas he promised the family to release Najib after 1 week he he became UMNO president rite? Are you happy woth my non malay friends?\n",
      "----------------------------------------------------------------------------------------------------\n",
      "PKR kurang menyengat walaupun memimpin Kerajaan Perpaduan..\n",
      "\n",
      "UMNO ada Lokman Adam..\n",
      "\n",
      "PKR?\n",
      "\n",
      "Takkan semua sibuk dalam kerajaan...\n",
      "\n",
      "Siapa nak jaga Bukit Uhud?\n",
      "----------------------------------------------------------------------------------------------------\n",
      "UMNO still cannot get it. 1MDB is the peak of their looting the country!\n",
      "----------------------------------------------------------------------------------------------------\n",
      "PH should divorce Umno and work with GPS only. This party (Umno) is beyond salvage.\n",
      "----------------------------------------------------------------------------------------------------\n",
      "1MDB criminals corrupted the World. It is a never ending story of investigations all around the world. Stupid UMNO back home is still hero worshipping the mastermind Najib Razak!\n",
      "----------------------------------------------------------------------------------------------------\n",
      "Siang malam kafirkan umno last2 pege jgk bendera yg di kafirkan adakah sudah di sucikan \n",
      "----------------------------------------------------------------------------------------------------\n",
      "1 Vote for PH = 1 Vote for Thieves & Liars = 1 Vote for Umno\n",
      "----------------------------------------------------------------------------------------------------\n"
     ]
    },
    {
     "data": {
      "text/plain": [
       "['PH is now Officially Umno’s Accomplice in Stealing frm us!\\n\\nWe have been Scammed by PH!',\n",
       " 'Apa @AnnuarMusa nak pusing lagi? \\n\\nKata \"No Anwar No DAP No Bersatu\" selepas dibetulkan oleh penonton, tapi masih nak pusing lagi kata Ahli Parlimen UMNO sign SD sokong Mahiaddin sebab menghormati keputusan PAU \"No DAP\", yang \"No Bersatu\" tu macam mana pulak? \\n\\n#kakipusing',\n",
       " 'Berpuluh tahun dia maki UMNO, hina UMNO dan pemimpinnya, perkecilkan penyokong dan ahli UMNO, hari ini dia disambut seperti wira oleh Zahid Hamidi ',\n",
       " 'After Umno Youth, now MCA Youth wants DAP to apologise too',\n",
       " 'It is UMNO who should apologise to the nation for decades of corruption, cronyism and abuse of power. They criticise the DAP but bestow convicted felon Najib with an award! And they want our support?',\n",
       " 'Stop attacking Umno from outside, Zahid tells sacked, suspended leaders',\n",
       " \"Could've worked for free as he was lucrative paid by ........\\n\\nBut of course he didn't cos Umno are just greedy like that\",\n",
       " 'Bila tengok benda mcmni, aku harap eloklah umno ni dikuburkan terus ja.',\n",
       " \"Why are you all so angry? He's got the same qualifications as the rest of them. They are all actors. \\n\\nDon't believe? Hannah Yeoh said before PM and FM shouldn't be the same person. Anwar said cronyism and UMNO are bad. But now they're all doing the opposite. Actors semua\",\n",
       " 'Letting backstabbers return will destroy Umno, says Ku Li',\n",
       " \"Funny that this is coming from a party where its movement is known for demonstrations.\\n\\n@anwaribrahim and @AdamAdli were both student activists.\\n\\nAgain, I stand by my belief that if PH weren't in the govt with UMNO with Zahid Hamidi as our DPM, you all would be making noise too\",\n",
       " 'God help us; Malaysia is doomed!',\n",
       " 'Zahid says ‘no need’ after Umno Youth chief demands DAP apology to prove sincerity',\n",
       " 'KJ should return to Umno if he truly loves party, says youth wing chief\\nhttps://thestar.com.my/news/nation/2023/06/10/kj-should-return-to-umno-if-he-truly-loves-party-says-youth-wing-chief…',\n",
       " 'Walaupon you dah masuk PAS\\nNanti bila mati, harap jemput tahlil yer\\nJangan dikafirkan pula org umno tu\\n',\n",
       " 'Anwar Ibrahim for President UMNO. \\n\\nHere we go!',\n",
       " 'They showed love to him, yes but they especially the man in this video, don’t bother to bring Najib’s fipe to Pardon Board? Whereas he promised the family to release Najib after 1 week he he became UMNO president rite? Are you happy woth my non malay friends?',\n",
       " 'PKR kurang menyengat walaupun memimpin Kerajaan Perpaduan..\\n\\nUMNO ada Lokman Adam..\\n\\nPKR?\\n\\nTakkan semua sibuk dalam kerajaan...\\n\\nSiapa nak jaga Bukit Uhud?',\n",
       " 'UMNO still cannot get it. 1MDB is the peak of their looting the country!',\n",
       " 'PH should divorce Umno and work with GPS only. This party (Umno) is beyond salvage.',\n",
       " '1MDB criminals corrupted the World. It is a never ending story of investigations all around the world. Stupid UMNO back home is still hero worshipping the mastermind Najib Razak!',\n",
       " 'Siang malam kafirkan umno last2 pege jgk bendera yg di kafirkan adakah sudah di sucikan ',\n",
       " '1 Vote for PH = 1 Vote for Thieves & Liars = 1 Vote for Umno']"
      ]
     },
     "execution_count": 170,
     "metadata": {},
     "output_type": "execute_result"
    }
   ],
   "source": [
    "query = \"UMNO\"\n",
    "search(query, filters)\n",
    "\n",
    "# Get initial page height\n",
    "last_height = driver.execute_script(\"return document.body.scrollHeight\")\n",
    "\n",
    "out = []\n",
    "count = 0\n",
    "limit = 20\n",
    "while len(out) < limit:\n",
    "\n",
    "    # Find the elements and fetch the values\n",
    "    elements = driver.find_elements(By.CSS_SELECTOR, 'div[class=\"css-1dbjc4n r-1iusvr4 r-16y2uox r-1777fci r-kzbkwu\"] > div[class=\"css-1dbjc4n\"] > div[class=\"css-901oao r-1nao33i r-37j5jr r-a023e6 r-16dba41 r-rjixqe r-bcqeeo r-bnwqim r-qvutc0\"]')\n",
    "\n",
    "    output = []\n",
    "    for element in elements:\n",
    "        value = element.text\n",
    "        if value!=\"\":\n",
    "            print(value)\n",
    "            print(100*\"-\")\n",
    "            # print(\"Followers Fetched:\", value)\n",
    "            count+=1\n",
    "            # print(f\"Posts fetched: {count}\", end='', flush=True)\n",
    "            output.append(value)\n",
    "            # print(\"\\r\", end='', flush=True)\n",
    "\n",
    "    out.extend(output)\n",
    "\n",
    "    # Scroll down to the bottom\n",
    "    driver.execute_script(\"window.scrollTo(0, document.body.scrollHeight);\")\n",
    "\n",
    "    time.sleep(2.25)  # Adjust the sleep duration as necessary (to mimic human behaviour)\n",
    "\n",
    "    # Calculate the new page height after scrolling\n",
    "    new_height = driver.execute_script(\"return document.body.scrollHeight\")\n",
    "\n",
    "    # Check if we have reached the end of the page\n",
    "    if new_height == last_height:\n",
    "        break\n",
    "\n",
    "    # Update the last recorded page height\n",
    "    last_height = new_height\n",
    "\n",
    "out"
   ]
  },
  {
   "cell_type": "code",
   "execution_count": 177,
   "metadata": {},
   "outputs": [
    {
     "data": {
      "text/plain": [
       "23"
      ]
     },
     "execution_count": 177,
     "metadata": {},
     "output_type": "execute_result"
    }
   ],
   "source": [
    "len(np.unique(np.array(out)))"
   ]
  },
  {
   "cell_type": "code",
   "execution_count": 149,
   "metadata": {},
   "outputs": [
    {
     "data": {
      "text/plain": [
       "7"
      ]
     },
     "execution_count": 149,
     "metadata": {},
     "output_type": "execute_result"
    }
   ],
   "source": [
    "len(output)"
   ]
  },
  {
   "cell_type": "code",
   "execution_count": 142,
   "metadata": {},
   "outputs": [
    {
     "name": "stdout",
     "output_type": "stream",
     "text": [
      "Could've worked for free as he was lucrative paid by ........\n",
      "\n",
      "But of course he didn't cos Umno are just greedy like that False\n",
      "373517.2K True\n",
      "It is UMNO who should apologise to the nation for decades of corruption, cronyism and abuse of power. They criticise the DAP but bestow convicted felon Najib with an award! And they want our support? False\n",
      "4913836418.5K True\n",
      "Bila tengok benda mcmni, aku harap eloklah umno ni dikuburkan terus ja. False\n",
      "631,0151,902246.6K True\n",
      "Stop attacking Umno from outside, Zahid tells sacked, suspended leaders False\n",
      "12163412.2K True\n",
      "Seorang peguam mempersoalkan layanan berat sebelah terhadap Najib Razak selepas kenyataan seorang pemimpin Umno meluangkan masa hampir dua jam bersama bekas perdana menteri itu, dengan ditemani ahli Majlis Kerja Tertinggi (MKT) di Penjara Kajang, baru-baru ini.\n",
      "\n",
      "Rafique Rashid… Show more False\n",
      "526503,298 False\n",
      "25 years later: Anwar Ibrahim arrives at World Trade Centre Kuala Lumpur again but this time for Umno General Assembly 2023 as prime minister. False\n",
      "1481,166 False\n",
      "250,000,242 people died today False\n"
     ]
    }
   ],
   "source": [
    "import re\n",
    "\n",
    "original_list = [\"Could've worked for free as he was lucrative paid by ........\\n\\nBut of course he didn't cos Umno are just greedy like that\",\n",
    "                 '373517.2K',\n",
    "                 'It is UMNO who should apologise to the nation for decades of corruption, cronyism and abuse of power. They criticise the DAP but bestow convicted felon Najib with an award! And they want our support?',\n",
    "                 '4913836418.5K',\n",
    "                 'Bila tengok benda mcmni, aku harap eloklah umno ni dikuburkan terus ja.',\n",
    "                 '631,0151,902246.6K',\n",
    "                 'Stop attacking Umno from outside, Zahid tells sacked, suspended leaders',\n",
    "                 '12163412.2K',\n",
    "                 'Seorang peguam mempersoalkan layanan berat sebelah terhadap Najib Razak selepas kenyataan seorang pemimpin Umno meluangkan masa hampir dua jam bersama bekas perdana menteri itu, dengan ditemani ahli Majlis Kerja Tertinggi (MKT) di Penjara Kajang, baru-baru ini.\\n\\nRafique Rashid…\\xa0Show more',\n",
    "                 '526503,298',\n",
    "                 '25 years later: Anwar Ibrahim arrives at World Trade Centre Kuala Lumpur again but this time for Umno General Assembly 2023 as prime minister.',\n",
    "                 '1481,166',\n",
    "                 '250,000,242 people died today']\n",
    "\n",
    "\n",
    "def isWeird(text):\n",
    "    weird_number_regex = r'\\d[\\d,]*\\.\\d+K?'\n",
    "    weird_numbers = re.findall(weird_number_regex, text)\n",
    "    if weird_numbers:\n",
    "        return True\n",
    "    else:\n",
    "        return False\n",
    "\n",
    "for i in original_list:\n",
    "    print(i, isWeird(i))"
   ]
  },
  {
   "cell_type": "code",
   "execution_count": 54,
   "metadata": {},
   "outputs": [],
   "source": [
    "driver.execute_script(\"window.scrollTo(0, document.body.scrollHeight);\")"
   ]
  },
  {
   "cell_type": "code",
   "execution_count": 55,
   "metadata": {},
   "outputs": [
    {
     "name": "stdout",
     "output_type": "stream",
     "text": [
      "Author:  Monarkis\n",
      "Sorry Datuk Seri, UMNO akan bungkus this PRN. \n",
      "Precisely because of this. \n",
      "\n",
      "Wipe out. \n",
      "\n",
      "The writing is on the wall. \n",
      "You can’t put whipped cream and cherries  on shit and try to sell it as pudding. It’s still shit.\n",
      "--------------------------------------------------\n",
      "Author:  Free Malaysia Today\n",
      "…bukan sahaja untuk tujuan mentadbir negara tetapi juga dalam mendepani PRN di 6 buah negeri tidak lama lagi.\n",
      "\n",
      "\n",
      "--------------------------------------------------\n",
      "Author:  freemalaysiatoday.com\n",
      " \n",
      "\n",
      "--------------------------------------------------\n",
      "Author:  DAP apology or not, Umno Youth will help in election campaign\n",
      " \n",
      "\n",
      "5/5\n",
      "--------------------------------------------------\n",
      "Author:  Umno Youth chief Dr Akmal Saleh says an apology from DAP would, however, lower ‘tensions’ between the two parties.\n",
      "DAP apology or not, Umno Youth will help in election campaign  \n",
      "--------------------------------------------------\n",
      "Author:  Heisenberg\n",
      "PKR is the new UMNO, DAP is the new MCA, UMNO is the new PAN and PAN is... well.. a new Nobody.\n",
      "--------------------------------------------------\n",
      "Author:  The Malaysian Insight\n",
      "Speaker reprimands Syed Saddiq, defends LCS scandal motion rejection \n",
      "--------------------------------------------------\n",
      "Author:  themalaysianinsight.com\n",
      "https://thevibes.com/articles/news/94294/speaker-reprimands-syed-saddiq-defends-lcs-scandal-motion-rejection…\n",
      "--------------------------------------------------\n",
      "Author:  Zahid dan Anwar boleh bebas Najib, kata perwakilan Umno | The Malaysian Insight\n",
      " unbiased ? Seriously ?? That’s part of my tax money being thrown into a dismally corrupt project. Unbiased kononnya !\n",
      "--------------------------------------------------\n",
      "Author:  Najib perlu dibebaskan kerana bekas presiden Umno itu mampu perkuat kerajaan perpaduan, kata ketua Umno Bangi.\n",
      "Zahid dan Anwar boleh bebas Najib, kata perwakilan Umno\n",
      "--------------------------------------------------\n",
      "Author:  malaysiakini.com\n",
      "Grassroots believe Umno can win all state polls if Najib is free, says son\n",
      "--------------------------------------------------\n",
      "Author:  malaysiakini.com\n",
      "1. UMNO Youth members gathered outside the United States Embassy in Kuala Lumpur this afternoon, to protest against comedian Jocelyn Chia.\n",
      "\n",
      "They also submitted a memorandum of protest to the embassy.\n",
      "\n",
      "Several media report that over 100 people participated in the demonstration.\n",
      "--------------------------------------------------\n",
      "Author:  Grassroots believe Umno can win all state polls if Najib is free, says son\n",
      "1. UMNO Youth plans to hold a protest at the United States Embassy in Kuala Lumpur tomorrow, over comedian Jocelyn Chia’s jokes about Malaysia.\n",
      "\n",
      "UMNO Youth chief Akmal Saleh says he has also asked his exco members to make a police report against Chia. \n",
      "--------------------------------------------------\n",
      "Author:  He reasons this for the backing from the party to free Najib.\n",
      " twitter.com/NewsBFM/status…\n",
      "--------------------------------------------------\n"
     ]
    }
   ],
   "source": [
    "author = driver.find_elements(By.CSS_SELECTOR, 'a[role=\"link\"] > div > div > span.css-901oao.css-16my406.r-poiln3.r-bcqeeo.r-qvutc0 > span')\n",
    "span_elements = driver.find_elements(By.CSS_SELECTOR, 'div[data-testid=\"tweetText\"] > span.css-901oao.css-16my406.r-poiln3.r-bcqeeo.r-qvutc0')\n",
    "\n",
    "for element in zip(author, span_elements):\n",
    "    a = element[0].text\n",
    "    b = element[1].text\n",
    "    print(\"Author: \",a)\n",
    "    print(b)\n",
    "    print(50*\"-\")"
   ]
  }
 ],
 "metadata": {
  "kernelspec": {
   "display_name": "wix3002_assignment",
   "language": "python",
   "name": "python3"
  },
  "language_info": {
   "codemirror_mode": {
    "name": "ipython",
    "version": 3
   },
   "file_extension": ".py",
   "mimetype": "text/x-python",
   "name": "python",
   "nbconvert_exporter": "python",
   "pygments_lexer": "ipython3",
   "version": "3.9.6"
  },
  "orig_nbformat": 4
 },
 "nbformat": 4,
 "nbformat_minor": 2
}
